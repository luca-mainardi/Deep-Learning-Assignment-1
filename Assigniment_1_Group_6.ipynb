{
  "cells": [
    {
      "cell_type": "markdown",
      "id": "cc4f04c033b0e00",
      "metadata": {
        "collapsed": false,
        "id": "cc4f04c033b0e00"
      },
      "source": [
        "# Assignment 1 2AMM10 2023-2024\n",
        "\n",
        "## Group: [Group 6]\n",
        "### Member 1: [Luca Mainardi]\n",
        "### Member 2: [Francesco Brescia]\n",
        "### Member 3: [Matthew Nana]"
      ]
    },
    {
      "cell_type": "code",
      "execution_count": null,
      "id": "MHGRUKiDI58K",
      "metadata": {
        "colab": {
          "base_uri": "https://localhost:8080/"
        },
        "id": "MHGRUKiDI58K",
        "outputId": "0095e353-d916-44bd-ed2e-8d07097c0f37"
      },
      "outputs": [],
      "source": [
        "from google.colab import drive\n",
        "drive.mount('/content/drive')"
      ]
    },
    {
      "cell_type": "code",
      "execution_count": 5,
      "id": "fUIpaxmtH3uz",
      "metadata": {
        "id": "fUIpaxmtH3uz"
      },
      "outputs": [],
      "source": [
        "main_dir = '/content/drive/MyDrive/Assignment 1/'"
      ]
    },
    {
      "cell_type": "code",
      "execution_count": 2,
      "id": "0ed5889c",
      "metadata": {},
      "outputs": [],
      "source": [
        "main_dir=''"
      ]
    },
    {
      "cell_type": "code",
      "execution_count": 1,
      "id": "initial_id",
      "metadata": {
        "collapsed": true,
        "id": "initial_id"
      },
      "outputs": [],
      "source": [
        "import numpy as np\n",
        "import matplotlib.pyplot as plt\n",
        "import pickle"
      ]
    },
    {
      "cell_type": "code",
      "execution_count": 4,
      "id": "668e71f6",
      "metadata": {
        "id": "668e71f6"
      },
      "outputs": [],
      "source": [
        "# Variable to enable/disable training\n",
        "TRAIN_TRIPLET = True\n",
        "TRAIN_TRIPLET_ROTATION = True"
      ]
    },
    {
      "cell_type": "code",
      "execution_count": 3,
      "id": "d19b9de0e3461531",
      "metadata": {
        "id": "d19b9de0e3461531"
      },
      "outputs": [],
      "source": [
        "# function for loading the training data:\n",
        "\n",
        "def load_data(file):\n",
        "    \"\"\"\n",
        "    This function loads the data from the specified pickle file and returns a dictionary with the data\n",
        "    :param filename: the pickle file\n",
        "    :return: dict with data -- keys and values differ for the train data and test data for each task.\n",
        "     Please see the cells with example code below for explanations and examples of the data structure per data set.\n",
        "    \"\"\"\n",
        "    with open(file, 'rb') as f:\n",
        "        data_dict = pickle.load(f)\n",
        "    return data_dict"
      ]
    },
    {
      "cell_type": "code",
      "execution_count": 5,
      "id": "d0da60a825f5080b",
      "metadata": {
        "id": "d0da60a825f5080b"
      },
      "outputs": [],
      "source": [
        "train_data = load_data(main_dir + 'data/train_data.pkl')"
      ]
    },
    {
      "cell_type": "code",
      "execution_count": 6,
      "id": "289b9d9817ddf745",
      "metadata": {
        "colab": {
          "base_uri": "https://localhost:8080/"
        },
        "id": "289b9d9817ddf745",
        "outputId": "4c870448-6d6b-4ce3-c1d8-f478d528d4ad"
      },
      "outputs": [
        {
          "name": "stdout",
          "output_type": "stream",
          "text": [
            "example alphabet names: ['Alphabet_of_the_Magi', 'Anglo-Saxon_Futhorc', 'Arcadian', 'Armenian', 'Asomtavruli_(Georgian)']\n",
            "\n",
            "\n",
            "how to get an example image for a specific character:\n",
            "shape of image 2 of character character06 of alphabet Asomtavruli_(Georgian): torch.Size([1, 105, 105])\n"
          ]
        }
      ],
      "source": [
        "# the structure of the training data is a dict, where the keys are strings indicating the alphabet.\n",
        "# The values are again dicts, with the keys being the character and the values being a list of images of that character.\n",
        "\n",
        "# see the code below for examples of working with the train data\n",
        "\n",
        "alphabets = list(train_data.keys())\n",
        "\n",
        "\n",
        "print('example alphabet names:', alphabets[:5])\n",
        "print('\\n')\n",
        "print('how to get an example image for a specific character:')\n",
        "\n",
        "alphabet_id = 4\n",
        "alphabet = alphabets[alphabet_id]  # a dict\n",
        "characters_for_this_alphabet = list(train_data[alphabet].keys())\n",
        "character_id = 5\n",
        "character = characters_for_this_alphabet[character_id]\n",
        "image_id = 2\n",
        "\n",
        "print(f'shape of image {image_id} of character {character} of alphabet {alphabet}:', train_data[alphabet][character][image_id].shape)"
      ]
    },
    {
      "cell_type": "code",
      "execution_count": 7,
      "id": "581dbe01",
      "metadata": {
        "colab": {
          "base_uri": "https://localhost:8080/"
        },
        "id": "581dbe01",
        "outputId": "18ace3da-ddc7-41ca-e9c3-e4ffdbbe8bb0"
      },
      "outputs": [
        {
          "data": {
            "text/plain": [
              "30"
            ]
          },
          "execution_count": 7,
          "metadata": {},
          "output_type": "execute_result"
        }
      ],
      "source": [
        "len(alphabets)"
      ]
    },
    {
      "cell_type": "code",
      "execution_count": 8,
      "id": "f68bfac0812b8988",
      "metadata": {
        "id": "f68bfac0812b8988"
      },
      "outputs": [],
      "source": [
        "# function for plotting some examples:\n",
        "\n",
        "def plot_example_data(data_dict):\n",
        "    \"\"\"\n",
        "    This function plots some examples of the data\n",
        "    :param data_dict: dict with as keys a string specifying the alphabet, and as values a dict with as keys the character of the alphabet, and as values a list om images of the alphabet\n",
        "    \"\"\"\n",
        "    fig, axs = plt.subplots(2, 5, figsize=(15, 6))\n",
        "    alphabets_to_plot = np.random.choice(list(data_dict.keys()), size=10, replace=False)\n",
        "\n",
        "    for i, alphabet in enumerate(alphabets_to_plot):\n",
        "        characters = data_dict[alphabet]\n",
        "        character_to_plot = np.random.choice(list(characters.keys()), size=1)[0]\n",
        "        images = characters[character_to_plot]\n",
        "        im_idx = np.random.choice(len(images), size=1)[0]\n",
        "        axs[i//5, i%5].imshow(images[im_idx].permute(1, 2, 0))\n",
        "        axs[i//5, i%5].set_title(alphabet + '\\n' + character_to_plot, fontsize=8)\n",
        "        axs[i//5, i%5].axis('off')\n",
        "    # plt.show()"
      ]
    },
    {
      "cell_type": "code",
      "execution_count": 9,
      "id": "511e9fbc1b85e80f",
      "metadata": {
        "colab": {
          "base_uri": "https://localhost:8080/",
          "height": 536
        },
        "id": "511e9fbc1b85e80f",
        "outputId": "d956709c-f74e-4073-d98f-caedbada7783"
      },
      "outputs": [
        {
          "data": {
            "text/plain": [
              "<Figure size 640x480 with 0 Axes>"
            ]
          },
          "metadata": {},
          "output_type": "display_data"
        },
        {
          "data": {
            "image/png": "[encoded data removed]",
            "text/plain": [
              "<Figure size 1500x600 with 10 Axes>"
            ]
          },
          "metadata": {},
          "output_type": "display_data"
        }
      ],
      "source": [
        "plt.figure()\n",
        "plot_example_data(train_data)\n",
        "# plt.savefig('example_data.png', dpi=600)\n",
        "plt.show()"
      ]
    },
    {
      "cell_type": "markdown",
      "id": "b6449bef2185716",
      "metadata": {
        "collapsed": false,
        "id": "b6449bef2185716"
      },
      "source": [
        "# Task 1: character recognition"
      ]
    },
    {
      "cell_type": "code",
      "execution_count": 10,
      "id": "fbd0bd49",
      "metadata": {
        "id": "fbd0bd49"
      },
      "outputs": [],
      "source": [
        "import torch\n",
        "import torch.nn as nn\n",
        "import torch.optim as optim\n",
        "import torchvision.transforms as transforms\n",
        "from torch.utils.data import DataLoader, Dataset\n",
        "from tqdm import tqdm\n",
        "from torch.utils.data import random_split\n",
        "from sklearn.preprocessing import LabelEncoder"
      ]
    },
    {
      "cell_type": "code",
      "execution_count": 11,
      "id": "eZ_1wNZtHsxG",
      "metadata": {
        "colab": {
          "base_uri": "https://localhost:8080/"
        },
        "id": "eZ_1wNZtHsxG",
        "outputId": "033bc116-e58f-4960-d509-4fe7b8687f19"
      },
      "outputs": [
        {
          "name": "stdout",
          "output_type": "stream",
          "text": [
            "The available device is cuda\n"
          ]
        }
      ],
      "source": [
        "# DO NOT REMOVE OR MODIFY\n",
        "# Check if GPU is available and determine the device\n",
        "if torch.cuda.is_available():\n",
        "    DEVICE = 'cuda'\n",
        "    torch.cuda.manual_seed_all(42)\n",
        "else:\n",
        "    DEVICE = 'cpu'\n",
        "\n",
        "print(f'The available device is {DEVICE}')"
      ]
    },
    {
      "cell_type": "markdown",
      "id": "1b8ced2a",
      "metadata": {
        "id": "1b8ced2a"
      },
      "source": [
        "## Triplet Network"
      ]
    },
    {
      "cell_type": "code",
      "execution_count": 12,
      "id": "9e15f732",
      "metadata": {
        "id": "9e15f732"
      },
      "outputs": [],
      "source": [
        "import torch.nn.functional as F\n",
        "\n",
        "class TripletLoss(nn.Module):\n",
        "    def __init__(self, margin=2.0):\n",
        "        super(TripletLoss, self).__init__()\n",
        "        self.margin = margin\n",
        "\n",
        "    def forward(self, output1, output2, output3):\n",
        "        positive_distance = (output1 - output2).pow(2).sum(1)\n",
        "        negative_distance = (output1 - output3).pow(2).sum(1)\n",
        "        losses = F.relu(positive_distance - negative_distance + self.margin)\n",
        "        return losses.mean()"
      ]
    },
    {
      "cell_type": "code",
      "execution_count": 13,
      "id": "9daeb394",
      "metadata": {
        "id": "9daeb394"
      },
      "outputs": [],
      "source": [
        "class Lambda(nn.Module):\n",
        "    \"\"\"\n",
        "    A utility class that allows you to create a PyTorch nn.Module from an arbitrary function.\n",
        "    \"\"\"\n",
        "    def __init__(self, func):\n",
        "        super().__init__()\n",
        "        self.func = func\n",
        "\n",
        "    def forward(self, x):\n",
        "        return self.func(x)\n",
        "\n",
        "class EmbeddingNet(nn.Module):\n",
        "    \"\"\"\n",
        "    A PyTorch implementation of a Convolutional Neural Network (CNN) for feature extraction or embedding.\n",
        "\n",
        "    The network consists of three convolutional blocks each followed by a batch normalization, ReLU activation, and max pooling.\n",
        "    After the convolutional blocks, the tensor is flattened and passed through two fully connected (linear) layers.\n",
        "\n",
        "    The final output is a 10-dimensional vector which can be used as an embedding of the input.\n",
        "    \"\"\"\n",
        "    def __init__(self):\n",
        "        super(EmbeddingNet, self).__init__()\n",
        "\n",
        "        self.front_layer = nn.Sequential(\n",
        "            # Conv Layer block 1\n",
        "            nn.Conv2d(in_channels=1, out_channels=32, kernel_size=3, padding=1),\n",
        "            nn.BatchNorm2d(32),\n",
        "            nn.ReLU(inplace=True),\n",
        "            nn.Conv2d(in_channels=32, out_channels=64, kernel_size=3, padding=1),\n",
        "            nn.ReLU(inplace=True),\n",
        "            nn.MaxPool2d(kernel_size=2, stride=2),\n",
        "\n",
        "            # Conv Layer block 2\n",
        "            nn.Conv2d(in_channels=64, out_channels=128, kernel_size=3, padding=1),\n",
        "            nn.BatchNorm2d(128),\n",
        "            nn.ReLU(inplace=True),\n",
        "            nn.Conv2d(in_channels=128, out_channels=128, kernel_size=3, padding=1),\n",
        "            nn.ReLU(inplace=True),\n",
        "            nn.MaxPool2d(kernel_size=2, stride=2),\n",
        "\n",
        "\n",
        "            # Conv Layer block 3\n",
        "            nn.Conv2d(in_channels=128, out_channels=256, kernel_size=3, padding=1),\n",
        "            nn.BatchNorm2d(256),\n",
        "            nn.ReLU(inplace=True),\n",
        "            nn.Conv2d(in_channels=256, out_channels=256, kernel_size=3, padding=1),\n",
        "            nn.ReLU(inplace=True),\n",
        "            nn.MaxPool2d(kernel_size=2, stride=2),\n",
        "\n",
        "            Lambda(lambda x: x.view(x.size(0), -1)),\n",
        "\n",
        "            nn.Linear(4096, 1024),\n",
        "            nn.ReLU(inplace=True),\n",
        "            nn.Linear(1024, 512),\n",
        "            nn.ReLU(inplace=True),\n",
        "        )\n",
        "\n",
        "        self.last_layer = nn.Linear(512, 10)\n",
        "\n",
        "    def forward(self, x):\n",
        "        \"\"\"Perform forward.\"\"\"\n",
        "        # conv layers\n",
        "        x = self.front_layer(x)\n",
        "        x = self.last_layer(x)\n",
        "        return x\n",
        "\n",
        "    def get_embedding(self, x):\n",
        "        return self.forward(x)"
      ]
    },
    {
      "cell_type": "code",
      "execution_count": 14,
      "id": "bb8548be",
      "metadata": {},
      "outputs": [],
      "source": [
        "class TripletNet(nn.Module):\n",
        "    \"\"\"\n",
        "    A PyTorch implementation of a Triplet Network for learning useful data embeddings.\n",
        "\n",
        "    The network takes three inputs - an anchor, a positive of the same class as the anchor, and a negative of a different class.\n",
        "    Each of these inputs is passed through the same embedding network, and the output embeddings are returned.\n",
        "\n",
        "    The goal during training is to learn an embedding such that the distance between the anchor and positive is less than the distance between the anchor and negative.\n",
        "    \"\"\"\n",
        "    def __init__(self, embedding_net):\n",
        "        \"\"\"Initializes the TripletNet with the given embedding network.\"\"\"\n",
        "        super(TripletNet, self).__init__()\n",
        "        self.embedding_net = embedding_net\n",
        "\n",
        "    def forward(self, x1, x2, x3):\n",
        "        \"\"\"Forward pass for the TripletNet.\"\"\"\n",
        "        output1 = self.embedding_net(x1)\n",
        "        output2 = self.embedding_net(x2)\n",
        "        output3 = self.embedding_net(x3)\n",
        "        return output1, output2, output3\n",
        "\n",
        "    def get_embedding(self, x):\n",
        "        \"\"\"Returns the embeddings of the input.\"\"\"\n",
        "        return self.embedding_net(x)"
      ]
    },
    {
      "cell_type": "code",
      "execution_count": 15,
      "id": "27648d3c",
      "metadata": {},
      "outputs": [],
      "source": [
        "class TripletDataset(Dataset):\n",
        "    \"\"\"\n",
        "    A custom dataset class for creating triplets of images with their corresponding labels.\n",
        "\n",
        "    Args:\n",
        "        data_dict (dict): A dictionary containing the image data organized by alphabet and character.\n",
        "        transform (callable, optional): A function/transform that takes in an PIL image and returns a transformed version.\n",
        "\n",
        "    Attributes:\n",
        "        images (list): A list of all the images in the dataset.\n",
        "        labels (list): A list of labels corresponding to each image.\n",
        "        transform (callable): The transform function to be applied to the images.\n",
        "        encoder (LabelEncoder): An instance of the LabelEncoder class for encoding the labels.\n",
        "        triplets (list): A list of triplets of images with the anchor, positive and negative images.\n",
        "    \"\"\"\n",
        "    def __init__(self, data_dict, transform=None, device=DEVICE):\n",
        "\n",
        "        np.random.seed(42)\n",
        "\n",
        "        self.images = []\n",
        "        self.labels = []\n",
        "        self.transform = transform\n",
        "        self.encoder = LabelEncoder()\n",
        "\n",
        "        for alphabet in data_dict.keys():\n",
        "            characters = data_dict[alphabet]\n",
        "            for character in characters.keys():\n",
        "                images = characters[character]\n",
        "                self.images.extend(images)\n",
        "                self.labels.extend([f\"{alphabet} {character}\"] * len(images))\n",
        "\n",
        "        self.labels = self.encoder.fit_transform(self.labels)\n",
        "\n",
        "        # Create list with triplets of images, where the first two images are similar and the third is different\n",
        "        # Consider all the pairs of positive images and sample two negative images for each pair\n",
        "        self.triplets = []\n",
        "\n",
        "        for i in tqdm(range(len(self.images))):\n",
        "            for j in range(i+1, len(self.images)):\n",
        "                if self.labels[i] == self.labels[j]:\n",
        "                    for _ in range(2):\n",
        "                        # sample the third image\n",
        "                        index = np.random.choice(len(self.images))\n",
        "                        # If the third image is from the same class, sample another one\n",
        "                        while self.labels[index] == self.labels[i]:\n",
        "                            index = np.random.choice(len(self.images))\n",
        "                        self.triplets.append((self.images[i], self.images[j], self.images[index]))\n",
        "\n",
        "\n",
        "\n",
        "    def __len__(self):\n",
        "        \"\"\"\n",
        "        Returns the total number of triplets in the dataset.\n",
        "        \"\"\"\n",
        "        return len(self.triplets)\n",
        "\n",
        "    def __getitem__(self, idx):\n",
        "        \"\"\"\n",
        "        Returns the triplet of images at the given index.\n",
        "        \"\"\"\n",
        "        img1, img2, img3 = self.triplets[idx]\n",
        "\n",
        "        if self.transform:\n",
        "            to_pil = transforms.ToPILImage()\n",
        "            img1 = to_pil(img1)\n",
        "            img1 = self.transform(img1)\n",
        "            img2 = to_pil(img2)\n",
        "            img2 = self.transform(img2)\n",
        "            img3 = to_pil(img3)\n",
        "            img3 = self.transform(img3)\n",
        "\n",
        "        return img1, img2, img3"
      ]
    },
    {
      "cell_type": "code",
      "execution_count": 16,
      "id": "41a21254",
      "metadata": {},
      "outputs": [],
      "source": [
        "# Function to compute distance of the Triplet network\n",
        "def compute_distance_triplet(output1, output2, output3):\n",
        "    \"\"\"\n",
        "    Computes the Distance for a triplet.\n",
        "\n",
        "    The function takes as input the output embeddings of an anchor, positive, and negative example from a triplet network.\n",
        "    It computes the Euclidean distance between the anchor and positive examples (distance_positive) and between the anchor and negative examples (distance_negative).\n",
        "    It performs the difference and infince the average per batch.\n",
        "\n",
        "    Parameters:\n",
        "    output1 (torch.Tensor): The output embedding of the anchor example.\n",
        "    output2 (torch.Tensor): The output embedding of the positive example.\n",
        "    output3 (torch.Tensor): The output embedding of the negative example.\n",
        "\n",
        "    Returns:\n",
        "    float: The distance.\n",
        "    \"\"\"\n",
        "    # Compute the Euclidean distance between output1 and output2\n",
        "    distance_positive = torch.sqrt(torch.sum((output1 - output2) ** 2, dim=1))\n",
        "\n",
        "    # Compute the Euclidean distance between output1 and output3\n",
        "    distance_negative = torch.sqrt(torch.sum((output1 - output3) ** 2, dim=1))\n",
        "\n",
        "    # Compute the difference between positive and negative distances\n",
        "    distance = distance_negative - distance_positive\n",
        "\n",
        "    # Compute the average distance per batch\n",
        "    average_distance = torch.mean(distance)\n",
        "\n",
        "    return average_distance.item()"
      ]
    },
    {
      "cell_type": "code",
      "execution_count": 18,
      "id": "cc9d8767",
      "metadata": {},
      "outputs": [],
      "source": [
        "# Function to create Triplet dataset\n",
        "def create_triplet_dataset(data_dict, transform=None):\n",
        "    \"\"\"\n",
        "    Creates a Triplet dataset from the given data dictionary.\n",
        "    \"\"\"\n",
        "    return TripletDataset(data_dict=data_dict, transform=transform)\n",
        "\n",
        "# Function to train Triplet network\n",
        "def train_triplet_network(triplet_network, train_loader, val_loader, num_epochs=10, learning_rate=0.001, device=DEVICE):\n",
        "    \"\"\"\n",
        "    Trains a triplet network for a specified number of epochs.\n",
        "\n",
        "    The function takes as input a triplet network, training and validation data loaders, number of epochs, and learning rate.\n",
        "    It uses the Adam optimizer and a custom TripletLoss criterion.\n",
        "    For each epoch, it iterates over the training data, computes the loss and backpropagates the gradients.\n",
        "    It also computes the AUC-ROC for each batch and keeps a running total.\n",
        "    After each epoch, it evaluates the network on the validation data and computes the average loss and AUC-ROC.\n",
        "\n",
        "    Parameters:\n",
        "    triplet_network (nn.Module): The triplet network to train.\n",
        "    train_loader (DataLoader): The DataLoader for the training data.\n",
        "    val_loader (DataLoader): The DataLoader for the validation data.\n",
        "    num_epochs (int, optional): The number of epochs to train for. Default is 10.\n",
        "    learning_rate (float, optional): The learning rate for the Adam optimizer. Default is 0.001.\n",
        "\n",
        "    Returns:\n",
        "    None\n",
        "    \"\"\"\n",
        "    criterion = TripletLoss().to(device)\n",
        "    optimizer = optim.Adam(triplet_network.parameters(), lr=learning_rate)\n",
        "\n",
        "    for epoch in range(num_epochs):\n",
        "        # Training\n",
        "        progress_bar = tqdm(train_loader, desc=f\"Epoch {epoch+1}\")\n",
        "\n",
        "        triplet_network.train()\n",
        "\n",
        "        running_loss = 0.0\n",
        "        running_distance = 0.0\n",
        "        batch_count = 0\n",
        "\n",
        "        for img1, img2, img3 in progress_bar:\n",
        "            optimizer.zero_grad()\n",
        "            img1, img2, img3 = img1.to(device), img2.to(device), img3.to(device)\n",
        "            output1, output2, output3 = triplet_network(img1, img2, img3)\n",
        "            loss = criterion(output1, output2, output3)\n",
        "            loss.backward()\n",
        "            optimizer.step()\n",
        "            running_loss += loss.item()\n",
        "            distance = compute_distance_triplet(output1.detach(), output2.detach(), output3.detach())\n",
        "            running_distance += distance\n",
        "            batch_count += 1\n",
        "\n",
        "            # Update the progress bar with the current loss and distance\n",
        "            progress_bar.set_postfix({\"loss\": running_loss / batch_count, \"distance\": running_distance / batch_count})\n",
        "\n",
        "        print(f\"Epoch {epoch+1}, Loss: {running_loss/len(train_loader)}, Distance: {running_distance/len(train_loader)}\")\n",
        "\n",
        "        # Validation\n",
        "        progress_bar = tqdm(val_loader, desc=f\"Val Epoch {epoch + 1}\")\n",
        "        triplet_network.eval()\n",
        "        running_val_loss = 0.0\n",
        "        running_val_distance = 0.0\n",
        "        batch_count = 0\n",
        "\n",
        "        with torch.no_grad():\n",
        "            for img1, img2, img3 in progress_bar:\n",
        "                img1, img2, img3 = img1.to(device), img2.to(device), img3.to(device)\n",
        "                output1, output2, output3 = triplet_network(img1, img2, img3)\n",
        "                val_loss = criterion(output1, output2, output3)\n",
        "                running_val_loss += val_loss.item()\n",
        "                val_distance = compute_distance_triplet(output1.detach(), output2.detach(), output3.detach())\n",
        "                running_val_distance += val_distance\n",
        "                batch_count += 1\n",
        "\n",
        "                # Update the progress bar with the current loss and distance\n",
        "                progress_bar.set_postfix({\"val_loss\": running_val_loss / batch_count, \"val_distance\": running_val_distance / batch_count})\n",
        "\n",
        "        print(f\"Val Epoch {epoch+1}, Loss: {running_val_loss/len(val_loader)}, Distance: {running_val_distance/len(val_loader)}\")"
      ]
    },
    {
      "cell_type": "code",
      "execution_count": 19,
      "id": "83e0eac1",
      "metadata": {
        "id": "83e0eac1"
      },
      "outputs": [],
      "source": [
        "# Define preprocessing steps\n",
        "preprocess = transforms.Compose([\n",
        "    transforms.Resize([32, 32]),\n",
        "    transforms.ToTensor(),\n",
        "    transforms.Normalize(mean=[0], std=[1]),\n",
        "    transforms.Grayscale(num_output_channels=1)\n",
        "])"
      ]
    },
    {
      "cell_type": "code",
      "execution_count": 20,
      "id": "7bfb08b8",
      "metadata": {
        "id": "7bfb08b8"
      },
      "outputs": [],
      "source": [
        "# Create Triplet network\n",
        "triplet_network = TripletNet(EmbeddingNet()).to(DEVICE)"
      ]
    },
    {
      "cell_type": "code",
      "execution_count": 21,
      "id": "064a5ca0",
      "metadata": {
        "colab": {
          "base_uri": "https://localhost:8080/"
        },
        "id": "064a5ca0",
        "outputId": "f74c6fe6-4eec-48a9-f1d5-363cc6e882da"
      },
      "outputs": [
        {
          "name": "stderr",
          "output_type": "stream",
          "text": [
            "  0%|          | 0/19280 [00:00<?, ?it/s]"
          ]
        },
        {
          "name": "stderr",
          "output_type": "stream",
          "text": [
            "100%|██████████| 19280/19280 [00:56<00:00, 339.91it/s] "
          ]
        },
        {
          "name": "stdout",
          "output_type": "stream",
          "text": [
            "Num of training triplets: 293056\n",
            "Num of validation triplets: 73264\n"
          ]
        },
        {
          "name": "stderr",
          "output_type": "stream",
          "text": [
            "\n"
          ]
        }
      ],
      "source": [
        "#  Create Triplet dataset\n",
        "triplet_dataset = create_triplet_dataset(train_data, transform=preprocess)\n",
        "\n",
        "# Define the size of the validation set\n",
        "val_size = int(0.2 * len(triplet_dataset))  # 20% of the dataset\n",
        "train_size = len(triplet_dataset) - val_size\n",
        "\n",
        "# Create train and validation sets\n",
        "generator = torch.Generator().manual_seed(42)\n",
        "triplet_train_dataset, triplet_val_dataset = random_split(triplet_dataset, [train_size, val_size], generator=generator)\n",
        "\n",
        "# Create data loaders\n",
        "train_loader = DataLoader(triplet_train_dataset, batch_size=32, shuffle=True)\n",
        "val_loader = DataLoader(triplet_val_dataset, batch_size=32, shuffle=False)\n",
        "\n",
        "print(f\"Num of training triplets: {len(triplet_train_dataset)}\")\n",
        "print(f\"Num of validation triplets: {len(triplet_val_dataset)}\")"
      ]
    },
    {
      "cell_type": "code",
      "execution_count": 21,
      "id": "8d0f4ea5",
      "metadata": {
        "colab": {
          "base_uri": "https://localhost:8080/",
          "height": 402
        },
        "id": "8d0f4ea5",
        "outputId": "e9a50072-8eef-41d8-e138-1d8f2c8ba7d3"
      },
      "outputs": [
        {
          "data": {
            "image/png": "[encoded data removed]",
            "text/plain": [
              "<Figure size 1500x600 with 3 Axes>"
            ]
          },
          "metadata": {},
          "output_type": "display_data"
        }
      ],
      "source": [
        "def plot_image(img):\n",
        "    if img.shape[0] == 1:\n",
        "        # Grayscale image\n",
        "        plt.imshow(img.squeeze(0), cmap='gray')\n",
        "    else:\n",
        "        # RGB image\n",
        "        plt.imshow(img.permute(1, 2, 0))\n",
        "\n",
        "# Plot some random pairs of images from the validation set\n",
        "plt.figure(figsize=(15, 6))\n",
        "\n",
        "random_idx = np.random.choice(len(triplet_val_dataset))\n",
        "img1, img2, img3 = triplet_val_dataset[random_idx]\n",
        "plt.subplot(1, 3, 1)\n",
        "plot_image(img1)\n",
        "plt.subplot(1, 3, 2)\n",
        "plot_image(img2)\n",
        "plt.subplot(1, 3, 3)\n",
        "plot_image(img3)"
      ]
    },
    {
      "cell_type": "code",
      "execution_count": null,
      "id": "8a3cafd0",
      "metadata": {},
      "outputs": [],
      "source": [
        "# Train the Triplet network\n",
        "if TRAIN_TRIPLET:\n",
        "    train_triplet_network(triplet_network, train_loader, val_loader, num_epochs=5, learning_rate=0.001)\n",
        "    # Save the trained Siamese network\n",
        "    torch.save(triplet_network.state_dict(), main_dir + 'triplet_network.pth')"
      ]
    },
    {
      "cell_type": "code",
      "execution_count": 19,
      "id": "X5J9tRpHHmVw",
      "metadata": {
        "id": "X5J9tRpHHmVw"
      },
      "outputs": [
        {
          "name": "stderr",
          "output_type": "stream",
          "text": [
            "Epoch 1: 100%|██████████| 9158/9158 [14:43<00:00, 10.37it/s, loss=0.019, distance=3.94] \n"
          ]
        },
        {
          "name": "stdout",
          "output_type": "stream",
          "text": [
            "Epoch 1, Loss: 0.018994277027492755, Distance: 3.944126049929192\n"
          ]
        },
        {
          "name": "stderr",
          "output_type": "stream",
          "text": [
            "Val Epoch 1: 100%|██████████| 2290/2290 [02:10<00:00, 17.58it/s, val_loss=0.0216, val_distance=3.88]\n"
          ]
        },
        {
          "name": "stdout",
          "output_type": "stream",
          "text": [
            "Val Epoch 1, Loss: 0.021552348660719967, Distance: 3.8816938938532335\n"
          ]
        },
        {
          "name": "stderr",
          "output_type": "stream",
          "text": [
            "Epoch 2: 100%|██████████| 9158/9158 [14:44<00:00, 10.35it/s, loss=0.015, distance=4.13] \n"
          ]
        },
        {
          "name": "stdout",
          "output_type": "stream",
          "text": [
            "Epoch 2, Loss: 0.015038420147030445, Distance: 4.1256101715640225\n"
          ]
        },
        {
          "name": "stderr",
          "output_type": "stream",
          "text": [
            "Val Epoch 2: 100%|██████████| 2290/2290 [02:09<00:00, 17.72it/s, val_loss=0.0207, val_distance=4.27]\n"
          ]
        },
        {
          "name": "stdout",
          "output_type": "stream",
          "text": [
            "Val Epoch 2, Loss: 0.02072705398740727, Distance: 4.2706890317550394\n"
          ]
        },
        {
          "name": "stderr",
          "output_type": "stream",
          "text": [
            "Epoch 3: 100%|██████████| 9158/9158 [14:45<00:00, 10.34it/s, loss=0.0133, distance=4.32]\n"
          ]
        },
        {
          "name": "stdout",
          "output_type": "stream",
          "text": [
            "Epoch 3, Loss: 0.013278773538141851, Distance: 4.324746114870793\n"
          ]
        },
        {
          "name": "stderr",
          "output_type": "stream",
          "text": [
            "Val Epoch 3: 100%|██████████| 2290/2290 [02:10<00:00, 17.60it/s, val_loss=0.0189, val_distance=4.14]\n"
          ]
        },
        {
          "name": "stdout",
          "output_type": "stream",
          "text": [
            "Val Epoch 3, Loss: 0.018943897556659955, Distance: 4.142739824748976\n"
          ]
        },
        {
          "name": "stderr",
          "output_type": "stream",
          "text": [
            "Epoch 4: 100%|██████████| 9158/9158 [14:44<00:00, 10.35it/s, loss=0.0119, distance=4.42]\n"
          ]
        },
        {
          "name": "stdout",
          "output_type": "stream",
          "text": [
            "Epoch 4, Loss: 0.011896122646031746, Distance: 4.419248517670208\n"
          ]
        },
        {
          "name": "stderr",
          "output_type": "stream",
          "text": [
            "Val Epoch 4: 100%|██████████| 2290/2290 [02:08<00:00, 17.77it/s, val_loss=0.0231, val_distance=4.75]\n"
          ]
        },
        {
          "name": "stdout",
          "output_type": "stream",
          "text": [
            "Val Epoch 4, Loss: 0.023148009002078567, Distance: 4.746227216095903\n"
          ]
        },
        {
          "name": "stderr",
          "output_type": "stream",
          "text": [
            "Epoch 5: 100%|██████████| 9158/9158 [14:44<00:00, 10.36it/s, loss=0.0112, distance=4.57] \n"
          ]
        },
        {
          "name": "stdout",
          "output_type": "stream",
          "text": [
            "Epoch 5, Loss: 0.011158566974423993, Distance: 4.566918569247414\n"
          ]
        },
        {
          "name": "stderr",
          "output_type": "stream",
          "text": [
            "Val Epoch 5: 100%|██████████| 2290/2290 [02:08<00:00, 17.76it/s, val_loss=0.0218, val_distance=4.54]"
          ]
        },
        {
          "name": "stdout",
          "output_type": "stream",
          "text": [
            "Val Epoch 5, Loss: 0.021794235864125485, Distance: 4.536407415835618\n"
          ]
        },
        {
          "name": "stderr",
          "output_type": "stream",
          "text": [
            "\n"
          ]
        }
      ],
      "source": [
        "# Train the Triplet network\n",
        "if TRAIN_TRIPLET:\n",
        "    train_triplet_network(triplet_network, train_loader, val_loader, num_epochs=5, learning_rate=0.0005)\n",
        "    # Save the trained Siamese network\n",
        "    torch.save(triplet_network.state_dict(), main_dir + 'triplet_network_1.pth')"
      ]
    },
    {
      "cell_type": "code",
      "execution_count": 20,
      "id": "dgQWrGlfHqIh",
      "metadata": {
        "id": "dgQWrGlfHqIh"
      },
      "outputs": [
        {
          "name": "stderr",
          "output_type": "stream",
          "text": [
            "Epoch 1: 100%|██████████| 9158/9158 [14:43<00:00, 10.37it/s, loss=0.00517, distance=4.83]\n"
          ]
        },
        {
          "name": "stdout",
          "output_type": "stream",
          "text": [
            "Epoch 1, Loss: 0.005165534116755695, Distance: 4.828724085724908\n"
          ]
        },
        {
          "name": "stderr",
          "output_type": "stream",
          "text": [
            "Val Epoch 1: 100%|██████████| 2290/2290 [02:07<00:00, 18.00it/s, val_loss=0.0139, val_distance=5.05]\n"
          ]
        },
        {
          "name": "stdout",
          "output_type": "stream",
          "text": [
            "Val Epoch 1, Loss: 0.013851133413515238, Distance: 5.054863485290494\n"
          ]
        },
        {
          "name": "stderr",
          "output_type": "stream",
          "text": [
            "Epoch 2: 100%|██████████| 9158/9158 [14:43<00:00, 10.36it/s, loss=0.00295, distance=5.23]\n"
          ]
        },
        {
          "name": "stdout",
          "output_type": "stream",
          "text": [
            "Epoch 2, Loss: 0.0029520515086453513, Distance: 5.228052231077806\n"
          ]
        },
        {
          "name": "stderr",
          "output_type": "stream",
          "text": [
            "Val Epoch 2: 100%|██████████| 2290/2290 [02:10<00:00, 17.58it/s, val_loss=0.0127, val_distance=5.42]\n"
          ]
        },
        {
          "name": "stdout",
          "output_type": "stream",
          "text": [
            "Val Epoch 2, Loss: 0.01274729447528785, Distance: 5.41941104018532\n"
          ]
        },
        {
          "name": "stderr",
          "output_type": "stream",
          "text": [
            "Epoch 3: 100%|██████████| 9158/9158 [14:42<00:00, 10.38it/s, loss=0.00213, distance=5.44]\n"
          ]
        },
        {
          "name": "stdout",
          "output_type": "stream",
          "text": [
            "Epoch 3, Loss: 0.002127966222189144, Distance: 5.437938974736221\n"
          ]
        },
        {
          "name": "stderr",
          "output_type": "stream",
          "text": [
            "Val Epoch 3: 100%|██████████| 2290/2290 [02:10<00:00, 17.55it/s, val_loss=0.0129, val_distance=5.59]\n"
          ]
        },
        {
          "name": "stdout",
          "output_type": "stream",
          "text": [
            "Val Epoch 3, Loss: 0.012914897431517792, Distance: 5.592799243968647\n"
          ]
        },
        {
          "name": "stderr",
          "output_type": "stream",
          "text": [
            "Epoch 4: 100%|██████████| 9158/9158 [14:43<00:00, 10.37it/s, loss=0.00166, distance=5.75]\n"
          ]
        },
        {
          "name": "stdout",
          "output_type": "stream",
          "text": [
            "Epoch 4, Loss: 0.0016561932320787699, Distance: 5.749488822079351\n"
          ]
        },
        {
          "name": "stderr",
          "output_type": "stream",
          "text": [
            "Val Epoch 4: 100%|██████████| 2290/2290 [02:09<00:00, 17.66it/s, val_loss=0.0139, val_distance=6.06]\n"
          ]
        },
        {
          "name": "stdout",
          "output_type": "stream",
          "text": [
            "Val Epoch 4, Loss: 0.013905358000548646, Distance: 6.058741615328726\n"
          ]
        },
        {
          "name": "stderr",
          "output_type": "stream",
          "text": [
            "Epoch 5: 100%|██████████| 9158/9158 [14:43<00:00, 10.37it/s, loss=0.00161, distance=6.11] \n"
          ]
        },
        {
          "name": "stdout",
          "output_type": "stream",
          "text": [
            "Epoch 5, Loss: 0.0016144504597755103, Distance: 6.11093638041676\n"
          ]
        },
        {
          "name": "stderr",
          "output_type": "stream",
          "text": [
            "Val Epoch 5: 100%|██████████| 2290/2290 [02:10<00:00, 17.50it/s, val_loss=0.0135, val_distance=6.19]"
          ]
        },
        {
          "name": "stdout",
          "output_type": "stream",
          "text": [
            "Val Epoch 5, Loss: 0.013460605474408537, Distance: 6.1870257163151905\n"
          ]
        },
        {
          "name": "stderr",
          "output_type": "stream",
          "text": [
            "\n"
          ]
        }
      ],
      "source": [
        "# Train the Triplet network\n",
        "if TRAIN_TRIPLET:\n",
        "    train_triplet_network(triplet_network, train_loader, val_loader, num_epochs=5, learning_rate=0.0001)\n",
        "    # Save the trained Siamese network\n",
        "    torch.save(triplet_network.state_dict(), main_dir + 'triplet_network_2.pth')"
      ]
    },
    {
      "cell_type": "code",
      "execution_count": 22,
      "id": "84094787",
      "metadata": {
        "id": "84094787"
      },
      "outputs": [
        {
          "data": {
            "text/plain": [
              "<All keys matched successfully>"
            ]
          },
          "execution_count": 22,
          "metadata": {},
          "output_type": "execute_result"
        }
      ],
      "source": [
        "# Load the trained Triplet Network\n",
        "triplet_networks = TripletNet(EmbeddingNet()).to(DEVICE)\n",
        "triplet_networks.load_state_dict(torch.load(main_dir + 'triplet_network_2.pth'))"
      ]
    },
    {
      "cell_type": "code",
      "execution_count": 24,
      "id": "fcb60914",
      "metadata": {
        "id": "fcb60914"
      },
      "outputs": [
        {
          "data": {
            "image/png": "[encoded data removed]",
            "text/plain": [
              "<Figure size 640x480 with 3 Axes>"
            ]
          },
          "metadata": {},
          "output_type": "display_data"
        },
        {
          "data": {
            "image/png": "[encoded data removed]",
            "text/plain": [
              "<Figure size 640x480 with 3 Axes>"
            ]
          },
          "metadata": {},
          "output_type": "display_data"
        },
        {
          "data": {
            "image/png": "[encoded data removed]",
            "text/plain": [
              "<Figure size 640x480 with 3 Axes>"
            ]
          },
          "metadata": {},
          "output_type": "display_data"
        },
        {
          "data": {
            "image/png": "[encoded data removed]",
            "text/plain": [
              "<Figure size 640x480 with 3 Axes>"
            ]
          },
          "metadata": {},
          "output_type": "display_data"
        },
        {
          "data": {
            "image/png": "[encoded data removed]",
            "text/plain": [
              "<Figure size 640x480 with 3 Axes>"
            ]
          },
          "metadata": {},
          "output_type": "display_data"
        }
      ],
      "source": [
        "# Visualize predictions\n",
        "import matplotlib.pyplot as plt\n",
        "import random\n",
        "import itertools\n",
        "\n",
        "# Test the trained Siamese network on some random pairs of images\n",
        "def visualize_predictions_triplet_network(triplet_network, val_loader, num_pairs=5, device=DEVICE):\n",
        "    triplet_network.eval()\n",
        "    for _ in range(num_pairs):\n",
        "        # Create a new iterator for the validation loader\n",
        "        dataiter = iter(val_loader)\n",
        "        # Select a random batch\n",
        "        batch_idx = random.randint(0, len(val_loader)-1)\n",
        "        # Reset the iterator and advance to the random batch\n",
        "        dataiter = itertools.islice(dataiter, batch_idx, None)\n",
        "        img1, img2, img3 = next(dataiter)\n",
        "\n",
        "        img1, img2, img3 = img1.to(device), img2.to(device), img3.to(device)\n",
        "        output1, output2, output3 = triplet_network(img1, img2, img3)\n",
        "\n",
        "        distance_positive = torch.sqrt(torch.sum((output1 - output2) ** 2, dim=1))\n",
        "        distance_negative = torch.sqrt(torch.sum((output1 - output3) ** 2, dim=1))\n",
        "\n",
        "        fig, (ax1, ax2, ax3) = plt.subplots(1, 3)\n",
        "        ax1.imshow(img1[0].cpu().numpy().transpose((1, 2, 0)))\n",
        "        ax2.imshow(img2[0].cpu().numpy().transpose((1, 2, 0)))\n",
        "        ax3.imshow(img3[0].cpu().numpy().transpose((1, 2, 0)))\n",
        "        fig.suptitle(f\"Positive distance: {torch.mean(distance_positive).item()}, Negative distance: {torch.mean(distance_negative).item()}\")\n",
        "        plt.show()\n",
        "\n",
        "visualize_predictions_triplet_network(triplet_network, val_loader)"
      ]
    },
    {
      "cell_type": "code",
      "execution_count": 30,
      "id": "2390ca0d",
      "metadata": {
        "id": "2390ca0d"
      },
      "outputs": [],
      "source": [
        "# evaluation method\n",
        "def evaluate_triplet_network(triplet_network, data_dict_test, preprocess, K=1, print_alphabet_accuracy=True, device=DEVICE):\n",
        "    \"\"\"\n",
        "    This function evaluates the Triplet network on the test data\n",
        "    :param triplet_network: the trained Triplet network\n",
        "    :param data_dict_test: the test data dictionary with the keys 'annotated_images', 'annotated_images_labels', 'unseen_images', 'unseen_images_labels'\n",
        "    :param K: the number of most similar images to consider\n",
        "    \"\"\"\n",
        "    triplet_network.eval()\n",
        "    correct_predictions = 0\n",
        "    num_images = 0\n",
        "\n",
        "    # Transform images\n",
        "    toPILImage = transforms.ToPILImage()\n",
        "\n",
        "    for alphabet in tqdm(data_dict_test['annotated_images'].keys()):\n",
        "\n",
        "        correct_predictions_alphabet = 0\n",
        "\n",
        "        for i, unseen_image in enumerate(data_dict_test['unseen_images'][alphabet]):\n",
        "\n",
        "            # compute embedding for unseen image\n",
        "            unseen_image = toPILImage(unseen_image)\n",
        "            unseen_image = preprocess(unseen_image)\n",
        "            embedding_unseen = triplet_network.get_embedding(unseen_image.unsqueeze(0).to(device))\n",
        "\n",
        "            # list of cosine similarities\n",
        "            distances = []\n",
        "\n",
        "            for j, annotated_image in enumerate(data_dict_test['annotated_images'][alphabet]):\n",
        "\n",
        "                # Convert the images to PIL images\n",
        "                annotated_image = toPILImage(annotated_image)\n",
        "                annotated_image = preprocess(annotated_image)\n",
        "                embedding_unnnotated = triplet_network.get_embedding(annotated_image.unsqueeze(0).to(device))\n",
        "\n",
        "                distance = torch.sqrt(torch.sum((embedding_unseen - embedding_unnnotated) ** 2, dim=1))\n",
        "                distances.append(torch.mean(distance).item())\n",
        "\n",
        "            # Get the indices of the K smallest distances\n",
        "            #print(f\"distances: {distances}\")\n",
        "            most_similar_indices = np.argsort(distances)[:K]\n",
        "            #print(f\"most similar indices: {most_similar_indices}\")\n",
        "            # Get the corresponding labels\n",
        "            most_similar_labels = [data_dict_test['annotated_images_labels'][alphabet][idx] for idx in most_similar_indices]\n",
        "            #print(f\"most similar labels: {most_similar_labels}\")\n",
        "\n",
        "            # Get the actual label of the unseen image\n",
        "            actual_label = data_dict_test['unseen_images_labels'][alphabet][i]\n",
        "            #print(f\"actual label: {actual_label}\")\n",
        "\n",
        "            if actual_label in most_similar_labels:\n",
        "                correct_predictions += 1\n",
        "                correct_predictions_alphabet += 1\n",
        "            num_images += 1\n",
        "\n",
        "        accuracy_alphabet = correct_predictions_alphabet / len(data_dict_test['unseen_images'][alphabet])\n",
        "        if print_alphabet_accuracy:\n",
        "            print(f\"Accuracy for alphabet {alphabet}: {accuracy_alphabet}\")\n",
        "\n",
        "    # Compute the accuracy\n",
        "    accuracy = correct_predictions / num_images\n",
        "    return accuracy\n"
      ]
    },
    {
      "cell_type": "markdown",
      "id": "9c25093f",
      "metadata": {
        "id": "9c25093f"
      },
      "source": [
        "## Testing"
      ]
    },
    {
      "cell_type": "code",
      "execution_count": 23,
      "id": "f82021775a0a6fbf",
      "metadata": {
        "id": "f82021775a0a6fbf"
      },
      "outputs": [
        {
          "name": "stdout",
          "output_type": "stream",
          "text": [
            "dict_keys(['annotated_images', 'annotated_images_labels', 'unseen_images', 'unseen_images_labels'])\n"
          ]
        }
      ],
      "source": [
        "# load the test data:\n",
        "\n",
        "data_dict_test = load_data(main_dir + 'data/test_data_task1.pkl')\n",
        "# keys are 'annotated_images', 'annotated_images_labels', 'unseen_images', 'unseen_images_labels'.\n",
        "# These keys correspond to the annotated images with known labels for each test alphabet (the sets A);\n",
        "# labels of the images with known labels for each test alphabet;\n",
        "# to-be-labeled unseen images for each test alphabet (sets U);\n",
        "# and labels of the to-be-labeled unseen images for each alphabet, respectively.\n",
        "# For each alphabet, the labels of the unseen images should be predicted by the model.\n",
        "# The true labels of the unseen images can only be used to calculate evaluation metrics.\n",
        "print(data_dict_test.keys())\n"
      ]
    },
    {
      "cell_type": "code",
      "execution_count": 24,
      "id": "eedf16c955d94af7",
      "metadata": {
        "id": "eedf16c955d94af7"
      },
      "outputs": [
        {
          "name": "stdout",
          "output_type": "stream",
          "text": [
            "Shape of Mongolian annotated images: torch.Size([30, 1, 105, 105])\n",
            "Number of Mongolian annotated labels: 30\n",
            "Shape of Mongolian unseen images: torch.Size([570, 1, 105, 105])\n",
            "Number of Mongolian unseen labels: 570. Use the unseen labels only for evaluating your model!\n"
          ]
        }
      ],
      "source": [
        "# example: let's get some annotated images and their labels for an alphabet in the test data:\n",
        "\n",
        "alphabets_test = list(data_dict_test['annotated_images'].keys())\n",
        "alphabet_id = np.random.randint(0, len(alphabets_test))\n",
        "alphabet = alphabets_test[alphabet_id]\n",
        "\n",
        "alphabet_annotated = data_dict_test['annotated_images'][alphabet]  # a tensor of shape (num_images, 1, height, width)\n",
        "print(f'Shape of {alphabet} annotated images:', alphabet_annotated.shape)\n",
        "\n",
        "alphabet_annotated_labels = data_dict_test['annotated_images_labels'][alphabet]  # a list of length num_images\n",
        "print(f'Number of {alphabet} annotated labels:', len(alphabet_annotated_labels))  # equals num_images\n",
        "\n",
        "alphabet_unseen = data_dict_test['unseen_images'][alphabet]  # a tensor of shape (num_images, 1, height, width)\n",
        "print(f'Shape of {alphabet} unseen images:', alphabet_unseen.shape)\n",
        "\n",
        "alphabet_unseen_labels = data_dict_test['unseen_images_labels'][alphabet]  # a list of length num_images\n",
        "print(f'Number of {alphabet} unseen labels: {len(alphabet_unseen_labels)}. Use the unseen labels only for evaluating your model!')  # equals num_images"
      ]
    },
    {
      "cell_type": "code",
      "execution_count": 25,
      "id": "301b15cf",
      "metadata": {
        "id": "301b15cf"
      },
      "outputs": [
        {
          "data": {
            "text/plain": [
              "30"
            ]
          },
          "execution_count": 25,
          "metadata": {},
          "output_type": "execute_result"
        }
      ],
      "source": [
        "num_classes_test = len(set(alphabet_annotated_labels))\n",
        "num_classes_test"
      ]
    },
    {
      "cell_type": "code",
      "execution_count": 28,
      "id": "6428979f",
      "metadata": {
        "id": "6428979f"
      },
      "outputs": [
        {
          "data": {
            "text/plain": [
              "torch.Size([30, 1, 105, 105])"
            ]
          },
          "execution_count": 28,
          "metadata": {},
          "output_type": "execute_result"
        }
      ],
      "source": [
        "alphabet_annotated.shape"
      ]
    },
    {
      "cell_type": "markdown",
      "id": "a57134c8",
      "metadata": {
        "id": "a57134c8"
      },
      "source": [
        "### Evaluate Triplet Network"
      ]
    },
    {
      "cell_type": "code",
      "execution_count": 46,
      "id": "9f507698",
      "metadata": {},
      "outputs": [],
      "source": [
        "print_alphabet_accuracy = True"
      ]
    },
    {
      "cell_type": "code",
      "execution_count": 29,
      "id": "e9967348",
      "metadata": {
        "id": "e9967348"
      },
      "outputs": [
        {
          "name": "stderr",
          "output_type": "stream",
          "text": [
            "  0%|          | 0/20 [00:00<?, ?it/s]"
          ]
        },
        {
          "name": "stderr",
          "output_type": "stream",
          "text": [
            "  5%|▌         | 1/20 [00:21<06:44, 21.27s/it]"
          ]
        },
        {
          "name": "stdout",
          "output_type": "stream",
          "text": [
            "Accuracy for alphabet Angelic: 0.7894736842105263\n"
          ]
        },
        {
          "name": "stderr",
          "output_type": "stream",
          "text": [
            " 10%|█         | 2/20 [00:56<08:53, 29.64s/it]"
          ]
        },
        {
          "name": "stdout",
          "output_type": "stream",
          "text": [
            "Accuracy for alphabet Atemayar_Qelisayer: 0.6477732793522267\n"
          ]
        },
        {
          "name": "stderr",
          "output_type": "stream",
          "text": [
            " 15%|█▌        | 3/20 [01:32<09:09, 32.35s/it]"
          ]
        },
        {
          "name": "stdout",
          "output_type": "stream",
          "text": [
            "Accuracy for alphabet Atlantean: 0.6983805668016194\n"
          ]
        },
        {
          "name": "stderr",
          "output_type": "stream",
          "text": [
            " 20%|██        | 4/20 [02:08<08:59, 33.73s/it]"
          ]
        },
        {
          "name": "stdout",
          "output_type": "stream",
          "text": [
            "Accuracy for alphabet Aurek-Besh: 0.8319838056680162\n"
          ]
        },
        {
          "name": "stderr",
          "output_type": "stream",
          "text": [
            " 25%|██▌       | 5/20 [02:44<08:37, 34.51s/it]"
          ]
        },
        {
          "name": "stdout",
          "output_type": "stream",
          "text": [
            "Accuracy for alphabet Avesta: 0.7591093117408907\n"
          ]
        },
        {
          "name": "stderr",
          "output_type": "stream",
          "text": [
            " 30%|███       | 6/20 [03:20<08:10, 35.04s/it]"
          ]
        },
        {
          "name": "stdout",
          "output_type": "stream",
          "text": [
            "Accuracy for alphabet Ge_ez: 0.708502024291498\n"
          ]
        },
        {
          "name": "stderr",
          "output_type": "stream",
          "text": [
            " 35%|███▌      | 7/20 [05:05<12:36, 58.17s/it]"
          ]
        },
        {
          "name": "stdout",
          "output_type": "stream",
          "text": [
            "Accuracy for alphabet Glagolitic: 0.672514619883041\n"
          ]
        },
        {
          "name": "stderr",
          "output_type": "stream",
          "text": [
            " 40%|████      | 8/20 [06:50<14:36, 73.03s/it]"
          ]
        },
        {
          "name": "stdout",
          "output_type": "stream",
          "text": [
            "Accuracy for alphabet Gurmukhi: 0.6058479532163743\n"
          ]
        },
        {
          "name": "stderr",
          "output_type": "stream",
          "text": [
            " 45%|████▌     | 9/20 [08:18<14:14, 77.68s/it]"
          ]
        },
        {
          "name": "stdout",
          "output_type": "stream",
          "text": [
            "Accuracy for alphabet Kannada: 0.5725288831835686\n"
          ]
        },
        {
          "name": "stderr",
          "output_type": "stream",
          "text": [
            " 50%|█████     | 10/20 [08:54<10:45, 64.60s/it]"
          ]
        },
        {
          "name": "stdout",
          "output_type": "stream",
          "text": [
            "Accuracy for alphabet Keble: 0.7813765182186235\n"
          ]
        },
        {
          "name": "stderr",
          "output_type": "stream",
          "text": [
            " 55%|█████▌    | 11/20 [10:47<11:56, 79.56s/it]"
          ]
        },
        {
          "name": "stdout",
          "output_type": "stream",
          "text": [
            "Accuracy for alphabet Malayalam: 0.6047032474804032\n"
          ]
        },
        {
          "name": "stderr",
          "output_type": "stream",
          "text": [
            " 60%|██████    | 12/20 [12:10<10:43, 80.48s/it]"
          ]
        },
        {
          "name": "stdout",
          "output_type": "stream",
          "text": [
            "Accuracy for alphabet Manipuri: 0.5644736842105263\n"
          ]
        },
        {
          "name": "stderr",
          "output_type": "stream",
          "text": [
            " 65%|██████▌   | 13/20 [12:57<08:13, 70.44s/it]"
          ]
        },
        {
          "name": "stdout",
          "output_type": "stream",
          "text": [
            "Accuracy for alphabet Mongolian: 0.7421052631578947\n"
          ]
        },
        {
          "name": "stderr",
          "output_type": "stream",
          "text": [
            " 70%|███████   | 14/20 [14:42<08:04, 80.79s/it]"
          ]
        },
        {
          "name": "stdout",
          "output_type": "stream",
          "text": [
            "Accuracy for alphabet Old_Church_Slavonic_(Cyrillic): 0.8116959064327486\n"
          ]
        },
        {
          "name": "stderr",
          "output_type": "stream",
          "text": [
            " 75%|███████▌  | 15/20 [16:31<07:27, 89.43s/it]"
          ]
        },
        {
          "name": "stdout",
          "output_type": "stream",
          "text": [
            "Accuracy for alphabet Oriya: 0.4816933638443936\n"
          ]
        },
        {
          "name": "stderr",
          "output_type": "stream",
          "text": [
            " 80%|████████  | 16/20 [17:12<04:59, 74.92s/it]"
          ]
        },
        {
          "name": "stdout",
          "output_type": "stream",
          "text": [
            "Accuracy for alphabet Sylheti: 0.4793233082706767\n"
          ]
        },
        {
          "name": "stderr",
          "output_type": "stream",
          "text": [
            " 85%|████████▌ | 17/20 [17:40<03:02, 60.78s/it]"
          ]
        },
        {
          "name": "stdout",
          "output_type": "stream",
          "text": [
            "Accuracy for alphabet Syriac_(Serto): 0.6338672768878718\n"
          ]
        },
        {
          "name": "stderr",
          "output_type": "stream",
          "text": [
            " 90%|█████████ | 18/20 [18:13<01:44, 52.40s/it]"
          ]
        },
        {
          "name": "stdout",
          "output_type": "stream",
          "text": [
            "Accuracy for alphabet Tengwar: 0.6863157894736842\n"
          ]
        },
        {
          "name": "stderr",
          "output_type": "stream",
          "text": [
            " 95%|█████████▌| 19/20 [19:44<01:03, 63.90s/it]"
          ]
        },
        {
          "name": "stdout",
          "output_type": "stream",
          "text": [
            "Accuracy for alphabet Tibetan: 0.7080200501253133\n"
          ]
        },
        {
          "name": "stderr",
          "output_type": "stream",
          "text": [
            "100%|██████████| 20/20 [20:19<00:00, 60.99s/it]\n"
          ]
        },
        {
          "name": "stdout",
          "output_type": "stream",
          "text": [
            "Accuracy for alphabet ULOG: 0.354251012145749\n"
          ]
        },
        {
          "name": "stderr",
          "output_type": "stream",
          "text": [
            "  5%|▌         | 1/20 [00:21<06:44, 21.28s/it]"
          ]
        },
        {
          "name": "stdout",
          "output_type": "stream",
          "text": [
            "Accuracy for alphabet Angelic: 0.9210526315789473\n"
          ]
        },
        {
          "name": "stderr",
          "output_type": "stream",
          "text": [
            " 10%|█         | 2/20 [00:56<08:54, 29.67s/it]"
          ]
        },
        {
          "name": "stdout",
          "output_type": "stream",
          "text": [
            "Accuracy for alphabet Atemayar_Qelisayer: 0.805668016194332\n"
          ]
        },
        {
          "name": "stderr",
          "output_type": "stream",
          "text": [
            " 15%|█▌        | 3/20 [01:32<09:07, 32.21s/it]"
          ]
        },
        {
          "name": "stdout",
          "output_type": "stream",
          "text": [
            "Accuracy for alphabet Atlantean: 0.8582995951417004\n"
          ]
        },
        {
          "name": "stderr",
          "output_type": "stream",
          "text": [
            " 20%|██        | 4/20 [02:08<09:00, 33.78s/it]"
          ]
        },
        {
          "name": "stdout",
          "output_type": "stream",
          "text": [
            "Accuracy for alphabet Aurek-Besh: 0.9190283400809717\n"
          ]
        },
        {
          "name": "stderr",
          "output_type": "stream",
          "text": [
            " 25%|██▌       | 5/20 [02:45<08:43, 34.93s/it]"
          ]
        },
        {
          "name": "stdout",
          "output_type": "stream",
          "text": [
            "Accuracy for alphabet Avesta: 0.9331983805668016\n"
          ]
        },
        {
          "name": "stderr",
          "output_type": "stream",
          "text": [
            " 30%|███       | 6/20 [03:20<08:12, 35.19s/it]"
          ]
        },
        {
          "name": "stdout",
          "output_type": "stream",
          "text": [
            "Accuracy for alphabet Ge_ez: 0.8643724696356275\n"
          ]
        },
        {
          "name": "stderr",
          "output_type": "stream",
          "text": [
            " 35%|███▌      | 7/20 [05:28<14:08, 65.30s/it]"
          ]
        },
        {
          "name": "stdout",
          "output_type": "stream",
          "text": [
            "Accuracy for alphabet Glagolitic: 0.7894736842105263\n"
          ]
        },
        {
          "name": "stderr",
          "output_type": "stream",
          "text": [
            " 40%|████      | 8/20 [07:52<18:05, 90.42s/it]"
          ]
        },
        {
          "name": "stdout",
          "output_type": "stream",
          "text": [
            "Accuracy for alphabet Gurmukhi: 0.7555555555555555\n"
          ]
        },
        {
          "name": "stderr",
          "output_type": "stream",
          "text": [
            " 45%|████▌     | 9/20 [09:50<18:09, 99.07s/it]"
          ]
        },
        {
          "name": "stdout",
          "output_type": "stream",
          "text": [
            "Accuracy for alphabet Kannada: 0.7445442875481386\n"
          ]
        },
        {
          "name": "stderr",
          "output_type": "stream",
          "text": [
            " 50%|█████     | 10/20 [10:39<13:54, 83.47s/it]"
          ]
        },
        {
          "name": "stdout",
          "output_type": "stream",
          "text": [
            "Accuracy for alphabet Keble: 0.8987854251012146\n"
          ]
        },
        {
          "name": "stderr",
          "output_type": "stream",
          "text": [
            " 55%|█████▌    | 11/20 [13:18<16:00, 106.74s/it]"
          ]
        },
        {
          "name": "stdout",
          "output_type": "stream",
          "text": [
            "Accuracy for alphabet Malayalam: 0.7603583426651735\n"
          ]
        },
        {
          "name": "stderr",
          "output_type": "stream",
          "text": [
            " 60%|██████    | 12/20 [15:11<14:29, 108.65s/it]"
          ]
        },
        {
          "name": "stdout",
          "output_type": "stream",
          "text": [
            "Accuracy for alphabet Manipuri: 0.7276315789473684\n"
          ]
        },
        {
          "name": "stderr",
          "output_type": "stream",
          "text": [
            " 65%|██████▌   | 13/20 [16:15<11:05, 95.04s/it] "
          ]
        },
        {
          "name": "stdout",
          "output_type": "stream",
          "text": [
            "Accuracy for alphabet Mongolian: 0.8859649122807017\n"
          ]
        },
        {
          "name": "stderr",
          "output_type": "stream",
          "text": [
            " 70%|███████   | 14/20 [18:42<11:04, 110.67s/it]"
          ]
        },
        {
          "name": "stdout",
          "output_type": "stream",
          "text": [
            "Accuracy for alphabet Old_Church_Slavonic_(Cyrillic): 0.9157894736842105\n"
          ]
        },
        {
          "name": "stderr",
          "output_type": "stream",
          "text": [
            " 75%|███████▌  | 15/20 [21:30<10:40, 128.20s/it]"
          ]
        },
        {
          "name": "stdout",
          "output_type": "stream",
          "text": [
            "Accuracy for alphabet Oriya: 0.6121281464530892\n"
          ]
        },
        {
          "name": "stderr",
          "output_type": "stream",
          "text": [
            " 80%|████████  | 16/20 [22:39<07:20, 110.24s/it]"
          ]
        },
        {
          "name": "stdout",
          "output_type": "stream",
          "text": [
            "Accuracy for alphabet Sylheti: 0.6842105263157895\n"
          ]
        },
        {
          "name": "stderr",
          "output_type": "stream",
          "text": [
            " 85%|████████▌ | 17/20 [23:26<04:33, 91.14s/it] "
          ]
        },
        {
          "name": "stdout",
          "output_type": "stream",
          "text": [
            "Accuracy for alphabet Syriac_(Serto): 0.7917620137299771\n"
          ]
        },
        {
          "name": "stderr",
          "output_type": "stream",
          "text": [
            " 90%|█████████ | 18/20 [24:22<02:41, 80.80s/it]"
          ]
        },
        {
          "name": "stdout",
          "output_type": "stream",
          "text": [
            "Accuracy for alphabet Tengwar: 0.8736842105263158\n"
          ]
        },
        {
          "name": "stderr",
          "output_type": "stream",
          "text": [
            " 95%|█████████▌| 19/20 [27:10<01:47, 107.02s/it]"
          ]
        },
        {
          "name": "stdout",
          "output_type": "stream",
          "text": [
            "Accuracy for alphabet Tibetan: 0.8659147869674185\n"
          ]
        },
        {
          "name": "stderr",
          "output_type": "stream",
          "text": [
            "100%|██████████| 20/20 [28:16<00:00, 84.84s/it] \n"
          ]
        },
        {
          "name": "stdout",
          "output_type": "stream",
          "text": [
            "Accuracy for alphabet ULOG: 0.5242914979757085\n"
          ]
        },
        {
          "name": "stderr",
          "output_type": "stream",
          "text": [
            "  5%|▌         | 1/20 [00:40<12:48, 40.44s/it]"
          ]
        },
        {
          "name": "stdout",
          "output_type": "stream",
          "text": [
            "Accuracy for alphabet Angelic: 0.9710526315789474\n"
          ]
        },
        {
          "name": "stderr",
          "output_type": "stream",
          "text": [
            " 10%|█         | 2/20 [01:50<17:16, 57.57s/it]"
          ]
        },
        {
          "name": "stdout",
          "output_type": "stream",
          "text": [
            "Accuracy for alphabet Atemayar_Qelisayer: 0.9089068825910931\n"
          ]
        },
        {
          "name": "stderr",
          "output_type": "stream",
          "text": [
            " 15%|█▌        | 3/20 [03:33<22:18, 78.73s/it]"
          ]
        },
        {
          "name": "stdout",
          "output_type": "stream",
          "text": [
            "Accuracy for alphabet Atlantean: 0.9635627530364372\n"
          ]
        },
        {
          "name": "stderr",
          "output_type": "stream",
          "text": [
            " 20%|██        | 4/20 [04:25<18:08, 68.00s/it]"
          ]
        },
        {
          "name": "stdout",
          "output_type": "stream",
          "text": [
            "Accuracy for alphabet Aurek-Besh: 0.9493927125506073\n"
          ]
        },
        {
          "name": "stderr",
          "output_type": "stream",
          "text": [
            " 25%|██▌       | 5/20 [05:05<14:27, 57.81s/it]"
          ]
        },
        {
          "name": "stdout",
          "output_type": "stream",
          "text": [
            "Accuracy for alphabet Avesta: 0.9736842105263158\n"
          ]
        },
        {
          "name": "stderr",
          "output_type": "stream",
          "text": [
            " 30%|███       | 6/20 [05:43<11:55, 51.10s/it]"
          ]
        },
        {
          "name": "stdout",
          "output_type": "stream",
          "text": [
            "Accuracy for alphabet Ge_ez: 0.9696356275303644\n"
          ]
        },
        {
          "name": "stderr",
          "output_type": "stream",
          "text": [
            " 35%|███▌      | 7/20 [08:06<17:34, 81.11s/it]"
          ]
        },
        {
          "name": "stdout",
          "output_type": "stream",
          "text": [
            "Accuracy for alphabet Glagolitic: 0.8865497076023392\n"
          ]
        },
        {
          "name": "stderr",
          "output_type": "stream",
          "text": [
            " 40%|████      | 8/20 [10:21<19:38, 98.23s/it]"
          ]
        },
        {
          "name": "stdout",
          "output_type": "stream",
          "text": [
            "Accuracy for alphabet Gurmukhi: 0.9076023391812865\n"
          ]
        },
        {
          "name": "stderr",
          "output_type": "stream",
          "text": [
            " 45%|████▌     | 9/20 [12:05<18:20, 100.04s/it]"
          ]
        },
        {
          "name": "stdout",
          "output_type": "stream",
          "text": [
            "Accuracy for alphabet Kannada: 0.8510911424903723\n"
          ]
        },
        {
          "name": "stderr",
          "output_type": "stream",
          "text": [
            " 50%|█████     | 10/20 [12:47<13:41, 82.17s/it]"
          ]
        },
        {
          "name": "stdout",
          "output_type": "stream",
          "text": [
            "Accuracy for alphabet Keble: 0.9696356275303644\n"
          ]
        },
        {
          "name": "stderr",
          "output_type": "stream",
          "text": [
            " 55%|█████▌    | 11/20 [15:01<14:42, 98.09s/it]"
          ]
        },
        {
          "name": "stdout",
          "output_type": "stream",
          "text": [
            "Accuracy for alphabet Malayalam: 0.8891377379619261\n"
          ]
        },
        {
          "name": "stderr",
          "output_type": "stream",
          "text": [
            " 60%|██████    | 12/20 [16:48<13:27, 100.92s/it]"
          ]
        },
        {
          "name": "stdout",
          "output_type": "stream",
          "text": [
            "Accuracy for alphabet Manipuri: 0.8605263157894737\n"
          ]
        },
        {
          "name": "stderr",
          "output_type": "stream",
          "text": [
            " 65%|██████▌   | 13/20 [17:43<10:08, 86.90s/it] "
          ]
        },
        {
          "name": "stdout",
          "output_type": "stream",
          "text": [
            "Accuracy for alphabet Mongolian: 0.956140350877193\n"
          ]
        },
        {
          "name": "stderr",
          "output_type": "stream",
          "text": [
            " 70%|███████   | 14/20 [19:42<09:40, 96.74s/it]"
          ]
        },
        {
          "name": "stdout",
          "output_type": "stream",
          "text": [
            "Accuracy for alphabet Old_Church_Slavonic_(Cyrillic): 0.9614035087719298\n"
          ]
        },
        {
          "name": "stderr",
          "output_type": "stream",
          "text": [
            " 75%|███████▌  | 15/20 [22:08<09:17, 111.41s/it]"
          ]
        },
        {
          "name": "stdout",
          "output_type": "stream",
          "text": [
            "Accuracy for alphabet Oriya: 0.7482837528604119\n"
          ]
        },
        {
          "name": "stderr",
          "output_type": "stream",
          "text": [
            " 80%|████████  | 16/20 [23:06<06:21, 95.42s/it] "
          ]
        },
        {
          "name": "stdout",
          "output_type": "stream",
          "text": [
            "Accuracy for alphabet Sylheti: 0.8383458646616542\n"
          ]
        },
        {
          "name": "stderr",
          "output_type": "stream",
          "text": [
            " 85%|████████▌ | 17/20 [23:47<03:57, 79.01s/it]"
          ]
        },
        {
          "name": "stdout",
          "output_type": "stream",
          "text": [
            "Accuracy for alphabet Syriac_(Serto): 0.9405034324942791\n"
          ]
        },
        {
          "name": "stderr",
          "output_type": "stream",
          "text": [
            " 90%|█████████ | 18/20 [24:34<02:18, 69.44s/it]"
          ]
        },
        {
          "name": "stdout",
          "output_type": "stream",
          "text": [
            "Accuracy for alphabet Tengwar: 0.9368421052631579\n"
          ]
        },
        {
          "name": "stderr",
          "output_type": "stream",
          "text": [
            " 95%|█████████▌| 19/20 [26:44<01:27, 87.45s/it]"
          ]
        },
        {
          "name": "stdout",
          "output_type": "stream",
          "text": [
            "Accuracy for alphabet Tibetan: 0.9536340852130326\n"
          ]
        },
        {
          "name": "stderr",
          "output_type": "stream",
          "text": [
            "100%|██████████| 20/20 [27:41<00:00, 83.10s/it]\n"
          ]
        },
        {
          "name": "stdout",
          "output_type": "stream",
          "text": [
            "Accuracy for alphabet ULOG: 0.6761133603238867\n"
          ]
        },
        {
          "name": "stderr",
          "output_type": "stream",
          "text": [
            "  5%|▌         | 1/20 [01:41<32:17, 101.99s/it]"
          ]
        },
        {
          "name": "stdout",
          "output_type": "stream",
          "text": [
            "Accuracy for alphabet Angelic: 0.9921052631578947\n"
          ]
        },
        {
          "name": "stderr",
          "output_type": "stream",
          "text": [
            " 10%|█         | 2/20 [02:59<26:11, 87.30s/it] "
          ]
        },
        {
          "name": "stdout",
          "output_type": "stream",
          "text": [
            "Accuracy for alphabet Atemayar_Qelisayer: 0.9595141700404858\n"
          ]
        },
        {
          "name": "stderr",
          "output_type": "stream",
          "text": [
            " 15%|█▌        | 3/20 [04:16<23:25, 82.70s/it]"
          ]
        },
        {
          "name": "stdout",
          "output_type": "stream",
          "text": [
            "Accuracy for alphabet Atlantean: 0.9898785425101214\n"
          ]
        },
        {
          "name": "stderr",
          "output_type": "stream",
          "text": [
            " 20%|██        | 4/20 [05:35<21:42, 81.39s/it]"
          ]
        },
        {
          "name": "stdout",
          "output_type": "stream",
          "text": [
            "Accuracy for alphabet Aurek-Besh: 0.9574898785425101\n"
          ]
        },
        {
          "name": "stderr",
          "output_type": "stream",
          "text": [
            " 25%|██▌       | 5/20 [07:45<24:43, 98.93s/it]"
          ]
        },
        {
          "name": "stdout",
          "output_type": "stream",
          "text": [
            "Accuracy for alphabet Avesta: 0.9919028340080972\n"
          ]
        },
        {
          "name": "stderr",
          "output_type": "stream",
          "text": [
            " 30%|███       | 6/20 [10:00<25:54, 111.01s/it]"
          ]
        },
        {
          "name": "stdout",
          "output_type": "stream",
          "text": [
            "Accuracy for alphabet Ge_ez: 0.9838056680161943\n"
          ]
        },
        {
          "name": "stderr",
          "output_type": "stream",
          "text": [
            " 35%|███▌      | 7/20 [15:50<41:02, 189.42s/it]"
          ]
        },
        {
          "name": "stdout",
          "output_type": "stream",
          "text": [
            "Accuracy for alphabet Glagolitic: 0.9461988304093567\n"
          ]
        },
        {
          "name": "stderr",
          "output_type": "stream",
          "text": [
            " 40%|████      | 8/20 [5:11:27<19:15:07, 5775.60s/it]"
          ]
        },
        {
          "name": "stdout",
          "output_type": "stream",
          "text": [
            "Accuracy for alphabet Gurmukhi: 0.9719298245614035\n"
          ]
        },
        {
          "name": "stderr",
          "output_type": "stream",
          "text": [
            " 45%|████▌     | 9/20 [5:13:33<12:15:05, 4009.56s/it]"
          ]
        },
        {
          "name": "stdout",
          "output_type": "stream",
          "text": [
            "Accuracy for alphabet Kannada: 0.9370988446726572\n"
          ]
        },
        {
          "name": "stderr",
          "output_type": "stream",
          "text": [
            " 50%|█████     | 10/20 [5:14:23<7:44:30, 2787.07s/it]"
          ]
        },
        {
          "name": "stdout",
          "output_type": "stream",
          "text": [
            "Accuracy for alphabet Keble: 0.9939271255060729\n"
          ]
        },
        {
          "name": "stderr",
          "output_type": "stream",
          "text": [
            " 55%|█████▌    | 11/20 [5:16:46<4:56:39, 1977.76s/it]"
          ]
        },
        {
          "name": "stdout",
          "output_type": "stream",
          "text": [
            "Accuracy for alphabet Malayalam: 0.9608062709966405\n"
          ]
        },
        {
          "name": "stderr",
          "output_type": "stream",
          "text": [
            " 60%|██████    | 12/20 [5:18:20<3:07:17, 1404.74s/it]"
          ]
        },
        {
          "name": "stdout",
          "output_type": "stream",
          "text": [
            "Accuracy for alphabet Manipuri: 0.95\n"
          ]
        },
        {
          "name": "stderr",
          "output_type": "stream",
          "text": [
            " 65%|██████▌   | 13/20 [5:19:13<1:56:06, 995.26s/it] "
          ]
        },
        {
          "name": "stdout",
          "output_type": "stream",
          "text": [
            "Accuracy for alphabet Mongolian: 0.9929824561403509\n"
          ]
        },
        {
          "name": "stderr",
          "output_type": "stream",
          "text": [
            " 70%|███████   | 14/20 [5:21:33<1:13:40, 736.83s/it]"
          ]
        },
        {
          "name": "stdout",
          "output_type": "stream",
          "text": [
            "Accuracy for alphabet Old_Church_Slavonic_(Cyrillic): 0.9801169590643275\n"
          ]
        },
        {
          "name": "stderr",
          "output_type": "stream",
          "text": [
            " 75%|███████▌  | 15/20 [5:23:49<46:18, 555.75s/it]  "
          ]
        },
        {
          "name": "stdout",
          "output_type": "stream",
          "text": [
            "Accuracy for alphabet Oriya: 0.8867276887871853\n"
          ]
        },
        {
          "name": "stderr",
          "output_type": "stream",
          "text": [
            " 80%|████████  | 16/20 [5:24:35<26:49, 402.30s/it]"
          ]
        },
        {
          "name": "stdout",
          "output_type": "stream",
          "text": [
            "Accuracy for alphabet Sylheti: 0.9360902255639098\n"
          ]
        },
        {
          "name": "stderr",
          "output_type": "stream",
          "text": [
            " 85%|████████▌ | 17/20 [5:25:06<14:31, 290.61s/it]"
          ]
        },
        {
          "name": "stdout",
          "output_type": "stream",
          "text": [
            "Accuracy for alphabet Syriac_(Serto): 0.9862700228832952\n"
          ]
        },
        {
          "name": "stderr",
          "output_type": "stream",
          "text": [
            " 90%|█████████ | 18/20 [5:25:40<07:07, 213.67s/it]"
          ]
        },
        {
          "name": "stdout",
          "output_type": "stream",
          "text": [
            "Accuracy for alphabet Tengwar: 0.9873684210526316\n"
          ]
        },
        {
          "name": "stderr",
          "output_type": "stream",
          "text": [
            " 95%|█████████▌| 19/20 [5:27:16<02:58, 178.31s/it]"
          ]
        },
        {
          "name": "stdout",
          "output_type": "stream",
          "text": [
            "Accuracy for alphabet Tibetan: 0.9774436090225563\n"
          ]
        },
        {
          "name": "stderr",
          "output_type": "stream",
          "text": [
            "100%|██████████| 20/20 [5:27:53<00:00, 983.66s/it]"
          ]
        },
        {
          "name": "stdout",
          "output_type": "stream",
          "text": [
            "Accuracy for alphabet ULOG: 0.8421052631578947\n"
          ]
        },
        {
          "name": "stderr",
          "output_type": "stream",
          "text": [
            "\n"
          ]
        }
      ],
      "source": [
        "accuracy_1 = evaluate_triplet_network(triplet_network, data_dict_test, preprocess, K=1, print_alphabet_accuracy=print_alphabet_accuracy)\n",
        "accuracy_2 = evaluate_triplet_network(triplet_network, data_dict_test, preprocess, K=2, print_alphabet_accuracy=print_alphabet_accuracy)\n",
        "accuracy_4 = evaluate_triplet_network(triplet_network, data_dict_test, preprocess, K=4, print_alphabet_accuracy=print_alphabet_accuracy)\n",
        "accuracy_8 = evaluate_triplet_network(triplet_network, data_dict_test, preprocess, K=8, print_alphabet_accuracy=print_alphabet_accuracy)\n"
      ]
    },
    {
      "cell_type": "code",
      "execution_count": 30,
      "id": "3a0fb478",
      "metadata": {
        "id": "3a0fb478"
      },
      "outputs": [
        {
          "name": "stdout",
          "output_type": "stream",
          "text": [
            "Accuracy 1: 0.6493890264355882\n",
            "Accuracy 2: 0.7977797300535101\n",
            "Accuracy 4: 0.8996885232808881\n",
            "Accuracy 8: 0.9586295024359077\n"
          ]
        }
      ],
      "source": [
        "print(f\"Accuracy 1: {accuracy_1}\")\n",
        "print(f\"Accuracy 2: {accuracy_2}\")\n",
        "print(f\"Accuracy 4: {accuracy_4}\")\n",
        "print(f\"Accuracy 8: {accuracy_8}\")"
      ]
    },
    {
      "cell_type": "code",
      "execution_count": 31,
      "id": "3d2413fe",
      "metadata": {
        "id": "3d2413fe"
      },
      "outputs": [
        {
          "name": "stdout",
          "output_type": "stream",
          "text": [
            "Number of images in alphabet Gurmukhi: 45\n"
          ]
        },
        {
          "data": {
            "image/png": "[encoded data removed]",
            "text/plain": [
              "<Figure size 2000x800 with 45 Axes>"
            ]
          },
          "metadata": {},
          "output_type": "display_data"
        },
        {
          "data": {
            "image/png": "[encoded data removed]",
            "text/plain": [
              "<Figure size 1500x600 with 1 Axes>"
            ]
          },
          "metadata": {},
          "output_type": "display_data"
        },
        {
          "data": {
            "image/png": "[encoded data removed]",
            "text/plain": [
              "<Figure size 1500x600 with 1 Axes>"
            ]
          },
          "metadata": {},
          "output_type": "display_data"
        },
        {
          "data": {
            "image/png": "[encoded data removed]",
            "text/plain": [
              "<Figure size 1500x600 with 1 Axes>"
            ]
          },
          "metadata": {},
          "output_type": "display_data"
        },
        {
          "data": {
            "image/png": "[encoded data removed]",
            "text/plain": [
              "<Figure size 1500x600 with 1 Axes>"
            ]
          },
          "metadata": {},
          "output_type": "display_data"
        },
        {
          "data": {
            "image/png": "[encoded data removed]",
            "text/plain": [
              "<Figure size 1500x600 with 1 Axes>"
            ]
          },
          "metadata": {},
          "output_type": "display_data"
        },
        {
          "data": {
            "image/png": "[encoded data removed]",
            "text/plain": [
              "<Figure size 1500x600 with 1 Axes>"
            ]
          },
          "metadata": {},
          "output_type": "display_data"
        },
        {
          "data": {
            "image/png": "[encoded data removed]",
            "text/plain": [
              "<Figure size 1500x600 with 1 Axes>"
            ]
          },
          "metadata": {},
          "output_type": "display_data"
        },
        {
          "data": {
            "image/png": "[encoded data removed]",
            "text/plain": [
              "<Figure size 1500x600 with 1 Axes>"
            ]
          },
          "metadata": {},
          "output_type": "display_data"
        },
        {
          "data": {
            "image/png": "[encoded data removed]",
            "text/plain": [
              "<Figure size 1500x600 with 1 Axes>"
            ]
          },
          "metadata": {},
          "output_type": "display_data"
        },
        {
          "data": {
            "image/png": "[encoded data removed]",
            "text/plain": [
              "<Figure size 1500x600 with 1 Axes>"
            ]
          },
          "metadata": {},
          "output_type": "display_data"
        }
      ],
      "source": [
        "# Plot all the labelled images from a random alphabet in the test data\n",
        "alphabets_test = list(data_dict_test['annotated_images'].keys())\n",
        "alphabet_id = np.random.randint(0, len(alphabets_test))\n",
        "alphabet = alphabets_test[alphabet_id]\n",
        "\n",
        "alphabet_annotated = data_dict_test['annotated_images'][alphabet]\n",
        "alphabet_annotated_labels = data_dict_test['annotated_images_labels'][alphabet]\n",
        "\n",
        "num_images = len(alphabet_annotated)\n",
        "print(f\"Number of images in alphabet {alphabet}: {num_images}\")\n",
        "\n",
        "num_rows = num_images // 5 + (num_images % 5 > 0)  # This will round up to the nearest multiple of 5\n",
        "num_cols = 5\n",
        "\n",
        "plt.figure(figsize=(20, 8))\n",
        "for i in range(num_images):\n",
        "    plt.subplot(num_rows, num_cols, i+1)\n",
        "    plt.imshow(alphabet_annotated[i].squeeze(0), cmap='gray')\n",
        "    plt.title(alphabet_annotated_labels[i])\n",
        "    plt.axis('off')\n",
        "\n",
        "\n",
        "# Random indexes from the unseen images\n",
        "random_idx = np.random.choice(len(data_dict_test['unseen_images'][alphabet]), 10)\n",
        "K = 2\n",
        "# Plot 10 unseen images from the same alphabet with their predicted labels\n",
        "for i, unseen_image in enumerate(data_dict_test['unseen_images'][alphabet][random_idx]):\n",
        "\n",
        "    # compute embedding for unseen image\n",
        "    toPILImage = transforms.ToPILImage()\n",
        "    unseen_image = toPILImage(unseen_image)\n",
        "    unseen_image = preprocess(unseen_image)\n",
        "    embedding_unseen = triplet_network.get_embedding(unseen_image.unsqueeze(0).to(DEVICE))\n",
        "\n",
        "    # list of cosine similarities\n",
        "    distances = []\n",
        "\n",
        "    for j, annotated_image in enumerate(data_dict_test['annotated_images'][alphabet]):\n",
        "\n",
        "        # Convert the images to PIL images\n",
        "        annotated_image = toPILImage(annotated_image)\n",
        "        annotated_image = preprocess(annotated_image)\n",
        "        embedding_unnnotated = triplet_network.get_embedding(annotated_image.unsqueeze(0).to(DEVICE))\n",
        "\n",
        "        distance = torch.sqrt(torch.sum((embedding_unseen - embedding_unnnotated) ** 2, dim=1))\n",
        "        distances.append(torch.mean(distance).item())\n",
        "\n",
        "    # Get the indices of the K smallest distances\n",
        "    #print(f\"distances: {distances}\")\n",
        "    most_similar_indices = np.argsort(distances)[:K]\n",
        "    #print(f\"most similar indices: {most_similar_indices}\")\n",
        "    # Get the corresponding labels\n",
        "    most_similar_labels = [data_dict_test['annotated_images_labels'][alphabet][idx] for idx in most_similar_indices]\n",
        "    #print(f\"most similar labels: {most_similar_labels}\")\n",
        "\n",
        "    # Get the actual label of the unseen image\n",
        "    actual_label = data_dict_test['unseen_images_labels'][alphabet][random_idx[i]]\n",
        "    #print(f\"actual label: {actual_label}\")\n",
        "\n",
        "    plt.figure(figsize=(15, 6))\n",
        "    plt.subplot(1, 2, 1)\n",
        "    plt.imshow(unseen_image.squeeze(0), cmap='gray')\n",
        "    plt.title(f\"Predicted: {most_similar_labels}, Actual: {actual_label}\")"
      ]
    },
    {
      "cell_type": "markdown",
      "id": "f49a6fcc9bcd5994",
      "metadata": {
        "collapsed": false,
        "id": "f49a6fcc9bcd5994"
      },
      "source": [
        "# Task 2: rotation problem"
      ]
    },
    {
      "cell_type": "code",
      "execution_count": 25,
      "id": "800d9fa43d711ae0",
      "metadata": {
        "id": "800d9fa43d711ae0"
      },
      "outputs": [],
      "source": [
        "# load the test data for task 2:\n",
        "# the structure of the test data of task 2 is exactly the same as for task 1,\n",
        "# but now the images are rotated by an unknown angle between 0 and 360 degrees.\n",
        "data_dict_test_task2 = load_data('data/test_data_task2.pkl')"
      ]
    },
    {
      "cell_type": "code",
      "execution_count": 26,
      "id": "cfd690817a188882",
      "metadata": {
        "id": "cfd690817a188882"
      },
      "outputs": [
        {
          "data": {
            "text/plain": [
              "dict_keys(['annotated_images', 'annotated_images_labels', 'unseen_images', 'unseen_images_labels'])"
            ]
          },
          "execution_count": 26,
          "metadata": {},
          "output_type": "execute_result"
        }
      ],
      "source": [
        "data_dict_test_task2.keys()"
      ]
    },
    {
      "cell_type": "code",
      "execution_count": 42,
      "id": "b21b8b69",
      "metadata": {},
      "outputs": [],
      "source": [
        "# import torch\n",
        "# import torch.nn as nn\n",
        "# import torch.nn.functional as F\n",
        "# from e2cnn.gspaces import Rot2dOnR2\n",
        "# from e2cnn.nn import FieldType, R2Conv, InnerBatchNorm, ReLU, GeometricTensor, PointwiseMaxPool\n",
        "\n",
        "# class Lambda(nn.Module):\n",
        "#     def __init__(self, func):\n",
        "#         super().__init__()\n",
        "#         self.func = func\n",
        "\n",
        "#     def forward(self, x):\n",
        "#         return self.func(x)\n",
        "\n",
        "# class RotationEquivariantCNN(nn.Module):\n",
        "#     def __init__(self):\n",
        "#         super(RotationEquivariantCNN, self).__init__()\n",
        "        \n",
        "#         # Definire lo spazio geometrico con simmetria rotazionale di ordine 8\n",
        "#         self.r2_act = Rot2dOnR2(N=8)\n",
        "\n",
        "#         # Creare FieldType per input e output degli strati\n",
        "#         input_type = FieldType(self.r2_act, [self.r2_act.trivial_repr])\n",
        "#         hidden_type = FieldType(self.r2_act, [self.r2_act.regular_repr] * 16)\n",
        "#         output_type = FieldType(self.r2_act, [self.r2_act.regular_repr] * 32)\n",
        "\n",
        "#         self.input_type = input_type\n",
        "#         self.hidden_type = hidden_type\n",
        "#         self.output_type = output_type\n",
        "        \n",
        "#         self.front_layer = nn.Sequential(\n",
        "#             # Conv Layer block 1\n",
        "#             R2Conv(input_type, hidden_type, kernel_size=3, padding=1),\n",
        "#             InnerBatchNorm(hidden_type),\n",
        "#             ReLU(hidden_type, inplace=True),\n",
        "#             R2Conv(hidden_type, hidden_type, kernel_size=3, padding=1),\n",
        "#             ReLU(hidden_type, inplace=True),\n",
        "#             PointwiseMaxPool(hidden_type, kernel_size=2, stride=2),\n",
        "\n",
        "#             # Conv Layer block 2\n",
        "#             R2Conv(hidden_type, output_type, kernel_size=3, padding=1),\n",
        "#             InnerBatchNorm(output_type),\n",
        "#             ReLU(output_type, inplace=True),\n",
        "#             R2Conv(output_type, output_type, kernel_size=3, padding=1),\n",
        "#             ReLU(output_type, inplace=True),\n",
        "#             PointwiseMaxPool(output_type, kernel_size=2, stride=2),\n",
        "            \n",
        "#             # Conv Layer block 3\n",
        "#             # R2Conv(output_type, output_type, kernel_size=3, padding=1),\n",
        "#             # InnerBatchNorm(output_type),\n",
        "#             # ReLU(output_type, inplace=True),\n",
        "#             # R2Conv(output_type, output_type, kernel_size=3, padding=1),\n",
        "#             # ReLU(output_type, inplace=True),\n",
        "#             # PointwiseMaxPool(kernel_size=2, stride=2),\n",
        "\n",
        "#             Lambda(lambda x: x.tensor.view(x.tensor.size(0), -1)),\n",
        "\n",
        "#             nn.Linear(4096, 1024),\n",
        "#             nn.ReLU(inplace=True),\n",
        "#             nn.Linear(1024, 512),\n",
        "#             nn.ReLU(inplace=True),\n",
        "#         )\n",
        "\n",
        "#         self.last_layer = nn.Linear(512, 10)\n",
        "\n",
        "#     def forward(self, x):\n",
        "#         # Convertire l'input in un GeometricTensor\n",
        "#         print(\"input_type \", [self.r2_act.trivial_repr])\n",
        "#         print(\"hidden_type \", [self.r2_act.regular_repr] * 16)\n",
        "#         print(\"output_type \", self.output_type)\n",
        "\n",
        "#         x = GeometricTensor(x, self.input_type)\n",
        "#         x = self.front_layer(x)\n",
        "#         x = self.last_layer(x)\n",
        "#         return x\n",
        "\n",
        "#     def get_embedding(self, x):\n",
        "#         return self.forward(x)"
      ]
    },
    {
      "cell_type": "code",
      "execution_count": 27,
      "id": "727563ed",
      "metadata": {},
      "outputs": [],
      "source": [
        "import torch\n",
        "import torch.nn as nn\n",
        "import torch.nn.functional as F\n",
        "from e2cnn import gspaces\n",
        "from e2cnn import nn as enn\n",
        "\n",
        "class Lambda(nn.Module):\n",
        "    def __init__(self, func):\n",
        "        super().__init__()\n",
        "        self.func = func\n",
        "\n",
        "    def forward(self, x):\n",
        "        return self.func(x)\n",
        "\n",
        "class EquivariantEmbeddingNet(nn.Module):\n",
        "    def __init__(self):\n",
        "        super(EquivariantEmbeddingNet, self).__init__()\n",
        "        \n",
        "        # Definire uno spazio di simmetria con rotazioni discrete di 8 gradi\n",
        "        self.r2_act = gspaces.Rot2dOnR2(N=8)\n",
        "\n",
        "        # Definire il campo di input: 1 canale con rappresentazione regolare\n",
        "        in_type = enn.FieldType(self.r2_act, [self.r2_act.trivial_repr])\n",
        "\n",
        "        # Definire i campi di output per i vari strati convolutivi\n",
        "        out_type1 = enn.FieldType(self.r2_act, 8*[self.r2_act.regular_repr])\n",
        "        out_type2 = enn.FieldType(self.r2_act, 16*[self.r2_act.regular_repr])\n",
        "        out_type3 = enn.FieldType(self.r2_act, 32*[self.r2_act.regular_repr])\n",
        "\n",
        "        # Layer iniziale per adattare il numero di canali\n",
        "        self.initial_conv = enn.R2Conv(in_type, out_type1, kernel_size=3, padding=1)\n",
        "\n",
        "        # Costruire la rete convolutiva sequenziale\n",
        "        self.conv_layers = enn.SequentialModule(\n",
        "            # Primo blocco convolutivo\n",
        "            enn.R2Conv(in_type, out_type1, kernel_size=3, padding=1),\n",
        "            enn.InnerBatchNorm(out_type1),\n",
        "            enn.ReLU(out_type1, inplace=True),\n",
        "            enn.R2Conv(out_type1, out_type1, kernel_size=3, padding=1),\n",
        "            enn.ReLU(out_type1, inplace=True),\n",
        "            enn.PointwiseMaxPool(out_type1, kernel_size=2, stride=2),\n",
        "\n",
        "            # Secondo blocco convolutivo\n",
        "            enn.R2Conv(out_type1, out_type2, kernel_size=3, padding=1),\n",
        "            enn.InnerBatchNorm(out_type2),\n",
        "            enn.ReLU(out_type2, inplace=True),\n",
        "            enn.R2Conv(out_type2, out_type2, kernel_size=3, padding=1),\n",
        "            enn.ReLU(out_type2, inplace=True),\n",
        "            enn.PointwiseMaxPool(out_type2, kernel_size=2, stride=2),\n",
        "\n",
        "            # Terzo blocco convolutivo\n",
        "            enn.R2Conv(out_type2, out_type3, kernel_size=3, padding=1),\n",
        "            enn.InnerBatchNorm(out_type3),\n",
        "            enn.ReLU(out_type3, inplace=True),\n",
        "            enn.R2Conv(out_type3, out_type3, kernel_size=3, padding=1),\n",
        "            enn.ReLU(out_type3, inplace=True),\n",
        "            enn.PointwiseMaxPool(out_type3, kernel_size=2, stride=2),\n",
        "        )\n",
        "\n",
        "        self.input_type = in_type\n",
        "        \n",
        "        # Fully connected layers\n",
        "        self.fc1 = nn.Linear(4096, 1024)\n",
        "        self.fc2 = nn.Linear(1024, 256)\n",
        "        self.fc3 = nn.Linear(256, 10)\n",
        "\n",
        "    def forward(self, x):\n",
        "        # Ingresso: crea un GeometricTensor dal tensore di input\n",
        "        x = enn.GeometricTensor(x, self.input_type)\n",
        "        \n",
        "        # Passa attraverso i blocchi convolutivi sequenziali\n",
        "        x = self.conv_layers(x)\n",
        "        \n",
        "        x = x.tensor\n",
        "\n",
        "        # Appiattisci e passa attraverso gli strati fully connected\n",
        "        x = x.view(x.size(0), -1)\n",
        "        x = F.relu(self.fc1(x))\n",
        "        x = F.relu(self.fc2(x))\n",
        "        x = self.fc3(x)\n",
        "        return x\n",
        "\n",
        "    def get_embedding(self, x):\n",
        "        return self.forward(x)\n"
      ]
    },
    {
      "cell_type": "code",
      "execution_count": 28,
      "id": "72078baf",
      "metadata": {},
      "outputs": [
        {
          "name": "stderr",
          "output_type": "stream",
          "text": [
            "d:\\Projects\\Deep Learning\\Deep-Learning-Assignment-1\\.venv\\lib\\site-packages\\e2cnn\\nn\\modules\\r2_conv\\basisexpansion_singleblock.py:80: UserWarning: indexing with dtype torch.uint8 is now deprecated, please use a dtype torch.bool instead. (Triggered internally at C:\\actions-runner\\_work\\pytorch\\pytorch\\builder\\windows\\pytorch\\aten\\src\\ATen/native/IndexingUtils.h:28.)\n",
            "  full_mask[mask] = norms.to(torch.uint8)\n"
          ]
        }
      ],
      "source": [
        "equivariant_triplet_net = TripletNet(EquivariantEmbeddingNet()).to(DEVICE)"
      ]
    },
    {
      "cell_type": "code",
      "execution_count": 30,
      "id": "0fdd27c8",
      "metadata": {},
      "outputs": [
        {
          "name": "stderr",
          "output_type": "stream",
          "text": [
            "Epoch 1:   0%|          | 0/9158 [00:00<?, ?it/s]"
          ]
        },
        {
          "name": "stderr",
          "output_type": "stream",
          "text": [
            "Epoch 1:   1%|▏         | 119/9158 [02:38<3:20:19,  1.33s/it, loss=0.534, distance=1.53]\n"
          ]
        },
        {
          "ename": "KeyboardInterrupt",
          "evalue": "",
          "output_type": "error",
          "traceback": [
            "\u001b[1;31m---------------------------------------------------------------------------\u001b[0m",
            "\u001b[1;31mKeyboardInterrupt\u001b[0m                         Traceback (most recent call last)",
            "Cell \u001b[1;32mIn[30], line 3\u001b[0m\n\u001b[0;32m      1\u001b[0m \u001b[38;5;66;03m# train the rotation invariant triplet network\u001b[39;00m\n\u001b[0;32m      2\u001b[0m \u001b[38;5;28;01mif\u001b[39;00m TRAIN_TRIPLET_ROTATION:\n\u001b[1;32m----> 3\u001b[0m     \u001b[43mtrain_triplet_network\u001b[49m\u001b[43m(\u001b[49m\u001b[43mequivariant_triplet_net\u001b[49m\u001b[43m,\u001b[49m\u001b[43m \u001b[49m\u001b[43mtrain_loader\u001b[49m\u001b[43m,\u001b[49m\u001b[43m \u001b[49m\u001b[43mval_loader\u001b[49m\u001b[43m,\u001b[49m\u001b[43m \u001b[49m\u001b[43mnum_epochs\u001b[49m\u001b[38;5;241;43m=\u001b[39;49m\u001b[38;5;241;43m1\u001b[39;49m\u001b[43m,\u001b[49m\u001b[43m \u001b[49m\u001b[43mlearning_rate\u001b[49m\u001b[38;5;241;43m=\u001b[39;49m\u001b[38;5;241;43m0.0001\u001b[39;49m\u001b[43m)\u001b[49m\n\u001b[0;32m      4\u001b[0m     \u001b[38;5;66;03m# Save the trained Siamese network\u001b[39;00m\n\u001b[0;32m      5\u001b[0m     torch\u001b[38;5;241m.\u001b[39msave(equivariant_triplet_net\u001b[38;5;241m.\u001b[39mstate_dict(), \u001b[38;5;124m'\u001b[39m\u001b[38;5;124mrotation_invariant_triplet_network.pth\u001b[39m\u001b[38;5;124m'\u001b[39m)\n",
            "Cell \u001b[1;32mIn[17], line 47\u001b[0m, in \u001b[0;36mtrain_triplet_network\u001b[1;34m(triplet_network, train_loader, val_loader, num_epochs, learning_rate, device)\u001b[0m\n\u001b[0;32m     45\u001b[0m output1, output2, output3 \u001b[38;5;241m=\u001b[39m triplet_network(img1, img2, img3)\n\u001b[0;32m     46\u001b[0m loss \u001b[38;5;241m=\u001b[39m criterion(output1, output2, output3)\n\u001b[1;32m---> 47\u001b[0m \u001b[43mloss\u001b[49m\u001b[38;5;241;43m.\u001b[39;49m\u001b[43mbackward\u001b[49m\u001b[43m(\u001b[49m\u001b[43m)\u001b[49m\n\u001b[0;32m     48\u001b[0m optimizer\u001b[38;5;241m.\u001b[39mstep()\n\u001b[0;32m     49\u001b[0m running_loss \u001b[38;5;241m+\u001b[39m\u001b[38;5;241m=\u001b[39m loss\u001b[38;5;241m.\u001b[39mitem()\n",
            "File \u001b[1;32md:\\Projects\\Deep Learning\\Deep-Learning-Assignment-1\\.venv\\lib\\site-packages\\torch\\_tensor.py:525\u001b[0m, in \u001b[0;36mTensor.backward\u001b[1;34m(self, gradient, retain_graph, create_graph, inputs)\u001b[0m\n\u001b[0;32m    515\u001b[0m \u001b[38;5;28;01mif\u001b[39;00m has_torch_function_unary(\u001b[38;5;28mself\u001b[39m):\n\u001b[0;32m    516\u001b[0m     \u001b[38;5;28;01mreturn\u001b[39;00m handle_torch_function(\n\u001b[0;32m    517\u001b[0m         Tensor\u001b[38;5;241m.\u001b[39mbackward,\n\u001b[0;32m    518\u001b[0m         (\u001b[38;5;28mself\u001b[39m,),\n\u001b[1;32m   (...)\u001b[0m\n\u001b[0;32m    523\u001b[0m         inputs\u001b[38;5;241m=\u001b[39minputs,\n\u001b[0;32m    524\u001b[0m     )\n\u001b[1;32m--> 525\u001b[0m \u001b[43mtorch\u001b[49m\u001b[38;5;241;43m.\u001b[39;49m\u001b[43mautograd\u001b[49m\u001b[38;5;241;43m.\u001b[39;49m\u001b[43mbackward\u001b[49m\u001b[43m(\u001b[49m\n\u001b[0;32m    526\u001b[0m \u001b[43m    \u001b[49m\u001b[38;5;28;43mself\u001b[39;49m\u001b[43m,\u001b[49m\u001b[43m \u001b[49m\u001b[43mgradient\u001b[49m\u001b[43m,\u001b[49m\u001b[43m \u001b[49m\u001b[43mretain_graph\u001b[49m\u001b[43m,\u001b[49m\u001b[43m \u001b[49m\u001b[43mcreate_graph\u001b[49m\u001b[43m,\u001b[49m\u001b[43m \u001b[49m\u001b[43minputs\u001b[49m\u001b[38;5;241;43m=\u001b[39;49m\u001b[43minputs\u001b[49m\n\u001b[0;32m    527\u001b[0m \u001b[43m\u001b[49m\u001b[43m)\u001b[49m\n",
            "File \u001b[1;32md:\\Projects\\Deep Learning\\Deep-Learning-Assignment-1\\.venv\\lib\\site-packages\\torch\\autograd\\__init__.py:267\u001b[0m, in \u001b[0;36mbackward\u001b[1;34m(tensors, grad_tensors, retain_graph, create_graph, grad_variables, inputs)\u001b[0m\n\u001b[0;32m    262\u001b[0m     retain_graph \u001b[38;5;241m=\u001b[39m create_graph\n\u001b[0;32m    264\u001b[0m \u001b[38;5;66;03m# The reason we repeat the same comment below is that\u001b[39;00m\n\u001b[0;32m    265\u001b[0m \u001b[38;5;66;03m# some Python versions print out the first line of a multi-line function\u001b[39;00m\n\u001b[0;32m    266\u001b[0m \u001b[38;5;66;03m# calls in the traceback and some print out the last line\u001b[39;00m\n\u001b[1;32m--> 267\u001b[0m \u001b[43m_engine_run_backward\u001b[49m\u001b[43m(\u001b[49m\n\u001b[0;32m    268\u001b[0m \u001b[43m    \u001b[49m\u001b[43mtensors\u001b[49m\u001b[43m,\u001b[49m\n\u001b[0;32m    269\u001b[0m \u001b[43m    \u001b[49m\u001b[43mgrad_tensors_\u001b[49m\u001b[43m,\u001b[49m\n\u001b[0;32m    270\u001b[0m \u001b[43m    \u001b[49m\u001b[43mretain_graph\u001b[49m\u001b[43m,\u001b[49m\n\u001b[0;32m    271\u001b[0m \u001b[43m    \u001b[49m\u001b[43mcreate_graph\u001b[49m\u001b[43m,\u001b[49m\n\u001b[0;32m    272\u001b[0m \u001b[43m    \u001b[49m\u001b[43minputs\u001b[49m\u001b[43m,\u001b[49m\n\u001b[0;32m    273\u001b[0m \u001b[43m    \u001b[49m\u001b[43mallow_unreachable\u001b[49m\u001b[38;5;241;43m=\u001b[39;49m\u001b[38;5;28;43;01mTrue\u001b[39;49;00m\u001b[43m,\u001b[49m\n\u001b[0;32m    274\u001b[0m \u001b[43m    \u001b[49m\u001b[43maccumulate_grad\u001b[49m\u001b[38;5;241;43m=\u001b[39;49m\u001b[38;5;28;43;01mTrue\u001b[39;49;00m\u001b[43m,\u001b[49m\n\u001b[0;32m    275\u001b[0m \u001b[43m\u001b[49m\u001b[43m)\u001b[49m\n",
            "File \u001b[1;32md:\\Projects\\Deep Learning\\Deep-Learning-Assignment-1\\.venv\\lib\\site-packages\\torch\\autograd\\graph.py:744\u001b[0m, in \u001b[0;36m_engine_run_backward\u001b[1;34m(t_outputs, *args, **kwargs)\u001b[0m\n\u001b[0;32m    742\u001b[0m     unregister_hooks \u001b[38;5;241m=\u001b[39m _register_logging_hooks_on_whole_graph(t_outputs)\n\u001b[0;32m    743\u001b[0m \u001b[38;5;28;01mtry\u001b[39;00m:\n\u001b[1;32m--> 744\u001b[0m     \u001b[38;5;28;01mreturn\u001b[39;00m Variable\u001b[38;5;241m.\u001b[39m_execution_engine\u001b[38;5;241m.\u001b[39mrun_backward(  \u001b[38;5;66;03m# Calls into the C++ engine to run the backward pass\u001b[39;00m\n\u001b[0;32m    745\u001b[0m         t_outputs, \u001b[38;5;241m*\u001b[39margs, \u001b[38;5;241m*\u001b[39m\u001b[38;5;241m*\u001b[39mkwargs\n\u001b[0;32m    746\u001b[0m     )  \u001b[38;5;66;03m# Calls into the C++ engine to run the backward pass\u001b[39;00m\n\u001b[0;32m    747\u001b[0m \u001b[38;5;28;01mfinally\u001b[39;00m:\n\u001b[0;32m    748\u001b[0m     \u001b[38;5;28;01mif\u001b[39;00m attach_logging_hooks:\n",
            "\u001b[1;31mKeyboardInterrupt\u001b[0m: "
          ]
        }
      ],
      "source": [
        "# train the rotation invariant triplet network\n",
        "if TRAIN_TRIPLET_ROTATION:\n",
        "    train_triplet_network(equivariant_triplet_net, train_loader, val_loader, num_epochs=1, learning_rate=0.0001)\n",
        "    # Save the trained Siamese network\n",
        "    torch.save(equivariant_triplet_net.state_dict(), 'rotation_invariant_triplet_network.pth')"
      ]
    },
    {
      "cell_type": "code",
      "execution_count": 122,
      "id": "ab7aa34500088f66",
      "metadata": {
        "id": "ab7aa34500088f66"
      },
      "outputs": [],
      "source": [
        "import torch.nn.functional as F\n",
        "import torchvision.transforms.functional as TF\n",
        "\n",
        "class RotationEquivariantPooling2d(nn.Module):\n",
        "    def __init__(self, kernel_size, stride=None, padding=0, angle_step_size=90):\n",
        "        super(RotationEquivariantPooling2d, self).__init__()\n",
        "        self.kernel_size = kernel_size\n",
        "        self.stride = stride if stride is not None else kernel_size\n",
        "        self.padding = padding\n",
        "        self.angle_step_size = angle_step_size\n",
        "\n",
        "    def forward(self, x):\n",
        "        # Get the dimensions of the input feature map\n",
        "        batch_size, channels, height, width = x.size()\n",
        "\n",
        "        # Pad the input feature map to ensure even dimensions\n",
        "        padded_height = height + 2 * self.padding\n",
        "        padded_width = width + 2 * self.padding\n",
        "        x = F.pad(x, (self.padding, self.padding, self.padding, self.padding))\n",
        "\n",
        "        # Initialize an empty tensor to store pooled values\n",
        "        pooled = torch.zeros(batch_size, channels, padded_height // self.stride, padded_width // self.stride, device=x.device)\n",
        "\n",
        "        # Iterate over rotation angles\n",
        "        angles = [i*self.angle_step_size for i in range(360 // self.angle_step_size)]\n",
        "        for angle in angles:\n",
        "            # Rotate the input feature map\n",
        "            rotated_x = TF.rotate(x, angle)\n",
        "\n",
        "            # Perform max pooling on the rotated feature map\n",
        "            pooled_rotated = F.max_pool2d(rotated_x, kernel_size=self.kernel_size, stride=self.stride)\n",
        "\n",
        "            # Rotate the pooled values back to the original orientation\n",
        "            pooled_rotated = TF.rotate(pooled_rotated, -angle)\n",
        "\n",
        "            # Accumulate the pooled values\n",
        "            pooled += pooled_rotated\n",
        "\n",
        "        # Average pooled values across rotations\n",
        "        pooled /= float(len(angles))\n",
        "\n",
        "        return pooled\n",
        "\n",
        "class RotationEquivariantConv2d(nn.Module):\n",
        "    def __init__(self, in_channels, out_channels, kernel_size, stride=1, padding=0, angle_step_size=90):\n",
        "        super(RotationEquivariantConv2d, self).__init__()\n",
        "        self.conv = nn.Conv2d(in_channels, out_channels, kernel_size, stride=stride, padding=padding)\n",
        "        self.angle_step_size = angle_step_size\n",
        "\n",
        "    def forward(self, x):\n",
        "        # Initialize an empty tensor to store the results of each rotation\n",
        "        batch_size, channels, height, width = x.size()\n",
        "        out = torch.zeros(batch_size, self.conv.out_channels, height, width, device=x.device)\n",
        "\n",
        "        # Iterate over rotation angles\n",
        "        angles = [i*self.angle_step_size for i in range(360 // self.angle_step_size)]\n",
        "        for angle in angles:\n",
        "            # Rotate the input\n",
        "            rotated_x = TF.rotate(x, angle)\n",
        "\n",
        "            # Apply convolution\n",
        "            conv_rotated = self.conv(rotated_x)\n",
        "\n",
        "            # Rotate the result back to the original orientation\n",
        "            conv_rotated = TF.rotate(conv_rotated, -angle)\n",
        "\n",
        "            # Accumulate the results\n",
        "            out += conv_rotated\n",
        "\n",
        "        # Average the results across rotations\n",
        "        out /= float(len(angles))\n",
        "\n",
        "        return out\n",
        "\n",
        "class RotationInvariantEmbeddingNet(nn.Module):\n",
        "    \"\"\"\n",
        "    A PyTorch implementation of a Convolutional Neural Network (CNN) for feature extraction or embedding.\n",
        "\n",
        "    The network consists of three convolutional blocks each followed by a batch normalization, ReLU activation, and max pooling.\n",
        "    After the convolutional blocks, the tensor is flattened and passed through two fully connected (linear) layers.\n",
        "\n",
        "    The final output is a 10-dimensional vector which can be used as an embedding of the input.\n",
        "    \"\"\"\n",
        "    def __init__(self):\n",
        "        super(RotationInvariantEmbeddingNet, self).__init__()\n",
        "\n",
        "        self.front_layer = nn.Sequential(\n",
        "            # Conv Layer block 1\n",
        "            RotationEquivariantConv2d(in_channels=1, out_channels=32, kernel_size=3, padding=1),\n",
        "            nn.BatchNorm2d(32),\n",
        "            nn.ReLU(inplace=True),\n",
        "            RotationEquivariantConv2d(in_channels=32, out_channels=64, kernel_size=3, padding=1),\n",
        "            nn.ReLU(inplace=True),\n",
        "            RotationEquivariantPooling2d(kernel_size=2, stride=2),\n",
        "\n",
        "            # Conv Layer block 2\n",
        "            RotationEquivariantConv2d(in_channels=64, out_channels=128, kernel_size=3, padding=1),\n",
        "            nn.BatchNorm2d(128),\n",
        "            nn.ReLU(inplace=True),\n",
        "            RotationEquivariantConv2d(in_channels=128, out_channels=128, kernel_size=3, padding=1),\n",
        "            nn.ReLU(inplace=True),\n",
        "            RotationEquivariantPooling2d(kernel_size=2, stride=2),\n",
        "\n",
        "            # Conv Layer block 3\n",
        "            RotationEquivariantConv2d(in_channels=128, out_channels=256, kernel_size=3, padding=1),\n",
        "            nn.BatchNorm2d(256),\n",
        "            nn.ReLU(inplace=True),\n",
        "            RotationEquivariantConv2d(in_channels=256, out_channels=256, kernel_size=3, padding=1),\n",
        "            nn.ReLU(inplace=True),\n",
        "            RotationEquivariantPooling2d(kernel_size=2, stride=2),\n",
        "\n",
        "            Lambda(lambda x: x.view(x.size(0), -1)),\n",
        "\n",
        "            nn.Linear(4096, 1024),\n",
        "            nn.ReLU(inplace=True),\n",
        "            nn.Linear(1024, 512),\n",
        "            nn.ReLU(inplace=True),\n",
        "        )\n",
        "\n",
        "        self.last_layer = nn.Linear(512, 10)\n",
        "\n",
        "    def forward(self, x):\n",
        "        \"\"\"Perform forward.\"\"\"\n",
        "        # conv layers\n",
        "        x = self.front_layer(x)\n",
        "        x = self.last_layer(x)\n",
        "        return x\n",
        "\n",
        "    def get_embedding(self, x):\n",
        "        return self.forward(x)"
      ]
    },
    {
      "cell_type": "code",
      "execution_count": 123,
      "id": "71298802fa5d6fb8",
      "metadata": {
        "id": "71298802fa5d6fb8"
      },
      "outputs": [],
      "source": [
        "rotation_invariant_triplet_net = TripletNet(RotationInvariantEmbeddingNet()).to(DEVICE)"
      ]
    },
    {
      "cell_type": "code",
      "execution_count": 127,
      "id": "4e6e3e82ce917c0f",
      "metadata": {
        "id": "4e6e3e82ce917c0f"
      },
      "outputs": [
        {
          "name": "stderr",
          "output_type": "stream",
          "text": [
            "Epoch 1:   0%|          | 1/9158 [00:04<10:31:59,  4.14s/it, loss=1.22, distance=-0.807]"
          ]
        },
        {
          "name": "stdout",
          "output_type": "stream",
          "text": [
            "torch.Size([32, 10])\n"
          ]
        },
        {
          "name": "stderr",
          "output_type": "stream",
          "text": [
            "Epoch 1:   0%|          | 2/9158 [00:07<9:44:25,  3.83s/it, loss=1.72, distance=-1.1]   "
          ]
        },
        {
          "name": "stdout",
          "output_type": "stream",
          "text": [
            "torch.Size([32, 10])\n"
          ]
        },
        {
          "name": "stderr",
          "output_type": "stream",
          "text": [
            "Epoch 1:   0%|          | 3/9158 [00:11<9:35:36,  3.77s/it, loss=1.5, distance=-0.97]"
          ]
        },
        {
          "name": "stdout",
          "output_type": "stream",
          "text": [
            "torch.Size([32, 10])\n"
          ]
        },
        {
          "name": "stderr",
          "output_type": "stream",
          "text": [
            "Epoch 1:   0%|          | 4/9158 [00:15<9:32:16,  3.75s/it, loss=1.44, distance=-0.877]"
          ]
        },
        {
          "name": "stdout",
          "output_type": "stream",
          "text": [
            "torch.Size([32, 10])\n"
          ]
        },
        {
          "name": "stderr",
          "output_type": "stream",
          "text": [
            "Epoch 1:   0%|          | 4/9158 [00:19<12:10:58,  4.79s/it, loss=1.44, distance=-0.877]\n"
          ]
        },
        {
          "ename": "KeyboardInterrupt",
          "evalue": "",
          "output_type": "error",
          "traceback": [
            "\u001b[1;31m---------------------------------------------------------------------------\u001b[0m",
            "\u001b[1;31mKeyboardInterrupt\u001b[0m                         Traceback (most recent call last)",
            "Cell \u001b[1;32mIn[127], line 3\u001b[0m\n\u001b[0;32m      1\u001b[0m \u001b[38;5;66;03m# train the rotation invariant triplet network\u001b[39;00m\n\u001b[0;32m      2\u001b[0m \u001b[38;5;28;01mif\u001b[39;00m TRAIN_TRIPLET_ROTATION:\n\u001b[1;32m----> 3\u001b[0m     \u001b[43mtrain_triplet_network\u001b[49m\u001b[43m(\u001b[49m\u001b[43mrotation_invariant_triplet_net\u001b[49m\u001b[43m,\u001b[49m\u001b[43m \u001b[49m\u001b[43mtrain_loader\u001b[49m\u001b[43m,\u001b[49m\u001b[43m \u001b[49m\u001b[43mval_loader\u001b[49m\u001b[43m,\u001b[49m\u001b[43m \u001b[49m\u001b[43mnum_epochs\u001b[49m\u001b[38;5;241;43m=\u001b[39;49m\u001b[38;5;241;43m5\u001b[39;49m\u001b[43m,\u001b[49m\u001b[43m \u001b[49m\u001b[43mlearning_rate\u001b[49m\u001b[38;5;241;43m=\u001b[39;49m\u001b[38;5;241;43m0.001\u001b[39;49m\u001b[43m)\u001b[49m\n\u001b[0;32m      4\u001b[0m     \u001b[38;5;66;03m# Save the trained Siamese network\u001b[39;00m\n\u001b[0;32m      5\u001b[0m     torch\u001b[38;5;241m.\u001b[39msave(rotation_invariant_triplet_net\u001b[38;5;241m.\u001b[39mstate_dict(), \u001b[38;5;124m'\u001b[39m\u001b[38;5;124mrotation_invariant_triplet_network.pth\u001b[39m\u001b[38;5;124m'\u001b[39m)\n",
            "Cell \u001b[1;32mIn[126], line 47\u001b[0m, in \u001b[0;36mtrain_triplet_network\u001b[1;34m(triplet_network, train_loader, val_loader, num_epochs, learning_rate, device)\u001b[0m\n\u001b[0;32m     45\u001b[0m output1, output2, output3 \u001b[38;5;241m=\u001b[39m triplet_network(img1, img2, img3)\n\u001b[0;32m     46\u001b[0m loss \u001b[38;5;241m=\u001b[39m criterion(output1, output2, output3)\n\u001b[1;32m---> 47\u001b[0m \u001b[43mloss\u001b[49m\u001b[38;5;241;43m.\u001b[39;49m\u001b[43mbackward\u001b[49m\u001b[43m(\u001b[49m\u001b[43m)\u001b[49m\n\u001b[0;32m     48\u001b[0m optimizer\u001b[38;5;241m.\u001b[39mstep()\n\u001b[0;32m     49\u001b[0m running_loss \u001b[38;5;241m+\u001b[39m\u001b[38;5;241m=\u001b[39m loss\u001b[38;5;241m.\u001b[39mitem()\n",
            "File \u001b[1;32md:\\Projects\\Deep Learning\\Deep-Learning-Assignment-1\\.venv\\lib\\site-packages\\torch\\_tensor.py:525\u001b[0m, in \u001b[0;36mTensor.backward\u001b[1;34m(self, gradient, retain_graph, create_graph, inputs)\u001b[0m\n\u001b[0;32m    515\u001b[0m \u001b[38;5;28;01mif\u001b[39;00m has_torch_function_unary(\u001b[38;5;28mself\u001b[39m):\n\u001b[0;32m    516\u001b[0m     \u001b[38;5;28;01mreturn\u001b[39;00m handle_torch_function(\n\u001b[0;32m    517\u001b[0m         Tensor\u001b[38;5;241m.\u001b[39mbackward,\n\u001b[0;32m    518\u001b[0m         (\u001b[38;5;28mself\u001b[39m,),\n\u001b[1;32m   (...)\u001b[0m\n\u001b[0;32m    523\u001b[0m         inputs\u001b[38;5;241m=\u001b[39minputs,\n\u001b[0;32m    524\u001b[0m     )\n\u001b[1;32m--> 525\u001b[0m \u001b[43mtorch\u001b[49m\u001b[38;5;241;43m.\u001b[39;49m\u001b[43mautograd\u001b[49m\u001b[38;5;241;43m.\u001b[39;49m\u001b[43mbackward\u001b[49m\u001b[43m(\u001b[49m\n\u001b[0;32m    526\u001b[0m \u001b[43m    \u001b[49m\u001b[38;5;28;43mself\u001b[39;49m\u001b[43m,\u001b[49m\u001b[43m \u001b[49m\u001b[43mgradient\u001b[49m\u001b[43m,\u001b[49m\u001b[43m \u001b[49m\u001b[43mretain_graph\u001b[49m\u001b[43m,\u001b[49m\u001b[43m \u001b[49m\u001b[43mcreate_graph\u001b[49m\u001b[43m,\u001b[49m\u001b[43m \u001b[49m\u001b[43minputs\u001b[49m\u001b[38;5;241;43m=\u001b[39;49m\u001b[43minputs\u001b[49m\n\u001b[0;32m    527\u001b[0m \u001b[43m\u001b[49m\u001b[43m)\u001b[49m\n",
            "File \u001b[1;32md:\\Projects\\Deep Learning\\Deep-Learning-Assignment-1\\.venv\\lib\\site-packages\\torch\\autograd\\__init__.py:267\u001b[0m, in \u001b[0;36mbackward\u001b[1;34m(tensors, grad_tensors, retain_graph, create_graph, grad_variables, inputs)\u001b[0m\n\u001b[0;32m    262\u001b[0m     retain_graph \u001b[38;5;241m=\u001b[39m create_graph\n\u001b[0;32m    264\u001b[0m \u001b[38;5;66;03m# The reason we repeat the same comment below is that\u001b[39;00m\n\u001b[0;32m    265\u001b[0m \u001b[38;5;66;03m# some Python versions print out the first line of a multi-line function\u001b[39;00m\n\u001b[0;32m    266\u001b[0m \u001b[38;5;66;03m# calls in the traceback and some print out the last line\u001b[39;00m\n\u001b[1;32m--> 267\u001b[0m \u001b[43m_engine_run_backward\u001b[49m\u001b[43m(\u001b[49m\n\u001b[0;32m    268\u001b[0m \u001b[43m    \u001b[49m\u001b[43mtensors\u001b[49m\u001b[43m,\u001b[49m\n\u001b[0;32m    269\u001b[0m \u001b[43m    \u001b[49m\u001b[43mgrad_tensors_\u001b[49m\u001b[43m,\u001b[49m\n\u001b[0;32m    270\u001b[0m \u001b[43m    \u001b[49m\u001b[43mretain_graph\u001b[49m\u001b[43m,\u001b[49m\n\u001b[0;32m    271\u001b[0m \u001b[43m    \u001b[49m\u001b[43mcreate_graph\u001b[49m\u001b[43m,\u001b[49m\n\u001b[0;32m    272\u001b[0m \u001b[43m    \u001b[49m\u001b[43minputs\u001b[49m\u001b[43m,\u001b[49m\n\u001b[0;32m    273\u001b[0m \u001b[43m    \u001b[49m\u001b[43mallow_unreachable\u001b[49m\u001b[38;5;241;43m=\u001b[39;49m\u001b[38;5;28;43;01mTrue\u001b[39;49;00m\u001b[43m,\u001b[49m\n\u001b[0;32m    274\u001b[0m \u001b[43m    \u001b[49m\u001b[43maccumulate_grad\u001b[49m\u001b[38;5;241;43m=\u001b[39;49m\u001b[38;5;28;43;01mTrue\u001b[39;49;00m\u001b[43m,\u001b[49m\n\u001b[0;32m    275\u001b[0m \u001b[43m\u001b[49m\u001b[43m)\u001b[49m\n",
            "File \u001b[1;32md:\\Projects\\Deep Learning\\Deep-Learning-Assignment-1\\.venv\\lib\\site-packages\\torch\\autograd\\graph.py:744\u001b[0m, in \u001b[0;36m_engine_run_backward\u001b[1;34m(t_outputs, *args, **kwargs)\u001b[0m\n\u001b[0;32m    742\u001b[0m     unregister_hooks \u001b[38;5;241m=\u001b[39m _register_logging_hooks_on_whole_graph(t_outputs)\n\u001b[0;32m    743\u001b[0m \u001b[38;5;28;01mtry\u001b[39;00m:\n\u001b[1;32m--> 744\u001b[0m     \u001b[38;5;28;01mreturn\u001b[39;00m Variable\u001b[38;5;241m.\u001b[39m_execution_engine\u001b[38;5;241m.\u001b[39mrun_backward(  \u001b[38;5;66;03m# Calls into the C++ engine to run the backward pass\u001b[39;00m\n\u001b[0;32m    745\u001b[0m         t_outputs, \u001b[38;5;241m*\u001b[39margs, \u001b[38;5;241m*\u001b[39m\u001b[38;5;241m*\u001b[39mkwargs\n\u001b[0;32m    746\u001b[0m     )  \u001b[38;5;66;03m# Calls into the C++ engine to run the backward pass\u001b[39;00m\n\u001b[0;32m    747\u001b[0m \u001b[38;5;28;01mfinally\u001b[39;00m:\n\u001b[0;32m    748\u001b[0m     \u001b[38;5;28;01mif\u001b[39;00m attach_logging_hooks:\n",
            "\u001b[1;31mKeyboardInterrupt\u001b[0m: "
          ]
        }
      ],
      "source": [
        "# train the rotation invariant triplet network\n",
        "if TRAIN_TRIPLET_ROTATION:\n",
        "    train_triplet_network(rotation_invariant_triplet_net, train_loader, val_loader, num_epochs=5, learning_rate=0.001)\n",
        "    # Save the trained Siamese network\n",
        "    torch.save(rotation_invariant_triplet_net.state_dict(), 'rotation_invariant_triplet_network.pth')"
      ]
    },
    {
      "cell_type": "code",
      "execution_count": 37,
      "id": "e701b2a68bd4d32a",
      "metadata": {
        "id": "e701b2a68bd4d32a"
      },
      "outputs": [
        {
          "data": {
            "text/plain": [
              "<All keys matched successfully>"
            ]
          },
          "execution_count": 37,
          "metadata": {},
          "output_type": "execute_result"
        }
      ],
      "source": [
        "# Load the trained rotation invariant triplet network\n",
        "basic_triplet_network = TripletNet(EmbeddingNet()).to(DEVICE)\n",
        "basic_triplet_network.load_state_dict(torch.load(main_dir + 'triplet_network_2.pth'))"
      ]
    },
    {
      "cell_type": "code",
      "execution_count": 43,
      "id": "c04f2218",
      "metadata": {},
      "outputs": [
        {
          "name": "stderr",
          "output_type": "stream",
          "text": [
            "  0%|          | 0/20 [00:00<?, ?it/s]"
          ]
        },
        {
          "name": "stderr",
          "output_type": "stream",
          "text": [
            "  5%|▌         | 1/20 [00:23<07:34, 23.90s/it]"
          ]
        },
        {
          "name": "stdout",
          "output_type": "stream",
          "text": [
            "Accuracy for alphabet Angelic: 0.4631578947368421\n"
          ]
        },
        {
          "name": "stderr",
          "output_type": "stream",
          "text": [
            " 10%|█         | 2/20 [01:02<09:46, 32.57s/it]"
          ]
        },
        {
          "name": "stdout",
          "output_type": "stream",
          "text": [
            "Accuracy for alphabet Atemayar_Qelisayer: 0.3805668016194332\n"
          ]
        },
        {
          "name": "stderr",
          "output_type": "stream",
          "text": [
            " 15%|█▌        | 3/20 [01:41<10:05, 35.61s/it]"
          ]
        },
        {
          "name": "stdout",
          "output_type": "stream",
          "text": [
            "Accuracy for alphabet Atlantean: 0.36639676113360325\n"
          ]
        },
        {
          "name": "stderr",
          "output_type": "stream",
          "text": [
            " 20%|██        | 4/20 [02:21<09:57, 37.36s/it]"
          ]
        },
        {
          "name": "stdout",
          "output_type": "stream",
          "text": [
            "Accuracy for alphabet Aurek-Besh: 0.3866396761133603\n"
          ]
        },
        {
          "name": "stderr",
          "output_type": "stream",
          "text": [
            " 25%|██▌       | 5/20 [03:01<09:33, 38.24s/it]"
          ]
        },
        {
          "name": "stdout",
          "output_type": "stream",
          "text": [
            "Accuracy for alphabet Avesta: 0.4068825910931174\n"
          ]
        },
        {
          "name": "stderr",
          "output_type": "stream",
          "text": [
            " 30%|███       | 6/20 [03:41<09:05, 38.95s/it]"
          ]
        },
        {
          "name": "stdout",
          "output_type": "stream",
          "text": [
            "Accuracy for alphabet Ge_ez: 0.4352226720647773\n"
          ]
        },
        {
          "name": "stderr",
          "output_type": "stream",
          "text": [
            " 35%|███▌      | 7/20 [05:40<14:05, 65.02s/it]"
          ]
        },
        {
          "name": "stdout",
          "output_type": "stream",
          "text": [
            "Accuracy for alphabet Glagolitic: 0.3192982456140351\n"
          ]
        },
        {
          "name": "stderr",
          "output_type": "stream",
          "text": [
            " 40%|████      | 8/20 [07:39<16:26, 82.19s/it]"
          ]
        },
        {
          "name": "stdout",
          "output_type": "stream",
          "text": [
            "Accuracy for alphabet Gurmukhi: 0.23625730994152047\n"
          ]
        },
        {
          "name": "stderr",
          "output_type": "stream",
          "text": [
            " 45%|████▌     | 9/20 [09:30<16:41, 91.07s/it]"
          ]
        },
        {
          "name": "stdout",
          "output_type": "stream",
          "text": [
            "Accuracy for alphabet Kannada: 0.2926829268292683\n"
          ]
        },
        {
          "name": "stderr",
          "output_type": "stream",
          "text": [
            " 50%|█████     | 10/20 [10:32<13:41, 82.16s/it]"
          ]
        },
        {
          "name": "stdout",
          "output_type": "stream",
          "text": [
            "Accuracy for alphabet Keble: 0.305668016194332\n"
          ]
        },
        {
          "name": "stderr",
          "output_type": "stream",
          "text": [
            " 55%|█████▌    | 11/20 [13:13<15:56, 106.31s/it]"
          ]
        },
        {
          "name": "stdout",
          "output_type": "stream",
          "text": [
            "Accuracy for alphabet Malayalam: 0.3146696528555431\n"
          ]
        },
        {
          "name": "stderr",
          "output_type": "stream",
          "text": [
            " 60%|██████    | 12/20 [15:19<14:58, 112.27s/it]"
          ]
        },
        {
          "name": "stdout",
          "output_type": "stream",
          "text": [
            "Accuracy for alphabet Manipuri: 0.32894736842105265\n"
          ]
        },
        {
          "name": "stderr",
          "output_type": "stream",
          "text": [
            " 65%|██████▌   | 13/20 [16:26<11:29, 98.50s/it] "
          ]
        },
        {
          "name": "stdout",
          "output_type": "stream",
          "text": [
            "Accuracy for alphabet Mongolian: 0.41754385964912283\n"
          ]
        },
        {
          "name": "stderr",
          "output_type": "stream",
          "text": [
            " 70%|███████   | 14/20 [19:03<11:36, 116.12s/it]"
          ]
        },
        {
          "name": "stdout",
          "output_type": "stream",
          "text": [
            "Accuracy for alphabet Old_Church_Slavonic_(Cyrillic): 0.36374269005847953\n"
          ]
        },
        {
          "name": "stderr",
          "output_type": "stream",
          "text": [
            " 75%|███████▌  | 15/20 [21:44<10:48, 129.78s/it]"
          ]
        },
        {
          "name": "stdout",
          "output_type": "stream",
          "text": [
            "Accuracy for alphabet Oriya: 0.2757437070938215\n"
          ]
        },
        {
          "name": "stderr",
          "output_type": "stream",
          "text": [
            " 80%|████████  | 16/20 [22:48<07:20, 110.12s/it]"
          ]
        },
        {
          "name": "stdout",
          "output_type": "stream",
          "text": [
            "Accuracy for alphabet Sylheti: 0.31203007518796994\n"
          ]
        },
        {
          "name": "stderr",
          "output_type": "stream",
          "text": [
            " 85%|████████▌ | 17/20 [23:28<04:26, 88.92s/it] "
          ]
        },
        {
          "name": "stdout",
          "output_type": "stream",
          "text": [
            "Accuracy for alphabet Syriac_(Serto): 0.4416475972540046\n"
          ]
        },
        {
          "name": "stderr",
          "output_type": "stream",
          "text": [
            " 90%|█████████ | 18/20 [24:16<02:33, 76.51s/it]"
          ]
        },
        {
          "name": "stdout",
          "output_type": "stream",
          "text": [
            "Accuracy for alphabet Tengwar: 0.3178947368421053\n"
          ]
        },
        {
          "name": "stderr",
          "output_type": "stream",
          "text": [
            " 95%|█████████▌| 19/20 [26:26<01:32, 92.70s/it]"
          ]
        },
        {
          "name": "stdout",
          "output_type": "stream",
          "text": [
            "Accuracy for alphabet Tibetan: 0.2794486215538847\n"
          ]
        },
        {
          "name": "stderr",
          "output_type": "stream",
          "text": [
            "100%|██████████| 20/20 [27:17<00:00, 81.90s/it]"
          ]
        },
        {
          "name": "stdout",
          "output_type": "stream",
          "text": [
            "Accuracy for alphabet ULOG: 0.4089068825910931\n"
          ]
        },
        {
          "name": "stderr",
          "output_type": "stream",
          "text": [
            "\n"
          ]
        },
        {
          "data": {
            "text/plain": [
              "0.3403881479115087"
            ]
          },
          "execution_count": 43,
          "metadata": {},
          "output_type": "execute_result"
        }
      ],
      "source": [
        "# Evaluate the rotation invariant triplet network\n",
        "accuracy_1_basic = evaluate_triplet_network(basic_triplet_network, data_dict_test_task2, preprocess, K=4, print_alphabet_accuracy=print_alphabet_accuracy)\n",
        "accuracy_1_basic"
      ]
    },
    {
      "cell_type": "code",
      "execution_count": 41,
      "id": "ad184496",
      "metadata": {},
      "outputs": [
        {
          "data": {
            "text/plain": [
              "<All keys matched successfully>"
            ]
          },
          "execution_count": 41,
          "metadata": {},
          "output_type": "execute_result"
        }
      ],
      "source": [
        "rotation_invariant_triplet_net = TripletNet(RotationInvariantEmbeddingNet()).to(DEVICE)\n",
        "rotation_invariant_triplet_net.load_state_dict(torch.load(main_dir + 'rotation_invariant_triplet_network.pth'))"
      ]
    },
    {
      "cell_type": "code",
      "execution_count": 44,
      "id": "fyGW7_9a0hg6",
      "metadata": {
        "id": "fyGW7_9a0hg6"
      },
      "outputs": [
        {
          "name": "stderr",
          "output_type": "stream",
          "text": [
            "  5%|▌         | 1/20 [08:28<2:41:09, 508.91s/it]"
          ]
        },
        {
          "name": "stdout",
          "output_type": "stream",
          "text": [
            "Accuracy for alphabet Angelic: 0.4473684210526316\n"
          ]
        },
        {
          "name": "stderr",
          "output_type": "stream",
          "text": [
            " 10%|█         | 2/20 [24:32<3:52:58, 776.57s/it]"
          ]
        },
        {
          "name": "stdout",
          "output_type": "stream",
          "text": [
            "Accuracy for alphabet Atemayar_Qelisayer: 0.41295546558704455\n"
          ]
        },
        {
          "name": "stderr",
          "output_type": "stream",
          "text": [
            " 15%|█▌        | 3/20 [38:42<3:49:28, 809.92s/it]"
          ]
        },
        {
          "name": "stdout",
          "output_type": "stream",
          "text": [
            "Accuracy for alphabet Atlantean: 0.37449392712550605\n"
          ]
        },
        {
          "name": "stderr",
          "output_type": "stream",
          "text": [
            " 20%|██        | 4/20 [51:38<3:32:27, 796.73s/it]"
          ]
        },
        {
          "name": "stdout",
          "output_type": "stream",
          "text": [
            "Accuracy for alphabet Aurek-Besh: 0.3299595141700405\n"
          ]
        },
        {
          "name": "stderr",
          "output_type": "stream",
          "text": [
            " 25%|██▌       | 5/20 [1:13:32<4:05:45, 983.03s/it]"
          ]
        },
        {
          "name": "stdout",
          "output_type": "stream",
          "text": [
            "Accuracy for alphabet Avesta: 0.3866396761133603\n"
          ]
        },
        {
          "name": "stderr",
          "output_type": "stream",
          "text": [
            " 30%|███       | 6/20 [1:38:07<4:28:24, 1150.35s/it]"
          ]
        },
        {
          "name": "stdout",
          "output_type": "stream",
          "text": [
            "Accuracy for alphabet Ge_ez: 0.4048582995951417\n"
          ]
        },
        {
          "name": "stderr",
          "output_type": "stream",
          "text": [
            " 30%|███       | 6/20 [4:17:26<10:00:42, 2574.43s/it]\n"
          ]
        },
        {
          "ename": "KeyboardInterrupt",
          "evalue": "",
          "output_type": "error",
          "traceback": [
            "\u001b[1;31m---------------------------------------------------------------------------\u001b[0m",
            "\u001b[1;31mKeyboardInterrupt\u001b[0m                         Traceback (most recent call last)",
            "Cell \u001b[1;32mIn[44], line 2\u001b[0m\n\u001b[0;32m      1\u001b[0m \u001b[38;5;66;03m# Evaluate the rotation invariant triplet network\u001b[39;00m\n\u001b[1;32m----> 2\u001b[0m accuracy_1_rotation \u001b[38;5;241m=\u001b[39m \u001b[43mevaluate_triplet_network\u001b[49m\u001b[43m(\u001b[49m\u001b[43mrotation_invariant_triplet_net\u001b[49m\u001b[43m,\u001b[49m\u001b[43m \u001b[49m\u001b[43mdata_dict_test_task2\u001b[49m\u001b[43m,\u001b[49m\u001b[43m \u001b[49m\u001b[43mpreprocess\u001b[49m\u001b[43m,\u001b[49m\u001b[43m \u001b[49m\u001b[43mK\u001b[49m\u001b[38;5;241;43m=\u001b[39;49m\u001b[38;5;241;43m4\u001b[39;49m\u001b[43m,\u001b[49m\u001b[43m \u001b[49m\u001b[43mprint_alphabet_accuracy\u001b[49m\u001b[38;5;241;43m=\u001b[39;49m\u001b[43mprint_alphabet_accuracy\u001b[49m\u001b[43m)\u001b[49m\n\u001b[0;32m      3\u001b[0m accuracy_1_rotation\n",
            "Cell \u001b[1;32mIn[30], line 35\u001b[0m, in \u001b[0;36mevaluate_triplet_network\u001b[1;34m(triplet_network, data_dict_test, preprocess, K, print_alphabet_accuracy, device)\u001b[0m\n\u001b[0;32m     33\u001b[0m annotated_image \u001b[38;5;241m=\u001b[39m toPILImage(annotated_image)\n\u001b[0;32m     34\u001b[0m annotated_image \u001b[38;5;241m=\u001b[39m preprocess(annotated_image)\n\u001b[1;32m---> 35\u001b[0m embedding_unnnotated \u001b[38;5;241m=\u001b[39m \u001b[43mtriplet_network\u001b[49m\u001b[38;5;241;43m.\u001b[39;49m\u001b[43mget_embedding\u001b[49m\u001b[43m(\u001b[49m\u001b[43mannotated_image\u001b[49m\u001b[38;5;241;43m.\u001b[39;49m\u001b[43munsqueeze\u001b[49m\u001b[43m(\u001b[49m\u001b[38;5;241;43m0\u001b[39;49m\u001b[43m)\u001b[49m\u001b[38;5;241;43m.\u001b[39;49m\u001b[43mto\u001b[49m\u001b[43m(\u001b[49m\u001b[43mdevice\u001b[49m\u001b[43m)\u001b[49m\u001b[43m)\u001b[49m\n\u001b[0;32m     37\u001b[0m distance \u001b[38;5;241m=\u001b[39m (embedding_unseen \u001b[38;5;241m-\u001b[39m embedding_unnnotated)\u001b[38;5;241m.\u001b[39mpow(\u001b[38;5;241m2\u001b[39m)\u001b[38;5;241m.\u001b[39msum(\u001b[38;5;241m1\u001b[39m)\u001b[38;5;241m.\u001b[39msqrt()\n\u001b[0;32m     38\u001b[0m distances\u001b[38;5;241m.\u001b[39mappend(distance\u001b[38;5;241m.\u001b[39mitem())\n",
            "Cell \u001b[1;32mIn[14], line 94\u001b[0m, in \u001b[0;36mTripletNet.get_embedding\u001b[1;34m(self, x)\u001b[0m\n\u001b[0;32m     92\u001b[0m \u001b[38;5;28;01mdef\u001b[39;00m \u001b[38;5;21mget_embedding\u001b[39m(\u001b[38;5;28mself\u001b[39m, x):\n\u001b[0;32m     93\u001b[0m \u001b[38;5;250m    \u001b[39m\u001b[38;5;124;03m\"\"\"Returns the embeddings of the input.\"\"\"\u001b[39;00m\n\u001b[1;32m---> 94\u001b[0m     \u001b[38;5;28;01mreturn\u001b[39;00m \u001b[38;5;28;43mself\u001b[39;49m\u001b[38;5;241;43m.\u001b[39;49m\u001b[43membedding_net\u001b[49m\u001b[43m(\u001b[49m\u001b[43mx\u001b[49m\u001b[43m)\u001b[49m\n",
            "File \u001b[1;32md:\\Projects\\Deep Learning\\Deep-Learning-Assignment-1\\.venv\\lib\\site-packages\\torch\\nn\\modules\\module.py:1532\u001b[0m, in \u001b[0;36mModule._wrapped_call_impl\u001b[1;34m(self, *args, **kwargs)\u001b[0m\n\u001b[0;32m   1530\u001b[0m     \u001b[38;5;28;01mreturn\u001b[39;00m \u001b[38;5;28mself\u001b[39m\u001b[38;5;241m.\u001b[39m_compiled_call_impl(\u001b[38;5;241m*\u001b[39margs, \u001b[38;5;241m*\u001b[39m\u001b[38;5;241m*\u001b[39mkwargs)  \u001b[38;5;66;03m# type: ignore[misc]\u001b[39;00m\n\u001b[0;32m   1531\u001b[0m \u001b[38;5;28;01melse\u001b[39;00m:\n\u001b[1;32m-> 1532\u001b[0m     \u001b[38;5;28;01mreturn\u001b[39;00m \u001b[38;5;28mself\u001b[39m\u001b[38;5;241m.\u001b[39m_call_impl(\u001b[38;5;241m*\u001b[39margs, \u001b[38;5;241m*\u001b[39m\u001b[38;5;241m*\u001b[39mkwargs)\n",
            "File \u001b[1;32md:\\Projects\\Deep Learning\\Deep-Learning-Assignment-1\\.venv\\lib\\site-packages\\torch\\nn\\modules\\module.py:1541\u001b[0m, in \u001b[0;36mModule._call_impl\u001b[1;34m(self, *args, **kwargs)\u001b[0m\n\u001b[0;32m   1536\u001b[0m \u001b[38;5;66;03m# If we don't have any hooks, we want to skip the rest of the logic in\u001b[39;00m\n\u001b[0;32m   1537\u001b[0m \u001b[38;5;66;03m# this function, and just call forward.\u001b[39;00m\n\u001b[0;32m   1538\u001b[0m \u001b[38;5;28;01mif\u001b[39;00m \u001b[38;5;129;01mnot\u001b[39;00m (\u001b[38;5;28mself\u001b[39m\u001b[38;5;241m.\u001b[39m_backward_hooks \u001b[38;5;129;01mor\u001b[39;00m \u001b[38;5;28mself\u001b[39m\u001b[38;5;241m.\u001b[39m_backward_pre_hooks \u001b[38;5;129;01mor\u001b[39;00m \u001b[38;5;28mself\u001b[39m\u001b[38;5;241m.\u001b[39m_forward_hooks \u001b[38;5;129;01mor\u001b[39;00m \u001b[38;5;28mself\u001b[39m\u001b[38;5;241m.\u001b[39m_forward_pre_hooks\n\u001b[0;32m   1539\u001b[0m         \u001b[38;5;129;01mor\u001b[39;00m _global_backward_pre_hooks \u001b[38;5;129;01mor\u001b[39;00m _global_backward_hooks\n\u001b[0;32m   1540\u001b[0m         \u001b[38;5;129;01mor\u001b[39;00m _global_forward_hooks \u001b[38;5;129;01mor\u001b[39;00m _global_forward_pre_hooks):\n\u001b[1;32m-> 1541\u001b[0m     \u001b[38;5;28;01mreturn\u001b[39;00m forward_call(\u001b[38;5;241m*\u001b[39margs, \u001b[38;5;241m*\u001b[39m\u001b[38;5;241m*\u001b[39mkwargs)\n\u001b[0;32m   1543\u001b[0m \u001b[38;5;28;01mtry\u001b[39;00m:\n\u001b[0;32m   1544\u001b[0m     result \u001b[38;5;241m=\u001b[39m \u001b[38;5;28;01mNone\u001b[39;00m\n",
            "Cell \u001b[1;32mIn[40], line 125\u001b[0m, in \u001b[0;36mRotationInvariantEmbeddingNet.forward\u001b[1;34m(self, x)\u001b[0m\n\u001b[0;32m    123\u001b[0m \u001b[38;5;250m\u001b[39m\u001b[38;5;124;03m\"\"\"Perform forward.\"\"\"\u001b[39;00m\n\u001b[0;32m    124\u001b[0m \u001b[38;5;66;03m# conv layers\u001b[39;00m\n\u001b[1;32m--> 125\u001b[0m x \u001b[38;5;241m=\u001b[39m \u001b[38;5;28;43mself\u001b[39;49m\u001b[38;5;241;43m.\u001b[39;49m\u001b[43mfront_layer\u001b[49m\u001b[43m(\u001b[49m\u001b[43mx\u001b[49m\u001b[43m)\u001b[49m\n\u001b[0;32m    126\u001b[0m x \u001b[38;5;241m=\u001b[39m \u001b[38;5;28mself\u001b[39m\u001b[38;5;241m.\u001b[39mlast_layer(x)\n\u001b[0;32m    127\u001b[0m \u001b[38;5;28;01mreturn\u001b[39;00m x\n",
            "File \u001b[1;32md:\\Projects\\Deep Learning\\Deep-Learning-Assignment-1\\.venv\\lib\\site-packages\\torch\\nn\\modules\\module.py:1532\u001b[0m, in \u001b[0;36mModule._wrapped_call_impl\u001b[1;34m(self, *args, **kwargs)\u001b[0m\n\u001b[0;32m   1530\u001b[0m     \u001b[38;5;28;01mreturn\u001b[39;00m \u001b[38;5;28mself\u001b[39m\u001b[38;5;241m.\u001b[39m_compiled_call_impl(\u001b[38;5;241m*\u001b[39margs, \u001b[38;5;241m*\u001b[39m\u001b[38;5;241m*\u001b[39mkwargs)  \u001b[38;5;66;03m# type: ignore[misc]\u001b[39;00m\n\u001b[0;32m   1531\u001b[0m \u001b[38;5;28;01melse\u001b[39;00m:\n\u001b[1;32m-> 1532\u001b[0m     \u001b[38;5;28;01mreturn\u001b[39;00m \u001b[38;5;28mself\u001b[39m\u001b[38;5;241m.\u001b[39m_call_impl(\u001b[38;5;241m*\u001b[39margs, \u001b[38;5;241m*\u001b[39m\u001b[38;5;241m*\u001b[39mkwargs)\n",
            "File \u001b[1;32md:\\Projects\\Deep Learning\\Deep-Learning-Assignment-1\\.venv\\lib\\site-packages\\torch\\nn\\modules\\module.py:1541\u001b[0m, in \u001b[0;36mModule._call_impl\u001b[1;34m(self, *args, **kwargs)\u001b[0m\n\u001b[0;32m   1536\u001b[0m \u001b[38;5;66;03m# If we don't have any hooks, we want to skip the rest of the logic in\u001b[39;00m\n\u001b[0;32m   1537\u001b[0m \u001b[38;5;66;03m# this function, and just call forward.\u001b[39;00m\n\u001b[0;32m   1538\u001b[0m \u001b[38;5;28;01mif\u001b[39;00m \u001b[38;5;129;01mnot\u001b[39;00m (\u001b[38;5;28mself\u001b[39m\u001b[38;5;241m.\u001b[39m_backward_hooks \u001b[38;5;129;01mor\u001b[39;00m \u001b[38;5;28mself\u001b[39m\u001b[38;5;241m.\u001b[39m_backward_pre_hooks \u001b[38;5;129;01mor\u001b[39;00m \u001b[38;5;28mself\u001b[39m\u001b[38;5;241m.\u001b[39m_forward_hooks \u001b[38;5;129;01mor\u001b[39;00m \u001b[38;5;28mself\u001b[39m\u001b[38;5;241m.\u001b[39m_forward_pre_hooks\n\u001b[0;32m   1539\u001b[0m         \u001b[38;5;129;01mor\u001b[39;00m _global_backward_pre_hooks \u001b[38;5;129;01mor\u001b[39;00m _global_backward_hooks\n\u001b[0;32m   1540\u001b[0m         \u001b[38;5;129;01mor\u001b[39;00m _global_forward_hooks \u001b[38;5;129;01mor\u001b[39;00m _global_forward_pre_hooks):\n\u001b[1;32m-> 1541\u001b[0m     \u001b[38;5;28;01mreturn\u001b[39;00m forward_call(\u001b[38;5;241m*\u001b[39margs, \u001b[38;5;241m*\u001b[39m\u001b[38;5;241m*\u001b[39mkwargs)\n\u001b[0;32m   1543\u001b[0m \u001b[38;5;28;01mtry\u001b[39;00m:\n\u001b[0;32m   1544\u001b[0m     result \u001b[38;5;241m=\u001b[39m \u001b[38;5;28;01mNone\u001b[39;00m\n",
            "File \u001b[1;32md:\\Projects\\Deep Learning\\Deep-Learning-Assignment-1\\.venv\\lib\\site-packages\\torch\\nn\\modules\\container.py:217\u001b[0m, in \u001b[0;36mSequential.forward\u001b[1;34m(self, input)\u001b[0m\n\u001b[0;32m    215\u001b[0m \u001b[38;5;28;01mdef\u001b[39;00m \u001b[38;5;21mforward\u001b[39m(\u001b[38;5;28mself\u001b[39m, \u001b[38;5;28minput\u001b[39m):\n\u001b[0;32m    216\u001b[0m     \u001b[38;5;28;01mfor\u001b[39;00m module \u001b[38;5;129;01min\u001b[39;00m \u001b[38;5;28mself\u001b[39m:\n\u001b[1;32m--> 217\u001b[0m         \u001b[38;5;28minput\u001b[39m \u001b[38;5;241m=\u001b[39m \u001b[43mmodule\u001b[49m\u001b[43m(\u001b[49m\u001b[38;5;28;43minput\u001b[39;49m\u001b[43m)\u001b[49m\n\u001b[0;32m    218\u001b[0m     \u001b[38;5;28;01mreturn\u001b[39;00m \u001b[38;5;28minput\u001b[39m\n",
            "File \u001b[1;32md:\\Projects\\Deep Learning\\Deep-Learning-Assignment-1\\.venv\\lib\\site-packages\\torch\\nn\\modules\\module.py:1532\u001b[0m, in \u001b[0;36mModule._wrapped_call_impl\u001b[1;34m(self, *args, **kwargs)\u001b[0m\n\u001b[0;32m   1530\u001b[0m     \u001b[38;5;28;01mreturn\u001b[39;00m \u001b[38;5;28mself\u001b[39m\u001b[38;5;241m.\u001b[39m_compiled_call_impl(\u001b[38;5;241m*\u001b[39margs, \u001b[38;5;241m*\u001b[39m\u001b[38;5;241m*\u001b[39mkwargs)  \u001b[38;5;66;03m# type: ignore[misc]\u001b[39;00m\n\u001b[0;32m   1531\u001b[0m \u001b[38;5;28;01melse\u001b[39;00m:\n\u001b[1;32m-> 1532\u001b[0m     \u001b[38;5;28;01mreturn\u001b[39;00m \u001b[38;5;28mself\u001b[39m\u001b[38;5;241m.\u001b[39m_call_impl(\u001b[38;5;241m*\u001b[39margs, \u001b[38;5;241m*\u001b[39m\u001b[38;5;241m*\u001b[39mkwargs)\n",
            "File \u001b[1;32md:\\Projects\\Deep Learning\\Deep-Learning-Assignment-1\\.venv\\lib\\site-packages\\torch\\nn\\modules\\module.py:1541\u001b[0m, in \u001b[0;36mModule._call_impl\u001b[1;34m(self, *args, **kwargs)\u001b[0m\n\u001b[0;32m   1536\u001b[0m \u001b[38;5;66;03m# If we don't have any hooks, we want to skip the rest of the logic in\u001b[39;00m\n\u001b[0;32m   1537\u001b[0m \u001b[38;5;66;03m# this function, and just call forward.\u001b[39;00m\n\u001b[0;32m   1538\u001b[0m \u001b[38;5;28;01mif\u001b[39;00m \u001b[38;5;129;01mnot\u001b[39;00m (\u001b[38;5;28mself\u001b[39m\u001b[38;5;241m.\u001b[39m_backward_hooks \u001b[38;5;129;01mor\u001b[39;00m \u001b[38;5;28mself\u001b[39m\u001b[38;5;241m.\u001b[39m_backward_pre_hooks \u001b[38;5;129;01mor\u001b[39;00m \u001b[38;5;28mself\u001b[39m\u001b[38;5;241m.\u001b[39m_forward_hooks \u001b[38;5;129;01mor\u001b[39;00m \u001b[38;5;28mself\u001b[39m\u001b[38;5;241m.\u001b[39m_forward_pre_hooks\n\u001b[0;32m   1539\u001b[0m         \u001b[38;5;129;01mor\u001b[39;00m _global_backward_pre_hooks \u001b[38;5;129;01mor\u001b[39;00m _global_backward_hooks\n\u001b[0;32m   1540\u001b[0m         \u001b[38;5;129;01mor\u001b[39;00m _global_forward_hooks \u001b[38;5;129;01mor\u001b[39;00m _global_forward_pre_hooks):\n\u001b[1;32m-> 1541\u001b[0m     \u001b[38;5;28;01mreturn\u001b[39;00m forward_call(\u001b[38;5;241m*\u001b[39margs, \u001b[38;5;241m*\u001b[39m\u001b[38;5;241m*\u001b[39mkwargs)\n\u001b[0;32m   1543\u001b[0m \u001b[38;5;28;01mtry\u001b[39;00m:\n\u001b[0;32m   1544\u001b[0m     result \u001b[38;5;241m=\u001b[39m \u001b[38;5;28;01mNone\u001b[39;00m\n",
            "Cell \u001b[1;32mIn[40], line 34\u001b[0m, in \u001b[0;36mRotationEquivariantPooling2d.forward\u001b[1;34m(self, x)\u001b[0m\n\u001b[0;32m     31\u001b[0m pooled_rotated \u001b[38;5;241m=\u001b[39m F\u001b[38;5;241m.\u001b[39mmax_pool2d(rotated_x, kernel_size\u001b[38;5;241m=\u001b[39m\u001b[38;5;28mself\u001b[39m\u001b[38;5;241m.\u001b[39mkernel_size, stride\u001b[38;5;241m=\u001b[39m\u001b[38;5;28mself\u001b[39m\u001b[38;5;241m.\u001b[39mstride)\n\u001b[0;32m     33\u001b[0m \u001b[38;5;66;03m# Rotate the pooled values back to the original orientation\u001b[39;00m\n\u001b[1;32m---> 34\u001b[0m pooled_rotated \u001b[38;5;241m=\u001b[39m \u001b[43mTF\u001b[49m\u001b[38;5;241;43m.\u001b[39;49m\u001b[43mrotate\u001b[49m\u001b[43m(\u001b[49m\u001b[43mpooled_rotated\u001b[49m\u001b[43m,\u001b[49m\u001b[43m \u001b[49m\u001b[38;5;241;43m-\u001b[39;49m\u001b[43mangle\u001b[49m\u001b[43m)\u001b[49m\n\u001b[0;32m     36\u001b[0m \u001b[38;5;66;03m# Accumulate the pooled values\u001b[39;00m\n\u001b[0;32m     37\u001b[0m pooled \u001b[38;5;241m+\u001b[39m\u001b[38;5;241m=\u001b[39m pooled_rotated\n",
            "File \u001b[1;32md:\\Projects\\Deep Learning\\Deep-Learning-Assignment-1\\.venv\\lib\\site-packages\\torchvision\\transforms\\functional.py:1123\u001b[0m, in \u001b[0;36mrotate\u001b[1;34m(img, angle, interpolation, expand, center, fill)\u001b[0m\n\u001b[0;32m   1120\u001b[0m \u001b[38;5;66;03m# due to current incoherence of rotation angle direction between affine and rotate implementations\u001b[39;00m\n\u001b[0;32m   1121\u001b[0m \u001b[38;5;66;03m# we need to set -angle.\u001b[39;00m\n\u001b[0;32m   1122\u001b[0m matrix \u001b[38;5;241m=\u001b[39m _get_inverse_affine_matrix(center_f, \u001b[38;5;241m-\u001b[39mangle, [\u001b[38;5;241m0.0\u001b[39m, \u001b[38;5;241m0.0\u001b[39m], \u001b[38;5;241m1.0\u001b[39m, [\u001b[38;5;241m0.0\u001b[39m, \u001b[38;5;241m0.0\u001b[39m])\n\u001b[1;32m-> 1123\u001b[0m \u001b[38;5;28;01mreturn\u001b[39;00m \u001b[43mF_t\u001b[49m\u001b[38;5;241;43m.\u001b[39;49m\u001b[43mrotate\u001b[49m\u001b[43m(\u001b[49m\u001b[43mimg\u001b[49m\u001b[43m,\u001b[49m\u001b[43m \u001b[49m\u001b[43mmatrix\u001b[49m\u001b[38;5;241;43m=\u001b[39;49m\u001b[43mmatrix\u001b[49m\u001b[43m,\u001b[49m\u001b[43m \u001b[49m\u001b[43minterpolation\u001b[49m\u001b[38;5;241;43m=\u001b[39;49m\u001b[43minterpolation\u001b[49m\u001b[38;5;241;43m.\u001b[39;49m\u001b[43mvalue\u001b[49m\u001b[43m,\u001b[49m\u001b[43m \u001b[49m\u001b[43mexpand\u001b[49m\u001b[38;5;241;43m=\u001b[39;49m\u001b[43mexpand\u001b[49m\u001b[43m,\u001b[49m\u001b[43m \u001b[49m\u001b[43mfill\u001b[49m\u001b[38;5;241;43m=\u001b[39;49m\u001b[43mfill\u001b[49m\u001b[43m)\u001b[49m\n",
            "File \u001b[1;32md:\\Projects\\Deep Learning\\Deep-Learning-Assignment-1\\.venv\\lib\\site-packages\\torchvision\\transforms\\_functional_tensor.py:665\u001b[0m, in \u001b[0;36mrotate\u001b[1;34m(img, matrix, interpolation, expand, fill)\u001b[0m\n\u001b[0;32m    663\u001b[0m theta \u001b[38;5;241m=\u001b[39m torch\u001b[38;5;241m.\u001b[39mtensor(matrix, dtype\u001b[38;5;241m=\u001b[39mdtype, device\u001b[38;5;241m=\u001b[39mimg\u001b[38;5;241m.\u001b[39mdevice)\u001b[38;5;241m.\u001b[39mreshape(\u001b[38;5;241m1\u001b[39m, \u001b[38;5;241m2\u001b[39m, \u001b[38;5;241m3\u001b[39m)\n\u001b[0;32m    664\u001b[0m \u001b[38;5;66;03m# grid will be generated on the same device as theta and img\u001b[39;00m\n\u001b[1;32m--> 665\u001b[0m grid \u001b[38;5;241m=\u001b[39m \u001b[43m_gen_affine_grid\u001b[49m\u001b[43m(\u001b[49m\u001b[43mtheta\u001b[49m\u001b[43m,\u001b[49m\u001b[43m \u001b[49m\u001b[43mw\u001b[49m\u001b[38;5;241;43m=\u001b[39;49m\u001b[43mw\u001b[49m\u001b[43m,\u001b[49m\u001b[43m \u001b[49m\u001b[43mh\u001b[49m\u001b[38;5;241;43m=\u001b[39;49m\u001b[43mh\u001b[49m\u001b[43m,\u001b[49m\u001b[43m \u001b[49m\u001b[43mow\u001b[49m\u001b[38;5;241;43m=\u001b[39;49m\u001b[43mow\u001b[49m\u001b[43m,\u001b[49m\u001b[43m \u001b[49m\u001b[43moh\u001b[49m\u001b[38;5;241;43m=\u001b[39;49m\u001b[43moh\u001b[49m\u001b[43m)\u001b[49m\n\u001b[0;32m    667\u001b[0m \u001b[38;5;28;01mreturn\u001b[39;00m _apply_grid_transform(img, grid, interpolation, fill\u001b[38;5;241m=\u001b[39mfill)\n",
            "File \u001b[1;32md:\\Projects\\Deep Learning\\Deep-Learning-Assignment-1\\.venv\\lib\\site-packages\\torchvision\\transforms\\_functional_tensor.py:599\u001b[0m, in \u001b[0;36m_gen_affine_grid\u001b[1;34m(theta, w, h, ow, oh)\u001b[0m\n\u001b[0;32m    596\u001b[0m base_grid[\u001b[38;5;241m.\u001b[39m\u001b[38;5;241m.\u001b[39m\u001b[38;5;241m.\u001b[39m, \u001b[38;5;241m2\u001b[39m]\u001b[38;5;241m.\u001b[39mfill_(\u001b[38;5;241m1\u001b[39m)\n\u001b[0;32m    598\u001b[0m rescaled_theta \u001b[38;5;241m=\u001b[39m theta\u001b[38;5;241m.\u001b[39mtranspose(\u001b[38;5;241m1\u001b[39m, \u001b[38;5;241m2\u001b[39m) \u001b[38;5;241m/\u001b[39m torch\u001b[38;5;241m.\u001b[39mtensor([\u001b[38;5;241m0.5\u001b[39m \u001b[38;5;241m*\u001b[39m w, \u001b[38;5;241m0.5\u001b[39m \u001b[38;5;241m*\u001b[39m h], dtype\u001b[38;5;241m=\u001b[39mtheta\u001b[38;5;241m.\u001b[39mdtype, device\u001b[38;5;241m=\u001b[39mtheta\u001b[38;5;241m.\u001b[39mdevice)\n\u001b[1;32m--> 599\u001b[0m output_grid \u001b[38;5;241m=\u001b[39m \u001b[43mbase_grid\u001b[49m\u001b[38;5;241;43m.\u001b[39;49m\u001b[43mview\u001b[49m\u001b[43m(\u001b[49m\u001b[38;5;241;43m1\u001b[39;49m\u001b[43m,\u001b[49m\u001b[43m \u001b[49m\u001b[43moh\u001b[49m\u001b[43m \u001b[49m\u001b[38;5;241;43m*\u001b[39;49m\u001b[43m \u001b[49m\u001b[43mow\u001b[49m\u001b[43m,\u001b[49m\u001b[43m \u001b[49m\u001b[38;5;241;43m3\u001b[39;49m\u001b[43m)\u001b[49m\u001b[38;5;241;43m.\u001b[39;49m\u001b[43mbmm\u001b[49m\u001b[43m(\u001b[49m\u001b[43mrescaled_theta\u001b[49m\u001b[43m)\u001b[49m\n\u001b[0;32m    600\u001b[0m \u001b[38;5;28;01mreturn\u001b[39;00m output_grid\u001b[38;5;241m.\u001b[39mview(\u001b[38;5;241m1\u001b[39m, oh, ow, \u001b[38;5;241m2\u001b[39m)\n",
            "\u001b[1;31mKeyboardInterrupt\u001b[0m: "
          ]
        }
      ],
      "source": [
        "# Evaluate the rotation invariant triplet network\n",
        "accuracy_1_rotation = evaluate_triplet_network(rotation_invariant_triplet_net, data_dict_test_task2, preprocess, K=4, print_alphabet_accuracy=print_alphabet_accuracy)\n",
        "accuracy_1_rotation"
      ]
    },
    {
      "cell_type": "markdown",
      "id": "bfdbe34799376c36",
      "metadata": {
        "collapsed": false,
        "id": "bfdbe34799376c36"
      },
      "source": [
        "# Task 3: Domain knowledge injection"
      ]
    },
    {
      "cell_type": "code",
      "execution_count": 30,
      "id": "aa248dbece85da5c",
      "metadata": {
        "id": "aa248dbece85da5c"
      },
      "outputs": [
        {
          "name": "stdout",
          "output_type": "stream",
          "text": [
            "dict_keys(['unseen_images_labels', 'annotated_images_labels', 'unseen_images', 'annotated_images', 'unseen_images_preceding_types', 'character_to_type_mapping', 'type_following_probs'])\n"
          ]
        }
      ],
      "source": [
        "# load the test data for task 3:\n",
        "# the structure of the data of task 3 is exactly the same as for task 1, but now our the loaded dictionary contains some additional keys.\n",
        "# These additional keys will be explained in the cells below:\n",
        "\n",
        "data_dict_test_task3 = load_data(main_dir + 'data/test_data_task3.pkl')\n",
        "print(data_dict_test_task3.keys())"
      ]
    },
    {
      "cell_type": "code",
      "execution_count": 34,
      "id": "7fb6a6237a187493",
      "metadata": {
        "id": "7fb6a6237a187493"
      },
      "outputs": [],
      "source": [
        "# The keys 'annotated_images', 'annotated_images_labels', 'unseen_images', 'unseen_images_labels' are the same as for task 1, and the structure of the data is exactly the same.\n",
        "\n",
        "# The key 'unseen_images_preceding_types' maps to the type of the preceding character in the sequence where the unseen image was observed, for each alphabet.\n",
        "# The key 'character_to_type_mapping' maps to the mapping of each character to its type, for each alphabet.\n",
        "# The key 'type_following_probs' maps to the probabilities of each character type being followed by another character type, for each alphabet."
      ]
    },
    {
      "cell_type": "code",
      "execution_count": 31,
      "id": "7f707a7f",
      "metadata": {},
      "outputs": [
        {
          "data": {
            "text/plain": [
              "7"
            ]
          },
          "execution_count": 31,
          "metadata": {},
          "output_type": "execute_result"
        }
      ],
      "source": [
        "len(data_dict_test_task3)"
      ]
    },
    {
      "cell_type": "code",
      "execution_count": 37,
      "id": "ef9bcef5572f0a78",
      "metadata": {
        "id": "ef9bcef5572f0a78"
      },
      "outputs": [
        {
          "name": "stdout",
          "output_type": "stream",
          "text": [
            "Alphabet: Glagolitic\n",
            "Some character types that preceded unseen images from the Glagolitic alphabet: ['I' 'II' 'I' 'I' 'II']\n",
            "There are 855 preceding character types in the Glagolitic alphabet, and 855 unseen images.\n",
            "Type of character06 from the Glagolitic alphabet: II\n",
            "Probability of a character of type II following a character of type II in the Glagolitic alphabet: 0.26883910386965376\n"
          ]
        }
      ],
      "source": [
        "# examples:\n",
        "\n",
        "alphabet = np.random.choice(list(data_dict_test_task3['unseen_images_preceding_types'].keys()))\n",
        "print(f'Alphabet: {alphabet}')\n",
        "\n",
        "\n",
        "preceding_character_types_alphabet = data_dict_test_task3[\"unseen_images_preceding_types\"][alphabet]  # a list\n",
        "print(f'Some character types that preceded unseen images from the {alphabet} alphabet: {np.random.choice(preceding_character_types_alphabet, size=5)}')\n",
        "print(f'There are {len(preceding_character_types_alphabet)} preceding character types in the {alphabet} alphabet, and {len(data_dict_test_task3[\"unseen_images\"][alphabet])} unseen images.')\n",
        "\n",
        "\n",
        "character_to_type_mapping_alphabet = data_dict_test_task3[\"character_to_type_mapping\"][alphabet]\n",
        "# this is a dict, with as keys the characters and as values the types\n",
        "random_character = np.random.choice(list(character_to_type_mapping_alphabet.keys()))\n",
        "print(f'Type of {random_character} from the {alphabet} alphabet: {character_to_type_mapping_alphabet[random_character]}')\n",
        "\n",
        "\n",
        "\n",
        "type_following_probs_alphabet = data_dict_test_task3[\"type_following_probs\"][alphabet]  # a dict of dicts\n",
        "preceding_type = np.random.choice(list(type_following_probs_alphabet.keys()))\n",
        "following_type = np.random.choice(list(type_following_probs_alphabet[preceding_type].keys()))\n",
        "print(f'Probability of a character of type {following_type} following a character of type {preceding_type} in the {alphabet} alphabet: {type_following_probs_alphabet[preceding_type][following_type]}')\n"
      ]
    },
    {
      "cell_type": "code",
      "execution_count": 38,
      "id": "104bec0e",
      "metadata": {},
      "outputs": [
        {
          "data": {
            "text/plain": [
              "['II',\n",
              " 'II',\n",
              " 'II',\n",
              " 'II',\n",
              " 'II',\n",
              " 'II',\n",
              " 'II',\n",
              " 'II',\n",
              " 'I',\n",
              " 'II',\n",
              " 'II',\n",
              " 'II',\n",
              " 'II',\n",
              " 'II',\n",
              " 'II',\n",
              " 'II',\n",
              " 'II',\n",
              " 'II',\n",
              " 'II',\n",
              " 'II',\n",
              " 'II',\n",
              " 'II',\n",
              " 'II',\n",
              " 'II',\n",
              " 'II',\n",
              " 'II',\n",
              " 'II',\n",
              " 'II',\n",
              " 'II',\n",
              " 'II',\n",
              " 'II',\n",
              " 'I',\n",
              " 'II',\n",
              " 'II',\n",
              " 'II',\n",
              " 'II',\n",
              " 'II',\n",
              " 'II',\n",
              " 'I',\n",
              " 'II',\n",
              " 'II',\n",
              " 'I',\n",
              " 'II',\n",
              " 'I',\n",
              " 'I',\n",
              " 'II',\n",
              " 'I',\n",
              " 'I',\n",
              " 'II',\n",
              " 'I',\n",
              " 'II',\n",
              " 'I',\n",
              " 'I',\n",
              " 'I',\n",
              " 'I',\n",
              " 'I',\n",
              " 'I',\n",
              " 'II',\n",
              " 'II',\n",
              " 'II',\n",
              " 'II',\n",
              " 'II',\n",
              " 'II',\n",
              " 'II',\n",
              " 'II',\n",
              " 'II',\n",
              " 'II',\n",
              " 'II',\n",
              " 'II',\n",
              " 'II',\n",
              " 'II',\n",
              " 'II',\n",
              " 'II',\n",
              " 'II',\n",
              " 'II',\n",
              " 'II',\n",
              " 'I',\n",
              " 'I',\n",
              " 'II',\n",
              " 'I',\n",
              " 'II',\n",
              " 'II',\n",
              " 'I',\n",
              " 'I',\n",
              " 'I',\n",
              " 'I',\n",
              " 'I',\n",
              " 'I',\n",
              " 'II',\n",
              " 'I',\n",
              " 'I',\n",
              " 'I',\n",
              " 'II',\n",
              " 'I',\n",
              " 'I',\n",
              " 'II',\n",
              " 'I',\n",
              " 'I',\n",
              " 'I',\n",
              " 'II',\n",
              " 'II',\n",
              " 'I',\n",
              " 'I',\n",
              " 'II',\n",
              " 'II',\n",
              " 'II',\n",
              " 'I',\n",
              " 'II',\n",
              " 'I',\n",
              " 'I',\n",
              " 'II',\n",
              " 'I',\n",
              " 'II',\n",
              " 'II',\n",
              " 'II',\n",
              " 'II',\n",
              " 'II',\n",
              " 'II',\n",
              " 'II',\n",
              " 'II',\n",
              " 'II',\n",
              " 'II',\n",
              " 'II',\n",
              " 'II',\n",
              " 'II',\n",
              " 'II',\n",
              " 'II',\n",
              " 'II',\n",
              " 'II',\n",
              " 'II',\n",
              " 'II',\n",
              " 'II',\n",
              " 'II',\n",
              " 'II',\n",
              " 'II',\n",
              " 'II',\n",
              " 'II',\n",
              " 'II',\n",
              " 'II',\n",
              " 'II',\n",
              " 'II',\n",
              " 'II',\n",
              " 'II',\n",
              " 'II',\n",
              " 'II',\n",
              " 'II',\n",
              " 'II',\n",
              " 'II',\n",
              " 'II',\n",
              " 'II',\n",
              " 'II',\n",
              " 'II',\n",
              " 'II',\n",
              " 'II',\n",
              " 'I',\n",
              " 'II',\n",
              " 'II',\n",
              " 'II',\n",
              " 'II',\n",
              " 'II',\n",
              " 'II',\n",
              " 'II',\n",
              " 'II',\n",
              " 'II',\n",
              " 'I',\n",
              " 'II',\n",
              " 'II',\n",
              " 'II',\n",
              " 'I',\n",
              " 'II',\n",
              " 'II',\n",
              " 'I',\n",
              " 'I',\n",
              " 'I',\n",
              " 'I',\n",
              " 'I',\n",
              " 'I',\n",
              " 'I',\n",
              " 'II',\n",
              " 'I',\n",
              " 'I',\n",
              " 'I',\n",
              " 'I',\n",
              " 'I',\n",
              " 'I',\n",
              " 'I',\n",
              " 'II',\n",
              " 'I',\n",
              " 'II',\n",
              " 'I',\n",
              " 'I',\n",
              " 'I',\n",
              " 'I',\n",
              " 'I',\n",
              " 'I',\n",
              " 'I',\n",
              " 'I',\n",
              " 'I',\n",
              " 'I',\n",
              " 'I',\n",
              " 'II',\n",
              " 'I',\n",
              " 'II',\n",
              " 'I',\n",
              " 'I',\n",
              " 'I',\n",
              " 'I',\n",
              " 'I',\n",
              " 'II',\n",
              " 'I',\n",
              " 'II',\n",
              " 'II',\n",
              " 'II',\n",
              " 'II',\n",
              " 'II',\n",
              " 'II',\n",
              " 'II',\n",
              " 'II',\n",
              " 'II',\n",
              " 'II',\n",
              " 'II',\n",
              " 'II',\n",
              " 'II',\n",
              " 'II',\n",
              " 'II',\n",
              " 'II',\n",
              " 'II',\n",
              " 'II',\n",
              " 'I',\n",
              " 'II',\n",
              " 'II',\n",
              " 'I',\n",
              " 'I',\n",
              " 'I',\n",
              " 'I',\n",
              " 'II',\n",
              " 'I',\n",
              " 'II',\n",
              " 'II',\n",
              " 'I',\n",
              " 'I',\n",
              " 'I',\n",
              " 'I',\n",
              " 'I',\n",
              " 'I',\n",
              " 'I',\n",
              " 'I',\n",
              " 'II',\n",
              " 'II',\n",
              " 'II',\n",
              " 'II',\n",
              " 'II',\n",
              " 'II',\n",
              " 'II',\n",
              " 'II',\n",
              " 'II',\n",
              " 'II',\n",
              " 'II',\n",
              " 'II',\n",
              " 'II',\n",
              " 'II',\n",
              " 'II',\n",
              " 'II',\n",
              " 'II',\n",
              " 'II',\n",
              " 'II',\n",
              " 'I',\n",
              " 'I',\n",
              " 'I',\n",
              " 'I',\n",
              " 'I',\n",
              " 'I',\n",
              " 'I',\n",
              " 'I',\n",
              " 'I',\n",
              " 'I',\n",
              " 'I',\n",
              " 'I',\n",
              " 'I',\n",
              " 'II',\n",
              " 'I',\n",
              " 'I',\n",
              " 'I',\n",
              " 'I',\n",
              " 'I',\n",
              " 'I',\n",
              " 'I',\n",
              " 'II',\n",
              " 'I',\n",
              " 'I',\n",
              " 'II',\n",
              " 'I',\n",
              " 'II',\n",
              " 'I',\n",
              " 'I',\n",
              " 'I',\n",
              " 'I',\n",
              " 'I',\n",
              " 'I',\n",
              " 'I',\n",
              " 'I',\n",
              " 'I',\n",
              " 'I',\n",
              " 'I',\n",
              " 'I',\n",
              " 'I',\n",
              " 'II',\n",
              " 'I',\n",
              " 'I',\n",
              " 'I',\n",
              " 'II',\n",
              " 'I',\n",
              " 'II',\n",
              " 'I',\n",
              " 'I',\n",
              " 'II',\n",
              " 'II',\n",
              " 'I',\n",
              " 'II',\n",
              " 'II',\n",
              " 'I',\n",
              " 'I',\n",
              " 'I',\n",
              " 'II',\n",
              " 'I',\n",
              " 'II',\n",
              " 'I',\n",
              " 'I',\n",
              " 'I',\n",
              " 'I',\n",
              " 'I',\n",
              " 'I',\n",
              " 'II',\n",
              " 'I',\n",
              " 'II',\n",
              " 'II',\n",
              " 'I',\n",
              " 'I',\n",
              " 'I',\n",
              " 'I',\n",
              " 'I',\n",
              " 'I',\n",
              " 'II',\n",
              " 'I',\n",
              " 'II',\n",
              " 'II',\n",
              " 'II',\n",
              " 'II',\n",
              " 'II',\n",
              " 'I',\n",
              " 'II',\n",
              " 'II',\n",
              " 'II',\n",
              " 'I',\n",
              " 'II',\n",
              " 'II',\n",
              " 'II',\n",
              " 'II',\n",
              " 'II',\n",
              " 'II',\n",
              " 'II',\n",
              " 'II',\n",
              " 'II',\n",
              " 'II',\n",
              " 'II',\n",
              " 'II',\n",
              " 'II',\n",
              " 'II',\n",
              " 'II',\n",
              " 'II',\n",
              " 'II',\n",
              " 'II',\n",
              " 'II',\n",
              " 'II',\n",
              " 'II',\n",
              " 'II',\n",
              " 'II',\n",
              " 'II',\n",
              " 'II',\n",
              " 'II',\n",
              " 'II',\n",
              " 'II',\n",
              " 'I',\n",
              " 'I',\n",
              " 'I',\n",
              " 'I',\n",
              " 'I',\n",
              " 'II',\n",
              " 'I',\n",
              " 'I',\n",
              " 'I',\n",
              " 'I',\n",
              " 'II',\n",
              " 'I',\n",
              " 'I',\n",
              " 'I',\n",
              " 'I',\n",
              " 'II',\n",
              " 'I',\n",
              " 'II',\n",
              " 'I',\n",
              " 'I',\n",
              " 'I',\n",
              " 'I',\n",
              " 'I',\n",
              " 'I',\n",
              " 'II',\n",
              " 'I',\n",
              " 'I',\n",
              " 'I',\n",
              " 'I',\n",
              " 'I',\n",
              " 'I',\n",
              " 'I',\n",
              " 'I',\n",
              " 'II',\n",
              " 'I',\n",
              " 'I',\n",
              " 'II',\n",
              " 'II',\n",
              " 'II',\n",
              " 'II',\n",
              " 'II',\n",
              " 'II',\n",
              " 'II',\n",
              " 'II',\n",
              " 'II',\n",
              " 'II',\n",
              " 'II',\n",
              " 'II',\n",
              " 'II',\n",
              " 'II',\n",
              " 'II',\n",
              " 'II',\n",
              " 'II',\n",
              " 'II',\n",
              " 'II',\n",
              " 'I',\n",
              " 'I',\n",
              " 'I',\n",
              " 'I',\n",
              " 'I',\n",
              " 'II',\n",
              " 'I',\n",
              " 'II',\n",
              " 'I',\n",
              " 'II',\n",
              " 'II',\n",
              " 'I',\n",
              " 'I',\n",
              " 'II',\n",
              " 'I',\n",
              " 'II',\n",
              " 'II',\n",
              " 'I',\n",
              " 'II',\n",
              " 'II',\n",
              " 'II',\n",
              " 'II',\n",
              " 'I',\n",
              " 'II',\n",
              " 'I',\n",
              " 'I',\n",
              " 'I',\n",
              " 'I',\n",
              " 'I',\n",
              " 'II',\n",
              " 'I',\n",
              " 'I',\n",
              " 'II',\n",
              " 'I',\n",
              " 'II',\n",
              " 'II',\n",
              " 'II',\n",
              " 'II',\n",
              " 'I',\n",
              " 'II',\n",
              " 'I',\n",
              " 'II',\n",
              " 'II',\n",
              " 'II',\n",
              " 'I',\n",
              " 'II',\n",
              " 'II',\n",
              " 'I',\n",
              " 'I',\n",
              " 'I',\n",
              " 'II',\n",
              " 'II',\n",
              " 'I',\n",
              " 'I',\n",
              " 'I',\n",
              " 'I',\n",
              " 'II',\n",
              " 'II',\n",
              " 'II',\n",
              " 'II',\n",
              " 'II',\n",
              " 'II',\n",
              " 'II',\n",
              " 'II',\n",
              " 'II',\n",
              " 'II',\n",
              " 'II',\n",
              " 'II',\n",
              " 'II',\n",
              " 'II',\n",
              " 'II',\n",
              " 'II',\n",
              " 'II',\n",
              " 'II',\n",
              " 'II',\n",
              " 'II',\n",
              " 'II',\n",
              " 'II',\n",
              " 'II',\n",
              " 'I',\n",
              " 'II',\n",
              " 'II',\n",
              " 'I',\n",
              " 'II',\n",
              " 'II',\n",
              " 'II',\n",
              " 'II',\n",
              " 'II',\n",
              " 'II',\n",
              " 'II',\n",
              " 'II',\n",
              " 'I',\n",
              " 'II',\n",
              " 'II',\n",
              " 'II',\n",
              " 'II',\n",
              " 'II',\n",
              " 'I',\n",
              " 'I',\n",
              " 'I',\n",
              " 'I',\n",
              " 'II',\n",
              " 'I',\n",
              " 'II',\n",
              " 'II',\n",
              " 'II',\n",
              " 'I',\n",
              " 'II',\n",
              " 'II',\n",
              " 'I',\n",
              " 'I',\n",
              " 'I',\n",
              " 'II',\n",
              " 'I',\n",
              " 'I',\n",
              " 'I',\n",
              " 'I',\n",
              " 'I',\n",
              " 'I',\n",
              " 'I',\n",
              " 'II',\n",
              " 'I',\n",
              " 'I',\n",
              " 'I',\n",
              " 'I',\n",
              " 'I',\n",
              " 'I',\n",
              " 'I',\n",
              " 'I',\n",
              " 'I',\n",
              " 'I',\n",
              " 'I',\n",
              " 'I',\n",
              " 'I',\n",
              " 'I',\n",
              " 'I',\n",
              " 'I',\n",
              " 'I',\n",
              " 'I',\n",
              " 'II',\n",
              " 'II',\n",
              " 'I',\n",
              " 'II',\n",
              " 'I',\n",
              " 'I',\n",
              " 'I',\n",
              " 'I',\n",
              " 'II',\n",
              " 'II',\n",
              " 'I',\n",
              " 'I',\n",
              " 'I',\n",
              " 'I',\n",
              " 'II',\n",
              " 'I',\n",
              " 'I',\n",
              " 'I',\n",
              " 'II',\n",
              " 'I',\n",
              " 'I',\n",
              " 'I',\n",
              " 'I',\n",
              " 'I',\n",
              " 'I',\n",
              " 'I',\n",
              " 'I',\n",
              " 'II',\n",
              " 'II',\n",
              " 'I',\n",
              " 'I',\n",
              " 'II',\n",
              " 'I',\n",
              " 'I',\n",
              " 'I',\n",
              " 'II',\n",
              " 'I',\n",
              " 'I',\n",
              " 'I',\n",
              " 'I',\n",
              " 'I',\n",
              " 'I',\n",
              " 'II',\n",
              " 'II',\n",
              " 'I',\n",
              " 'I',\n",
              " 'II',\n",
              " 'II',\n",
              " 'II',\n",
              " 'I',\n",
              " 'I',\n",
              " 'II',\n",
              " 'I',\n",
              " 'I',\n",
              " 'I',\n",
              " 'I',\n",
              " 'I',\n",
              " 'I',\n",
              " 'I',\n",
              " 'II',\n",
              " 'I',\n",
              " 'I',\n",
              " 'II',\n",
              " 'I',\n",
              " 'I',\n",
              " 'I',\n",
              " 'II',\n",
              " 'I',\n",
              " 'I',\n",
              " 'II',\n",
              " 'II',\n",
              " 'II',\n",
              " 'II',\n",
              " 'II',\n",
              " 'II',\n",
              " 'II',\n",
              " 'II',\n",
              " 'II',\n",
              " 'II',\n",
              " 'II',\n",
              " 'II',\n",
              " 'II',\n",
              " 'II',\n",
              " 'II',\n",
              " 'II',\n",
              " 'II',\n",
              " 'II',\n",
              " 'II',\n",
              " 'II',\n",
              " 'II',\n",
              " 'II',\n",
              " 'I',\n",
              " 'I',\n",
              " 'I',\n",
              " 'II',\n",
              " 'II',\n",
              " 'II',\n",
              " 'I',\n",
              " 'I',\n",
              " 'II',\n",
              " 'I',\n",
              " 'I',\n",
              " 'I',\n",
              " 'I',\n",
              " 'II',\n",
              " 'I',\n",
              " 'I',\n",
              " 'II',\n",
              " 'II',\n",
              " 'II',\n",
              " 'II',\n",
              " 'II',\n",
              " 'II',\n",
              " 'II',\n",
              " 'II',\n",
              " 'II',\n",
              " 'II',\n",
              " 'II',\n",
              " 'II',\n",
              " 'II',\n",
              " 'II',\n",
              " 'II',\n",
              " 'II',\n",
              " 'II',\n",
              " 'II',\n",
              " 'II',\n",
              " 'II',\n",
              " 'I',\n",
              " 'I',\n",
              " 'I',\n",
              " 'I',\n",
              " 'I',\n",
              " 'I',\n",
              " 'I',\n",
              " 'I',\n",
              " 'II',\n",
              " 'II',\n",
              " 'I',\n",
              " 'II',\n",
              " 'II',\n",
              " 'II',\n",
              " 'I',\n",
              " 'I',\n",
              " 'I',\n",
              " 'I',\n",
              " 'I',\n",
              " 'II',\n",
              " 'II',\n",
              " 'II',\n",
              " 'II',\n",
              " 'II',\n",
              " 'II',\n",
              " 'II',\n",
              " 'II',\n",
              " 'II',\n",
              " 'II',\n",
              " 'II',\n",
              " 'II',\n",
              " 'II',\n",
              " 'I',\n",
              " 'II',\n",
              " 'II',\n",
              " 'II',\n",
              " 'II',\n",
              " 'II',\n",
              " 'II',\n",
              " 'II',\n",
              " 'II',\n",
              " 'II',\n",
              " 'II',\n",
              " 'II',\n",
              " 'I',\n",
              " 'II',\n",
              " 'II',\n",
              " 'II',\n",
              " 'II',\n",
              " 'II',\n",
              " 'II',\n",
              " 'II',\n",
              " 'II',\n",
              " 'I',\n",
              " 'II',\n",
              " 'II',\n",
              " 'II',\n",
              " 'I',\n",
              " 'II',\n",
              " 'II',\n",
              " 'II',\n",
              " 'II',\n",
              " 'II',\n",
              " 'II',\n",
              " 'I',\n",
              " 'II',\n",
              " 'II',\n",
              " 'II',\n",
              " 'II',\n",
              " 'II',\n",
              " 'II',\n",
              " 'II',\n",
              " 'I',\n",
              " 'II',\n",
              " 'I',\n",
              " 'II',\n",
              " 'I',\n",
              " 'I',\n",
              " 'I',\n",
              " 'I',\n",
              " 'I',\n",
              " 'I',\n",
              " 'I',\n",
              " 'I',\n",
              " 'I',\n",
              " 'I',\n",
              " 'I',\n",
              " 'I',\n",
              " 'I',\n",
              " 'I',\n",
              " 'I',\n",
              " 'II',\n",
              " 'II',\n",
              " 'I',\n",
              " 'I',\n",
              " 'I',\n",
              " 'I',\n",
              " 'II',\n",
              " 'I',\n",
              " 'I',\n",
              " 'I',\n",
              " 'I',\n",
              " 'I',\n",
              " 'I',\n",
              " 'I',\n",
              " 'II',\n",
              " 'II',\n",
              " 'I',\n",
              " 'I',\n",
              " 'I',\n",
              " 'I',\n",
              " 'I',\n",
              " 'I',\n",
              " 'I',\n",
              " 'II',\n",
              " 'II',\n",
              " 'II',\n",
              " 'II',\n",
              " 'II',\n",
              " 'II',\n",
              " 'II',\n",
              " 'II',\n",
              " 'II',\n",
              " 'II',\n",
              " 'II',\n",
              " 'II',\n",
              " 'II',\n",
              " 'II',\n",
              " 'II',\n",
              " 'I',\n",
              " 'II',\n",
              " 'II',\n",
              " 'II',\n",
              " 'II',\n",
              " 'II',\n",
              " 'II',\n",
              " 'II',\n",
              " 'II',\n",
              " 'II',\n",
              " 'II',\n",
              " 'II',\n",
              " 'II',\n",
              " 'II',\n",
              " 'II',\n",
              " 'II',\n",
              " 'II',\n",
              " 'II',\n",
              " 'II',\n",
              " 'II',\n",
              " 'I',\n",
              " 'II',\n",
              " 'II']"
            ]
          },
          "execution_count": 38,
          "metadata": {},
          "output_type": "execute_result"
        }
      ],
      "source": [
        "data_dict_test_task3[\"unseen_images_preceding_types\"][alphabet]"
      ]
    },
    {
      "cell_type": "code",
      "execution_count": 39,
      "id": "afa1bb9b",
      "metadata": {},
      "outputs": [],
      "source": [
        "class Lambda(nn.Module):\n",
        "    \"\"\"\n",
        "    A utility class that allows you to create a PyTorch nn.Module from an arbitrary function.\n",
        "    \"\"\"\n",
        "    def __init__(self, func):\n",
        "        super().__init__()\n",
        "        self.func = func\n",
        "\n",
        "    def forward(self, x):\n",
        "        return self.func(x)\n",
        "\n",
        "class ProbabilisticEmbeddingNet(nn.Module):\n",
        "    \"\"\"\n",
        "    A PyTorch implementation of a Convolutional Neural Network (CNN) for feature extraction or embedding.\n",
        "\n",
        "    The network consists of three convolutional blocks each followed by a batch normalization, ReLU activation, and max pooling.\n",
        "    After the convolutional blocks, the tensor is flattened and passed through two fully connected (linear) layers.\n",
        "\n",
        "    The final output is a 10-dimensional vector which can be used as an embedding of the input.\n",
        "    \"\"\"\n",
        "    def __init__(self):\n",
        "        super(ProbabilisticEmbeddingNet, self).__init__()\n",
        "\n",
        "        self.front_layer = nn.Sequential(\n",
        "            # Conv Layer block 1\n",
        "            nn.Conv2d(in_channels=1, out_channels=32, kernel_size=3, padding=1),\n",
        "            nn.BatchNorm2d(32),\n",
        "            nn.ReLU(inplace=True),\n",
        "            nn.Conv2d(in_channels=32, out_channels=64, kernel_size=3, padding=1),\n",
        "            nn.ReLU(inplace=True),\n",
        "            nn.MaxPool2d(kernel_size=2, stride=2),\n",
        "\n",
        "            # Conv Layer block 2\n",
        "            nn.Conv2d(in_channels=64, out_channels=128, kernel_size=3, padding=1),\n",
        "            nn.BatchNorm2d(128),\n",
        "            nn.ReLU(inplace=True),\n",
        "            nn.Conv2d(in_channels=128, out_channels=128, kernel_size=3, padding=1),\n",
        "            nn.ReLU(inplace=True),\n",
        "            nn.MaxPool2d(kernel_size=2, stride=2),\n",
        "\n",
        "\n",
        "            # Conv Layer block 3\n",
        "            nn.Conv2d(in_channels=128, out_channels=256, kernel_size=3, padding=1),\n",
        "            nn.BatchNorm2d(256),\n",
        "            nn.ReLU(inplace=True),\n",
        "            nn.Conv2d(in_channels=256, out_channels=256, kernel_size=3, padding=1),\n",
        "            nn.ReLU(inplace=True),\n",
        "            nn.MaxPool2d(kernel_size=2, stride=2),\n",
        "\n",
        "            Lambda(lambda x: x.view(x.size(0), -1)),\n",
        "\n",
        "            nn.Linear(4096, 1024),\n",
        "            nn.ReLU(inplace=True),\n",
        "            nn.Linear(1024, 512),\n",
        "            nn.ReLU(inplace=True),\n",
        "        )\n",
        "\n",
        "        self.last_layer = nn.Linear(512, 10)\n",
        "\n",
        "    def forward(self, x):\n",
        "        \"\"\"Perform forward.\"\"\"\n",
        "        # conv layers\n",
        "        x = self.front_layer(x)\n",
        "        x = self.last_layer(x)\n",
        "        return x\n",
        "\n",
        "    def get_embedding(self, x):\n",
        "        return self.forward(x)"
      ]
    },
    {
      "cell_type": "code",
      "execution_count": 40,
      "id": "93ed574b",
      "metadata": {},
      "outputs": [],
      "source": [
        "probabilistic_triplet_network = TripletNet(ProbabilisticEmbeddingNet()).to(DEVICE)"
      ]
    },
    {
      "cell_type": "code",
      "execution_count": 41,
      "id": "596ab2a615cb44e9",
      "metadata": {
        "id": "596ab2a615cb44e9"
      },
      "outputs": [],
      "source": [
        "def adjust_probabilities(cnn_probs, preceding_type, type_following_probs, character_to_type_mapping):\n",
        "    adjusted_probs = cnn_probs.copy()\n",
        "    for i, prob in enumerate(cnn_probs):\n",
        "        char_type = character_to_type_mapping[i]\n",
        "        type_prob = type_following_probs[preceding_type][char_type]\n",
        "        adjusted_probs[i] *= type_prob\n",
        "    return adjusted_probs / np.sum(adjusted_probs)"
      ]
    },
    {
      "cell_type": "code",
      "execution_count": null,
      "id": "a2656ede1e4adbe8",
      "metadata": {
        "id": "a2656ede1e4adbe8"
      },
      "outputs": [],
      "source": [
        "def predict_with_adjustments(model, unseen_images, unseen_images_preceding_types, type_following_probs, character_to_type_mapping):\n",
        "    predictions = []\n",
        "    model.eval()\n",
        "    with torch.no_grad():\n",
        "        for img, preceding_type in zip(unseen_images, unseen_images_preceding_types):\n",
        "            cnn_probs = torch.softmax(model(img.unsqueeze(0)), dim=1).cpu().numpy().flatten()\n",
        "            adjusted_probs = adjust_probabilities(cnn_probs, preceding_type, type_following_probs, character_to_type_mapping)\n",
        "            final_prediction = np.argmax(adjusted_probs)\n",
        "            predictions.append(final_prediction)\n",
        "    return predictions"
      ]
    },
    {
      "cell_type": "code",
      "execution_count": 42,
      "id": "96c5546d",
      "metadata": {},
      "outputs": [
        {
          "data": {
            "text/plain": [
              "{'I': {'I': 0.057692307692307696, 'II': 0.9423076923076923},\n",
              " 'II': {'I': 0.7311608961303462, 'II': 0.26883910386965376}}"
            ]
          },
          "execution_count": 42,
          "metadata": {},
          "output_type": "execute_result"
        }
      ],
      "source": [
        "data_dict_test_task3['type_following_probs'][alphabet]"
      ]
    },
    {
      "cell_type": "code",
      "execution_count": 63,
      "id": "f6037bc1",
      "metadata": {},
      "outputs": [],
      "source": [
        "import torch\n",
        "import torch.nn.functional as F\n",
        "from torchvision import transforms\n",
        "import numpy as np\n",
        "from tqdm import tqdm\n",
        "\n",
        "# evaluation method\n",
        "def evaluate_probabilistic_triplet_network(triplet_network, data_dict_test, preprocess, K=1, print_alphabet_accuracy=True, device=DEVICE):\n",
        "    \"\"\"\n",
        "    This function evaluates the Triplet network on the test data\n",
        "    :param triplet_network: the trained Triplet network\n",
        "    :param data_dict_test: the test data dictionary with the keys 'annotated_images', 'annotated_images_labels', 'unseen_images', 'unseen_images_labels', 'unseen_images_preceding_types', 'character_to_type_mapping', 'type_following_probs'\n",
        "    :param K: the number of most similar images to consider\n",
        "    \"\"\"\n",
        "    triplet_network.eval()\n",
        "    correct_predictions = 0\n",
        "    num_images = 0\n",
        "\n",
        "    # Transform images\n",
        "    toPILImage = transforms.ToPILImage()\n",
        "\n",
        "    for alphabet in tqdm(data_dict_test['annotated_images'].keys()):\n",
        "\n",
        "        correct_predictions_alphabet = 0\n",
        "\n",
        "        for i, unseen_image in enumerate(data_dict_test['unseen_images'][alphabet]):\n",
        "            # Get the type of the preceding character\n",
        "            preceding_type = data_dict_test['unseen_images_preceding_types'][alphabet][i]\n",
        "            type_following_probs = data_dict_test['type_following_probs'][alphabet]\n",
        "\n",
        "            # Compute embedding for unseen image\n",
        "            unseen_image = toPILImage(unseen_image)\n",
        "            unseen_image = preprocess(unseen_image)\n",
        "            embedding_unseen = triplet_network.get_embedding(unseen_image.unsqueeze(0).to(device))\n",
        "\n",
        "            # List of distances (we'll use Euclidean distance)\n",
        "            distances = []\n",
        "\n",
        "            for j, annotated_image in enumerate(data_dict_test['annotated_images'][alphabet]):\n",
        "                # Convert the images to PIL images\n",
        "                annotated_image = toPILImage(annotated_image)\n",
        "                annotated_image = preprocess(annotated_image)\n",
        "                embedding_annotated = triplet_network.get_embedding(annotated_image.unsqueeze(0).to(device))\n",
        "\n",
        "                distance = torch.sqrt(torch.sum((embedding_unseen - embedding_annotated) ** 2, dim=1))\n",
        "                distances.append((distance.item(), j))\n",
        "\n",
        "            # Sort by distance\n",
        "            distances.sort(key=lambda x: x[0])\n",
        "\n",
        "            # Adjust the predicted labels using type-following probabilities\n",
        "            adjusted_labels = []\n",
        "            for distance, idx in distances:\n",
        "                label_annotated = data_dict_test['annotated_images_labels'][alphabet][idx]\n",
        "                type_annotated = data_dict_test['character_to_type_mapping'][alphabet][label_annotated]\n",
        "                following_prob = type_following_probs[preceding_type][type_annotated]\n",
        "                adjusted_labels.append((label_annotated, following_prob, distance))\n",
        "\n",
        "            # Sort the adjusted labels based on the adjusted probabilities and distance\n",
        "            adjusted_labels.sort(key=lambda x: (-x[1], x[2]))\n",
        "            top_k_labels = [label for label, _, _ in adjusted_labels[:K]]\n",
        "\n",
        "            # Get the actual label of the unseen image\n",
        "            actual_label = data_dict_test['unseen_images_labels'][alphabet][i]\n",
        "\n",
        "            if actual_label in top_k_labels:\n",
        "                correct_predictions += 1\n",
        "                correct_predictions_alphabet += 1\n",
        "            num_images += 1\n",
        "\n",
        "        accuracy_alphabet = correct_predictions_alphabet / len(data_dict_test['unseen_images'][alphabet])\n",
        "        if print_alphabet_accuracy:\n",
        "            print(f\"Accuracy for alphabet {alphabet}: {accuracy_alphabet}\")\n",
        "\n",
        "    # Compute the overall accuracy\n",
        "    accuracy = correct_predictions / num_images\n",
        "    return accuracy\n"
      ]
    },
    {
      "cell_type": "code",
      "execution_count": null,
      "id": "84ca9773",
      "metadata": {},
      "outputs": [],
      "source": [
        "annotated_image = toPILImage(annotated_image)\n",
        "annotated_image = preprocess(annotated_image)\n",
        "\n",
        "label_annotated = data_dict_test['annotated_images_labels'][alphabet][j]\n",
        "type_annotated = data_dict_test['character_to_type_mapping'][alphabet][label_annotated]\n",
        "\n",
        "following_prob = type_following_probs[preceding_type][type_annotated]\n",
        "\n",
        "\n",
        "embedding_annotated = triplet_network.get_embedding(annotated_image.unsqueeze(0).to(device))\n",
        "\n",
        "distance = torch.sqrt(torch.sum((embedding_unseen - embedding_annotated) ** 2, dim=1))\n",
        "distances.append(distance.item())"
      ]
    },
    {
      "cell_type": "code",
      "execution_count": 64,
      "id": "42d46e71207afe47",
      "metadata": {
        "id": "42d46e71207afe47"
      },
      "outputs": [
        {
          "name": "stderr",
          "output_type": "stream",
          "text": [
            "  5%|▌         | 1/20 [00:23<07:31, 23.79s/it]"
          ]
        },
        {
          "name": "stdout",
          "output_type": "stream",
          "text": [
            "Accuracy for alphabet Angelic: 0.4605263157894737\n"
          ]
        },
        {
          "name": "stderr",
          "output_type": "stream",
          "text": [
            " 10%|█         | 2/20 [01:04<10:06, 33.68s/it]"
          ]
        },
        {
          "name": "stdout",
          "output_type": "stream",
          "text": [
            "Accuracy for alphabet Atemayar_Qelisayer: 0.6275303643724697\n"
          ]
        },
        {
          "name": "stderr",
          "output_type": "stream",
          "text": [
            " 15%|█▌        | 3/20 [01:44<10:18, 36.40s/it]"
          ]
        },
        {
          "name": "stdout",
          "output_type": "stream",
          "text": [
            "Accuracy for alphabet Atlantean: 0.38866396761133604\n"
          ]
        },
        {
          "name": "stderr",
          "output_type": "stream",
          "text": [
            " 20%|██        | 4/20 [02:27<10:27, 39.23s/it]"
          ]
        },
        {
          "name": "stdout",
          "output_type": "stream",
          "text": [
            "Accuracy for alphabet Aurek-Besh: 0.6153846153846154\n"
          ]
        },
        {
          "name": "stderr",
          "output_type": "stream",
          "text": [
            " 25%|██▌       | 5/20 [03:21<11:06, 44.42s/it]"
          ]
        },
        {
          "name": "stdout",
          "output_type": "stream",
          "text": [
            "Accuracy for alphabet Avesta: 0.4797570850202429\n"
          ]
        },
        {
          "name": "stderr",
          "output_type": "stream",
          "text": [
            " 30%|███       | 6/20 [04:13<11:01, 47.22s/it]"
          ]
        },
        {
          "name": "stdout",
          "output_type": "stream",
          "text": [
            "Accuracy for alphabet Ge_ez: 0.3481781376518219\n"
          ]
        },
        {
          "name": "stderr",
          "output_type": "stream",
          "text": [
            " 35%|███▌      | 7/20 [06:51<18:01, 83.22s/it]"
          ]
        },
        {
          "name": "stdout",
          "output_type": "stream",
          "text": [
            "Accuracy for alphabet Glagolitic: 0.3485380116959064\n"
          ]
        },
        {
          "name": "stderr",
          "output_type": "stream",
          "text": [
            " 40%|████      | 8/20 [09:27<21:17, 106.46s/it]"
          ]
        },
        {
          "name": "stdout",
          "output_type": "stream",
          "text": [
            "Accuracy for alphabet Gurmukhi: 0.2549707602339181\n"
          ]
        },
        {
          "name": "stderr",
          "output_type": "stream",
          "text": [
            " 45%|████▌     | 9/20 [11:36<20:47, 113.40s/it]"
          ]
        },
        {
          "name": "stdout",
          "output_type": "stream",
          "text": [
            "Accuracy for alphabet Kannada: 0.30166880616174585\n"
          ]
        },
        {
          "name": "stderr",
          "output_type": "stream",
          "text": [
            " 50%|█████     | 10/20 [12:28<15:45, 94.58s/it]"
          ]
        },
        {
          "name": "stdout",
          "output_type": "stream",
          "text": [
            "Accuracy for alphabet Keble: 0.4008097165991903\n"
          ]
        },
        {
          "name": "stderr",
          "output_type": "stream",
          "text": [
            " 55%|█████▌    | 11/20 [15:17<17:35, 117.26s/it]"
          ]
        },
        {
          "name": "stdout",
          "output_type": "stream",
          "text": [
            "Accuracy for alphabet Malayalam: 0.23180291153415453\n"
          ]
        }
      ],
      "source": [
        "evaluate_probabilistic_triplet_network(probabilistic_triplet_network, data_dict_test_task3, preprocess, K=4, print_alphabet_accuracy=print_alphabet_accuracy)"
      ]
    }
  ],
  "metadata": {
    "accelerator": "GPU",
    "colab": {
      "gpuType": "T4",
      "provenance": []
    },
    "kernelspec": {
      "display_name": "Python 3",
      "name": "python3"
    },
    "language_info": {
      "codemirror_mode": {
        "name": "ipython",
        "version": 3
      },
      "file_extension": ".py",
      "mimetype": "text/x-python",
      "name": "python",
      "nbconvert_exporter": "python",
      "pygments_lexer": "ipython3",
      "version": "3.9.8"
    }
  },
  "nbformat": 4,
  "nbformat_minor": 5
}
