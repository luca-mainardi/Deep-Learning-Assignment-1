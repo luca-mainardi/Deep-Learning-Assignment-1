{
  "cells": [
    {
      "cell_type": "markdown",
      "id": "cc4f04c033b0e00",
      "metadata": {
        "collapsed": false,
        "id": "cc4f04c033b0e00"
      },
      "source": [
        "# Assignment 1 2AMM10 2023-2024\n",
        "\n",
        "## Group: [Group 6]\n",
        "### Member 1: [Luca Mainardi]\n",
        "### Member 2: [Francesco Brescia]\n",
        "### Member 3: [Matthew Nana]"
      ]
    },
    {
      "cell_type": "code",
      "execution_count": null,
      "id": "MHGRUKiDI58K",
      "metadata": {
        "colab": {
          "base_uri": "https://localhost:8080/"
        },
        "id": "MHGRUKiDI58K",
        "outputId": "0095e353-d916-44bd-ed2e-8d07097c0f37"
      },
      "outputs": [],
      "source": [
        "from google.colab import drive\n",
        "drive.mount('/content/drive')"
      ]
    },
    {
      "cell_type": "code",
      "execution_count": 5,
      "id": "fUIpaxmtH3uz",
      "metadata": {
        "id": "fUIpaxmtH3uz"
      },
      "outputs": [],
      "source": [
        "main_dir = '/content/drive/MyDrive/Assignment 1/'"
      ]
    },
    {
      "cell_type": "code",
      "execution_count": 49,
      "id": "0ed5889c",
      "metadata": {},
      "outputs": [],
      "source": [
        "main_dir=''"
      ]
    },
    {
      "cell_type": "code",
      "execution_count": 50,
      "id": "initial_id",
      "metadata": {
        "collapsed": true,
        "id": "initial_id"
      },
      "outputs": [],
      "source": [
        "import numpy as np\n",
        "import matplotlib.pyplot as plt\n",
        "import pickle"
      ]
    },
    {
      "cell_type": "code",
      "execution_count": 129,
      "id": "668e71f6",
      "metadata": {
        "id": "668e71f6"
      },
      "outputs": [],
      "source": [
        "# Variable to enable/disable training\n",
        "TRAIN_TRIPLET = False\n",
        "TRAIN_TRIPLET_ROTATION = False"
      ]
    },
    {
      "cell_type": "code",
      "execution_count": 52,
      "id": "d19b9de0e3461531",
      "metadata": {
        "id": "d19b9de0e3461531"
      },
      "outputs": [],
      "source": [
        "# function for loading the training data:\n",
        "\n",
        "def load_data(file):\n",
        "    \"\"\"\n",
        "    This function loads the data from the specified pickle file and returns a dictionary with the data\n",
        "    :param filename: the pickle file\n",
        "    :return: dict with data -- keys and values differ for the train data and test data for each task.\n",
        "     Please see the cells with example code below for explanations and examples of the data structure per data set.\n",
        "    \"\"\"\n",
        "    with open(file, 'rb') as f:\n",
        "        data_dict = pickle.load(f)\n",
        "    return data_dict"
      ]
    },
    {
      "cell_type": "code",
      "execution_count": 53,
      "id": "d0da60a825f5080b",
      "metadata": {
        "id": "d0da60a825f5080b"
      },
      "outputs": [],
      "source": [
        "train_data = load_data(main_dir + 'data/train_data.pkl')"
      ]
    },
    {
      "cell_type": "code",
      "execution_count": 54,
      "id": "289b9d9817ddf745",
      "metadata": {
        "colab": {
          "base_uri": "https://localhost:8080/"
        },
        "id": "289b9d9817ddf745",
        "outputId": "4c870448-6d6b-4ce3-c1d8-f478d528d4ad"
      },
      "outputs": [
        {
          "name": "stdout",
          "output_type": "stream",
          "text": [
            "example alphabet names: ['Alphabet_of_the_Magi', 'Anglo-Saxon_Futhorc', 'Arcadian', 'Armenian', 'Asomtavruli_(Georgian)']\n",
            "\n",
            "\n",
            "how to get an example image for a specific character:\n",
            "shape of image 2 of character character06 of alphabet Asomtavruli_(Georgian): torch.Size([1, 105, 105])\n"
          ]
        }
      ],
      "source": [
        "# the structure of the training data is a dict, where the keys are strings indicating the alphabet.\n",
        "# The values are again dicts, with the keys being the character and the values being a list of images of that character.\n",
        "\n",
        "# see the code below for examples of working with the train data\n",
        "\n",
        "alphabets = list(train_data.keys())\n",
        "\n",
        "\n",
        "print('example alphabet names:', alphabets[:5])\n",
        "print('\\n')\n",
        "print('how to get an example image for a specific character:')\n",
        "\n",
        "alphabet_id = 4\n",
        "alphabet = alphabets[alphabet_id]  # a dict\n",
        "characters_for_this_alphabet = list(train_data[alphabet].keys())\n",
        "character_id = 5\n",
        "character = characters_for_this_alphabet[character_id]\n",
        "image_id = 2\n",
        "\n",
        "print(f'shape of image {image_id} of character {character} of alphabet {alphabet}:', train_data[alphabet][character][image_id].shape)"
      ]
    },
    {
      "cell_type": "code",
      "execution_count": 55,
      "id": "581dbe01",
      "metadata": {
        "colab": {
          "base_uri": "https://localhost:8080/"
        },
        "id": "581dbe01",
        "outputId": "18ace3da-ddc7-41ca-e9c3-e4ffdbbe8bb0"
      },
      "outputs": [
        {
          "data": {
            "text/plain": [
              "30"
            ]
          },
          "execution_count": 55,
          "metadata": {},
          "output_type": "execute_result"
        }
      ],
      "source": [
        "len(alphabets)"
      ]
    },
    {
      "cell_type": "code",
      "execution_count": 56,
      "id": "f68bfac0812b8988",
      "metadata": {
        "id": "f68bfac0812b8988"
      },
      "outputs": [],
      "source": [
        "# function for plotting some examples:\n",
        "\n",
        "def plot_example_data(data_dict):\n",
        "    \"\"\"\n",
        "    This function plots some examples of the data\n",
        "    :param data_dict: dict with as keys a string specifying the alphabet, and as values a dict with as keys the character of the alphabet, and as values a list om images of the alphabet\n",
        "    \"\"\"\n",
        "    fig, axs = plt.subplots(2, 5, figsize=(15, 6))\n",
        "    alphabets_to_plot = np.random.choice(list(data_dict.keys()), size=10, replace=False)\n",
        "\n",
        "    for i, alphabet in enumerate(alphabets_to_plot):\n",
        "        characters = data_dict[alphabet]\n",
        "        character_to_plot = np.random.choice(list(characters.keys()), size=1)[0]\n",
        "        images = characters[character_to_plot]\n",
        "        im_idx = np.random.choice(len(images), size=1)[0]\n",
        "        axs[i//5, i%5].imshow(images[im_idx].permute(1, 2, 0))\n",
        "        axs[i//5, i%5].set_title(alphabet + '\\n' + character_to_plot, fontsize=8)\n",
        "        axs[i//5, i%5].axis('off')\n",
        "    # plt.show()"
      ]
    },
    {
      "cell_type": "code",
      "execution_count": 57,
      "id": "511e9fbc1b85e80f",
      "metadata": {
        "colab": {
          "base_uri": "https://localhost:8080/",
          "height": 536
        },
        "id": "511e9fbc1b85e80f",
        "outputId": "d956709c-f74e-4073-d98f-caedbada7783"
      },
      "outputs": [
        {
          "data": {
            "text/plain": [
              "<Figure size 640x480 with 0 Axes>"
            ]
          },
          "metadata": {},
          "output_type": "display_data"
        },
        {
          "data": {
            "image/png": "[encoded data removed]",
            "text/plain": [
              "<Figure size 1500x600 with 10 Axes>"
            ]
          },
          "metadata": {},
          "output_type": "display_data"
        }
      ],
      "source": [
        "plt.figure()\n",
        "plot_example_data(train_data)\n",
        "# plt.savefig('example_data.png', dpi=600)\n",
        "plt.show()"
      ]
    },
    {
      "cell_type": "markdown",
      "id": "b6449bef2185716",
      "metadata": {
        "collapsed": false,
        "id": "b6449bef2185716"
      },
      "source": [
        "# Task 1: character recognition"
      ]
    },
    {
      "cell_type": "code",
      "execution_count": 58,
      "id": "fbd0bd49",
      "metadata": {
        "id": "fbd0bd49"
      },
      "outputs": [],
      "source": [
        "import torch\n",
        "import torch.nn as nn\n",
        "import torch.optim as optim\n",
        "import torchvision.transforms as transforms\n",
        "from torch.utils.data import DataLoader, Dataset\n",
        "from tqdm import tqdm\n",
        "from torch.utils.data import random_split\n",
        "from sklearn.preprocessing import LabelEncoder"
      ]
    },
    {
      "cell_type": "code",
      "execution_count": 59,
      "id": "eZ_1wNZtHsxG",
      "metadata": {
        "colab": {
          "base_uri": "https://localhost:8080/"
        },
        "id": "eZ_1wNZtHsxG",
        "outputId": "033bc116-e58f-4960-d509-4fe7b8687f19"
      },
      "outputs": [
        {
          "name": "stdout",
          "output_type": "stream",
          "text": [
            "The available device is cuda\n"
          ]
        }
      ],
      "source": [
        "# DO NOT REMOVE OR MODIFY\n",
        "# Check if GPU is available and determine the device\n",
        "if torch.cuda.is_available():\n",
        "    DEVICE = 'cuda'\n",
        "    torch.cuda.manual_seed_all(42)\n",
        "else:\n",
        "    DEVICE = 'cpu'\n",
        "\n",
        "print(f'The available device is {DEVICE}')"
      ]
    },
    {
      "cell_type": "markdown",
      "id": "1b8ced2a",
      "metadata": {
        "id": "1b8ced2a"
      },
      "source": [
        "## Triplet Network"
      ]
    },
    {
      "cell_type": "code",
      "execution_count": 60,
      "id": "9e15f732",
      "metadata": {
        "id": "9e15f732"
      },
      "outputs": [],
      "source": [
        "import torch.nn.functional as F\n",
        "\n",
        "class TripletLoss(nn.Module):\n",
        "    def __init__(self, margin=2.0):\n",
        "        super(TripletLoss, self).__init__()\n",
        "        self.margin = margin\n",
        "\n",
        "    def forward(self, output1, output2, output3):\n",
        "        positive_distance = (output1 - output2).pow(2).sum(1)\n",
        "        negative_distance = (output1 - output3).pow(2).sum(1)\n",
        "        losses = F.relu(positive_distance - negative_distance + self.margin)\n",
        "        return losses.mean()"
      ]
    },
    {
      "cell_type": "code",
      "execution_count": 61,
      "id": "9daeb394",
      "metadata": {
        "id": "9daeb394"
      },
      "outputs": [],
      "source": [
        "class Lambda(nn.Module):\n",
        "    \"\"\"\n",
        "    A utility class that allows you to create a PyTorch nn.Module from an arbitrary function.\n",
        "    \"\"\"\n",
        "    def __init__(self, func):\n",
        "        super().__init__()\n",
        "        self.func = func\n",
        "\n",
        "    def forward(self, x):\n",
        "        return self.func(x)\n",
        "\n",
        "class EmbeddingNet(nn.Module):\n",
        "    \"\"\"\n",
        "    A PyTorch implementation of a Convolutional Neural Network (CNN) for feature extraction or embedding.\n",
        "\n",
        "    The network consists of three convolutional blocks each followed by a batch normalization, ReLU activation, and max pooling.\n",
        "    After the convolutional blocks, the tensor is flattened and passed through two fully connected (linear) layers.\n",
        "\n",
        "    The final output is a 10-dimensional vector which can be used as an embedding of the input.\n",
        "    \"\"\"\n",
        "    def __init__(self):\n",
        "        super(EmbeddingNet, self).__init__()\n",
        "\n",
        "        self.front_layer = nn.Sequential(\n",
        "            # Conv Layer block 1\n",
        "            nn.Conv2d(in_channels=1, out_channels=32, kernel_size=3, padding=1),\n",
        "            nn.BatchNorm2d(32),\n",
        "            nn.ReLU(inplace=True),\n",
        "            nn.Conv2d(in_channels=32, out_channels=64, kernel_size=3, padding=1),\n",
        "            nn.ReLU(inplace=True),\n",
        "            nn.MaxPool2d(kernel_size=2, stride=2),\n",
        "\n",
        "            # Conv Layer block 2\n",
        "            nn.Conv2d(in_channels=64, out_channels=128, kernel_size=3, padding=1),\n",
        "            nn.BatchNorm2d(128),\n",
        "            nn.ReLU(inplace=True),\n",
        "            nn.Conv2d(in_channels=128, out_channels=128, kernel_size=3, padding=1),\n",
        "            nn.ReLU(inplace=True),\n",
        "            nn.MaxPool2d(kernel_size=2, stride=2),\n",
        "\n",
        "\n",
        "            # Conv Layer block 3\n",
        "            nn.Conv2d(in_channels=128, out_channels=256, kernel_size=3, padding=1),\n",
        "            nn.BatchNorm2d(256),\n",
        "            nn.ReLU(inplace=True),\n",
        "            nn.Conv2d(in_channels=256, out_channels=256, kernel_size=3, padding=1),\n",
        "            nn.ReLU(inplace=True),\n",
        "            nn.MaxPool2d(kernel_size=2, stride=2),\n",
        "\n",
        "            Lambda(lambda x: x.view(x.size(0), -1)),\n",
        "\n",
        "            nn.Linear(4096, 1024),\n",
        "            nn.ReLU(inplace=True),\n",
        "            nn.Linear(1024, 512),\n",
        "            nn.ReLU(inplace=True),\n",
        "        )\n",
        "\n",
        "        self.last_layer = nn.Linear(512, 10)\n",
        "\n",
        "    def forward(self, x):\n",
        "        \"\"\"Perform forward.\"\"\"\n",
        "        # conv layers\n",
        "        x = self.front_layer(x)\n",
        "        x = self.last_layer(x)\n",
        "        return x\n",
        "\n",
        "    def get_embedding(self, x):\n",
        "        return self.forward(x)"
      ]
    },
    {
      "cell_type": "code",
      "execution_count": 66,
      "id": "bb8548be",
      "metadata": {},
      "outputs": [],
      "source": [
        "class TripletNet(nn.Module):\n",
        "    \"\"\"\n",
        "    A PyTorch implementation of a Triplet Network for learning useful data embeddings.\n",
        "\n",
        "    The network takes three inputs - an anchor, a positive of the same class as the anchor, and a negative of a different class.\n",
        "    Each of these inputs is passed through the same embedding network, and the output embeddings are returned.\n",
        "\n",
        "    The goal during training is to learn an embedding such that the distance between the anchor and positive is less than the distance between the anchor and negative.\n",
        "    \"\"\"\n",
        "    def __init__(self, embedding_net):\n",
        "        \"\"\"Initializes the TripletNet with the given embedding network.\"\"\"\n",
        "        super(TripletNet, self).__init__()\n",
        "        self.embedding_net = embedding_net\n",
        "\n",
        "    def forward(self, x1, x2, x3):\n",
        "        \"\"\"Forward pass for the TripletNet.\"\"\"\n",
        "        output1 = self.embedding_net(x1)\n",
        "        output2 = self.embedding_net(x2)\n",
        "        output3 = self.embedding_net(x3)\n",
        "        return output1, output2, output3\n",
        "\n",
        "    def get_embedding(self, x):\n",
        "        \"\"\"Returns the embeddings of the input.\"\"\"\n",
        "        return self.embedding_net(x)"
      ]
    },
    {
      "cell_type": "code",
      "execution_count": 67,
      "id": "27648d3c",
      "metadata": {},
      "outputs": [],
      "source": [
        "class TripletDataset(Dataset):\n",
        "    \"\"\"\n",
        "    A custom dataset class for creating triplets of images with their corresponding labels.\n",
        "\n",
        "    Args:\n",
        "        data_dict (dict): A dictionary containing the image data organized by alphabet and character.\n",
        "        transform (callable, optional): A function/transform that takes in an PIL image and returns a transformed version.\n",
        "\n",
        "    Attributes:\n",
        "        images (list): A list of all the images in the dataset.\n",
        "        labels (list): A list of labels corresponding to each image.\n",
        "        transform (callable): The transform function to be applied to the images.\n",
        "        encoder (LabelEncoder): An instance of the LabelEncoder class for encoding the labels.\n",
        "        triplets (list): A list of triplets of images with the anchor, positive and negative images.\n",
        "    \"\"\"\n",
        "    def __init__(self, data_dict, transform=None, device=DEVICE):\n",
        "\n",
        "        np.random.seed(42)\n",
        "\n",
        "        self.images = []\n",
        "        self.labels = []\n",
        "        self.transform = transform\n",
        "        self.encoder = LabelEncoder()\n",
        "\n",
        "        for alphabet in data_dict.keys():\n",
        "            characters = data_dict[alphabet]\n",
        "            for character in characters.keys():\n",
        "                images = characters[character]\n",
        "                self.images.extend(images)\n",
        "                self.labels.extend([f\"{alphabet} {character}\"] * len(images))\n",
        "\n",
        "        self.labels = self.encoder.fit_transform(self.labels)\n",
        "\n",
        "        # Create list with triplets of images, where the first two images are similar and the third is different\n",
        "        # Consider all the pairs of positive images and sample two negative images for each pair\n",
        "        self.triplets = []\n",
        "\n",
        "        for i in tqdm(range(len(self.images))):\n",
        "            for j in range(i+1, len(self.images)):\n",
        "                if self.labels[i] == self.labels[j]:\n",
        "                    for _ in range(2):\n",
        "                        # sample the third image\n",
        "                        index = np.random.choice(len(self.images))\n",
        "                        # If the third image is from the same class, sample another one\n",
        "                        while self.labels[index] == self.labels[i]:\n",
        "                            index = np.random.choice(len(self.images))\n",
        "                        self.triplets.append((self.images[i], self.images[j], self.images[index]))\n",
        "\n",
        "\n",
        "\n",
        "    def __len__(self):\n",
        "        \"\"\"\n",
        "        Returns the total number of triplets in the dataset.\n",
        "        \"\"\"\n",
        "        return len(self.triplets)\n",
        "\n",
        "    def __getitem__(self, idx):\n",
        "        \"\"\"\n",
        "        Returns the triplet of images at the given index.\n",
        "        \"\"\"\n",
        "        img1, img2, img3 = self.triplets[idx]\n",
        "\n",
        "        if self.transform:\n",
        "            to_pil = transforms.ToPILImage()\n",
        "            img1 = to_pil(img1)\n",
        "            img1 = self.transform(img1)\n",
        "            img2 = to_pil(img2)\n",
        "            img2 = self.transform(img2)\n",
        "            img3 = to_pil(img3)\n",
        "            img3 = self.transform(img3)\n",
        "\n",
        "        return img1, img2, img3"
      ]
    },
    {
      "cell_type": "code",
      "execution_count": 64,
      "id": "41a21254",
      "metadata": {},
      "outputs": [],
      "source": [
        "# Function to compute distance of the Triplet network\n",
        "def compute_distance_triplet(output1, output2, output3):\n",
        "    \"\"\"\n",
        "    Computes the Distance for a triplet.\n",
        "\n",
        "    The function takes as input the output embeddings of an anchor, positive, and negative example from a triplet network.\n",
        "    It computes the Euclidean distance between the anchor and positive examples (distance_positive) and between the anchor and negative examples (distance_negative).\n",
        "    It performs the difference and infince the average per batch.\n",
        "\n",
        "    Parameters:\n",
        "    output1 (torch.Tensor): The output embedding of the anchor example.\n",
        "    output2 (torch.Tensor): The output embedding of the positive example.\n",
        "    output3 (torch.Tensor): The output embedding of the negative example.\n",
        "\n",
        "    Returns:\n",
        "    float: The distance.\n",
        "    \"\"\"\n",
        "    # Compute the Euclidean distance between output1 and output2\n",
        "    distance_positive = F.pairwise_distance(output1, output2)\n",
        "\n",
        "    # Compute the Euclidean distance between output1 and output3\n",
        "    distance_negative = F.pairwise_distance(output1, output3)\n",
        "\n",
        "    # Compute the difference between positive and negative distances\n",
        "    distance = distance_negative - distance_positive\n",
        "\n",
        "    # Compute the average distance per batch\n",
        "    average_distance = torch.mean(distance)\n",
        "\n",
        "    return average_distance.item()"
      ]
    },
    {
      "cell_type": "code",
      "execution_count": 65,
      "id": "cc9d8767",
      "metadata": {},
      "outputs": [],
      "source": [
        "# Function to create Triplet dataset\n",
        "def create_triplet_dataset(data_dict, transform=None):\n",
        "    \"\"\"\n",
        "    Creates a Triplet dataset from the given data dictionary.\n",
        "    \"\"\"\n",
        "    return TripletDataset(data_dict=data_dict, transform=transform)\n",
        "\n",
        "# Function to train Triplet network\n",
        "def train_triplet_network(triplet_network, train_loader, val_loader, num_epochs=10, learning_rate=0.001, device=DEVICE):\n",
        "    \"\"\"\n",
        "    Trains a triplet network for a specified number of epochs.\n",
        "\n",
        "    The function takes as input a triplet network, training and validation data loaders, number of epochs, and learning rate.\n",
        "    It uses the Adam optimizer and a custom TripletLoss criterion.\n",
        "    For each epoch, it iterates over the training data, computes the loss and backpropagates the gradients.\n",
        "    It also computes the AUC-ROC for each batch and keeps a running total.\n",
        "    After each epoch, it evaluates the network on the validation data and computes the average loss and AUC-ROC.\n",
        "\n",
        "    Parameters:\n",
        "    triplet_network (nn.Module): The triplet network to train.\n",
        "    train_loader (DataLoader): The DataLoader for the training data.\n",
        "    val_loader (DataLoader): The DataLoader for the validation data.\n",
        "    num_epochs (int, optional): The number of epochs to train for. Default is 10.\n",
        "    learning_rate (float, optional): The learning rate for the Adam optimizer. Default is 0.001.\n",
        "\n",
        "    Returns:\n",
        "    None\n",
        "    \"\"\"\n",
        "    criterion = TripletLoss().to(device)\n",
        "    optimizer = optim.Adam(triplet_network.parameters(), lr=learning_rate)\n",
        "\n",
        "    for epoch in range(num_epochs):\n",
        "        # Training\n",
        "        progress_bar = tqdm(train_loader, desc=f\"Epoch {epoch+1}\")\n",
        "\n",
        "        triplet_network.train()\n",
        "\n",
        "        running_loss = 0.0\n",
        "        running_distance = 0.0\n",
        "        batch_count = 0\n",
        "\n",
        "        for img1, img2, img3 in progress_bar:\n",
        "            optimizer.zero_grad()\n",
        "            img1, img2, img3 = img1.to(device), img2.to(device), img3.to(device)\n",
        "            output1, output2, output3 = triplet_network(img1, img2, img3)\n",
        "            loss = criterion(output1, output2, output3)\n",
        "            loss.backward()\n",
        "            optimizer.step()\n",
        "            running_loss += loss.item()\n",
        "            distance = compute_distance_triplet(output1.detach(), output2.detach(), output3.detach())\n",
        "            running_distance += distance\n",
        "            batch_count += 1\n",
        "\n",
        "            # Update the progress bar with the current loss and distance\n",
        "            progress_bar.set_postfix({\"loss\": running_loss / batch_count, \"distance\": running_distance / batch_count})\n",
        "\n",
        "        print(f\"Epoch {epoch+1}, Loss: {running_loss/len(train_loader)}, Distance: {running_distance/len(train_loader)}\")\n",
        "\n",
        "        # Validation\n",
        "        progress_bar = tqdm(val_loader, desc=f\"Val Epoch {epoch + 1}\")\n",
        "        triplet_network.eval()\n",
        "        running_val_loss = 0.0\n",
        "        running_val_distance = 0.0\n",
        "        batch_count = 0\n",
        "\n",
        "        with torch.no_grad():\n",
        "            for img1, img2, img3 in progress_bar:\n",
        "                img1, img2, img3 = img1.to(device), img2.to(device), img3.to(device)\n",
        "                output1, output2, output3 = triplet_network(img1, img2, img3)\n",
        "                val_loss = criterion(output1, output2, output3)\n",
        "                running_val_loss += val_loss.item()\n",
        "                val_distance = compute_distance_triplet(output1.detach(), output2.detach(), output3.detach())\n",
        "                running_val_distance += val_distance\n",
        "                batch_count += 1\n",
        "\n",
        "                # Update the progress bar with the current loss and distance\n",
        "                progress_bar.set_postfix({\"val_loss\": running_val_loss / batch_count, \"val_distance\": running_val_distance / batch_count})\n",
        "\n",
        "        print(f\"Val Epoch {epoch+1}, Loss: {running_val_loss/len(val_loader)}, Distance: {running_val_distance/len(val_loader)}\")"
      ]
    },
    {
      "cell_type": "code",
      "execution_count": 22,
      "id": "83e0eac1",
      "metadata": {
        "id": "83e0eac1"
      },
      "outputs": [],
      "source": [
        "# Define preprocessing steps\n",
        "preprocess = transforms.Compose([\n",
        "    transforms.Resize([32, 32]),\n",
        "    transforms.ToTensor(),\n",
        "    transforms.Normalize(mean=[0], std=[1]),\n",
        "    transforms.Grayscale(num_output_channels=1)\n",
        "])"
      ]
    },
    {
      "cell_type": "code",
      "execution_count": 23,
      "id": "7bfb08b8",
      "metadata": {
        "id": "7bfb08b8"
      },
      "outputs": [],
      "source": [
        "# Create Triplet network\n",
        "triplet_network = TripletNet(EmbeddingNet()).to(DEVICE)"
      ]
    },
    {
      "cell_type": "code",
      "execution_count": 24,
      "id": "064a5ca0",
      "metadata": {
        "colab": {
          "base_uri": "https://localhost:8080/"
        },
        "id": "064a5ca0",
        "outputId": "f74c6fe6-4eec-48a9-f1d5-363cc6e882da"
      },
      "outputs": [
        {
          "name": "stderr",
          "output_type": "stream",
          "text": [
            "100%|██████████| 19280/19280 [00:57<00:00, 335.73it/s] "
          ]
        },
        {
          "name": "stdout",
          "output_type": "stream",
          "text": [
            "Num of training triplets: 293056\n",
            "Num of validation triplets: 73264\n"
          ]
        },
        {
          "name": "stderr",
          "output_type": "stream",
          "text": [
            "\n"
          ]
        }
      ],
      "source": [
        "#  Create Triplet dataset\n",
        "triplet_dataset = create_triplet_dataset(train_data, transform=preprocess)\n",
        "\n",
        "# Define the size of the validation set\n",
        "val_size = int(0.2 * len(triplet_dataset))  # 20% of the dataset\n",
        "train_size = len(triplet_dataset) - val_size\n",
        "\n",
        "# Create train and validation sets\n",
        "generator = torch.Generator().manual_seed(42)\n",
        "triplet_train_dataset, triplet_val_dataset = random_split(triplet_dataset, [train_size, val_size], generator=generator)\n",
        "\n",
        "# Create data loaders\n",
        "train_loader = DataLoader(triplet_train_dataset, batch_size=32, shuffle=True)\n",
        "val_loader = DataLoader(triplet_val_dataset, batch_size=32, shuffle=False)\n",
        "\n",
        "print(f\"Num of training triplets: {len(triplet_train_dataset)}\")\n",
        "print(f\"Num of validation triplets: {len(triplet_val_dataset)}\")"
      ]
    },
    {
      "cell_type": "code",
      "execution_count": 25,
      "id": "8d0f4ea5",
      "metadata": {
        "colab": {
          "base_uri": "https://localhost:8080/",
          "height": 402
        },
        "id": "8d0f4ea5",
        "outputId": "e9a50072-8eef-41d8-e138-1d8f2c8ba7d3"
      },
      "outputs": [
        {
          "data": {
            "image/png": "[encoded data removed]",
            "text/plain": [
              "<Figure size 1500x600 with 3 Axes>"
            ]
          },
          "metadata": {},
          "output_type": "display_data"
        }
      ],
      "source": [
        "def plot_image(img):\n",
        "    if img.shape[0] == 1:\n",
        "        # Grayscale image\n",
        "        plt.imshow(img.squeeze(0), cmap='gray')\n",
        "    else:\n",
        "        # RGB image\n",
        "        plt.imshow(img.permute(1, 2, 0))\n",
        "\n",
        "# Plot some random pairs of images from the validation set\n",
        "plt.figure(figsize=(15, 6))\n",
        "\n",
        "random_idx = np.random.choice(len(triplet_val_dataset))\n",
        "img1, img2, img3 = triplet_val_dataset[random_idx]\n",
        "plt.subplot(1, 3, 1)\n",
        "plot_image(img1)\n",
        "plt.subplot(1, 3, 2)\n",
        "plot_image(img2)\n",
        "plt.subplot(1, 3, 3)\n",
        "plot_image(img3)"
      ]
    },
    {
      "cell_type": "code",
      "execution_count": null,
      "id": "8a3cafd0",
      "metadata": {},
      "outputs": [],
      "source": [
        "# Train the Triplet network\n",
        "if TRAIN_TRIPLET:\n",
        "    train_triplet_network(triplet_network, train_loader, val_loader, num_epochs=5, learning_rate=0.001)\n",
        "    # Save the trained Siamese network\n",
        "    torch.save(triplet_network.state_dict(), main_dir + 'triplet_network.pth')"
      ]
    },
    {
      "cell_type": "code",
      "execution_count": 19,
      "id": "X5J9tRpHHmVw",
      "metadata": {
        "id": "X5J9tRpHHmVw"
      },
      "outputs": [
        {
          "name": "stderr",
          "output_type": "stream",
          "text": [
            "Epoch 1: 100%|██████████| 9158/9158 [14:43<00:00, 10.37it/s, loss=0.019, distance=3.94] \n"
          ]
        },
        {
          "name": "stdout",
          "output_type": "stream",
          "text": [
            "Epoch 1, Loss: 0.018994277027492755, Distance: 3.944126049929192\n"
          ]
        },
        {
          "name": "stderr",
          "output_type": "stream",
          "text": [
            "Val Epoch 1: 100%|██████████| 2290/2290 [02:10<00:00, 17.58it/s, val_loss=0.0216, val_distance=3.88]\n"
          ]
        },
        {
          "name": "stdout",
          "output_type": "stream",
          "text": [
            "Val Epoch 1, Loss: 0.021552348660719967, Distance: 3.8816938938532335\n"
          ]
        },
        {
          "name": "stderr",
          "output_type": "stream",
          "text": [
            "Epoch 2: 100%|██████████| 9158/9158 [14:44<00:00, 10.35it/s, loss=0.015, distance=4.13] \n"
          ]
        },
        {
          "name": "stdout",
          "output_type": "stream",
          "text": [
            "Epoch 2, Loss: 0.015038420147030445, Distance: 4.1256101715640225\n"
          ]
        },
        {
          "name": "stderr",
          "output_type": "stream",
          "text": [
            "Val Epoch 2: 100%|██████████| 2290/2290 [02:09<00:00, 17.72it/s, val_loss=0.0207, val_distance=4.27]\n"
          ]
        },
        {
          "name": "stdout",
          "output_type": "stream",
          "text": [
            "Val Epoch 2, Loss: 0.02072705398740727, Distance: 4.2706890317550394\n"
          ]
        },
        {
          "name": "stderr",
          "output_type": "stream",
          "text": [
            "Epoch 3: 100%|██████████| 9158/9158 [14:45<00:00, 10.34it/s, loss=0.0133, distance=4.32]\n"
          ]
        },
        {
          "name": "stdout",
          "output_type": "stream",
          "text": [
            "Epoch 3, Loss: 0.013278773538141851, Distance: 4.324746114870793\n"
          ]
        },
        {
          "name": "stderr",
          "output_type": "stream",
          "text": [
            "Val Epoch 3: 100%|██████████| 2290/2290 [02:10<00:00, 17.60it/s, val_loss=0.0189, val_distance=4.14]\n"
          ]
        },
        {
          "name": "stdout",
          "output_type": "stream",
          "text": [
            "Val Epoch 3, Loss: 0.018943897556659955, Distance: 4.142739824748976\n"
          ]
        },
        {
          "name": "stderr",
          "output_type": "stream",
          "text": [
            "Epoch 4: 100%|██████████| 9158/9158 [14:44<00:00, 10.35it/s, loss=0.0119, distance=4.42]\n"
          ]
        },
        {
          "name": "stdout",
          "output_type": "stream",
          "text": [
            "Epoch 4, Loss: 0.011896122646031746, Distance: 4.419248517670208\n"
          ]
        },
        {
          "name": "stderr",
          "output_type": "stream",
          "text": [
            "Val Epoch 4: 100%|██████████| 2290/2290 [02:08<00:00, 17.77it/s, val_loss=0.0231, val_distance=4.75]\n"
          ]
        },
        {
          "name": "stdout",
          "output_type": "stream",
          "text": [
            "Val Epoch 4, Loss: 0.023148009002078567, Distance: 4.746227216095903\n"
          ]
        },
        {
          "name": "stderr",
          "output_type": "stream",
          "text": [
            "Epoch 5: 100%|██████████| 9158/9158 [14:44<00:00, 10.36it/s, loss=0.0112, distance=4.57] \n"
          ]
        },
        {
          "name": "stdout",
          "output_type": "stream",
          "text": [
            "Epoch 5, Loss: 0.011158566974423993, Distance: 4.566918569247414\n"
          ]
        },
        {
          "name": "stderr",
          "output_type": "stream",
          "text": [
            "Val Epoch 5: 100%|██████████| 2290/2290 [02:08<00:00, 17.76it/s, val_loss=0.0218, val_distance=4.54]"
          ]
        },
        {
          "name": "stdout",
          "output_type": "stream",
          "text": [
            "Val Epoch 5, Loss: 0.021794235864125485, Distance: 4.536407415835618\n"
          ]
        },
        {
          "name": "stderr",
          "output_type": "stream",
          "text": [
            "\n"
          ]
        }
      ],
      "source": [
        "# Train the Triplet network\n",
        "if TRAIN_TRIPLET:\n",
        "    train_triplet_network(triplet_network, train_loader, val_loader, num_epochs=5, learning_rate=0.0005)\n",
        "    # Save the trained Siamese network\n",
        "    torch.save(triplet_network.state_dict(), main_dir + 'triplet_network_1.pth')"
      ]
    },
    {
      "cell_type": "code",
      "execution_count": 20,
      "id": "dgQWrGlfHqIh",
      "metadata": {
        "id": "dgQWrGlfHqIh"
      },
      "outputs": [
        {
          "name": "stderr",
          "output_type": "stream",
          "text": [
            "Epoch 1: 100%|██████████| 9158/9158 [14:43<00:00, 10.37it/s, loss=0.00517, distance=4.83]\n"
          ]
        },
        {
          "name": "stdout",
          "output_type": "stream",
          "text": [
            "Epoch 1, Loss: 0.005165534116755695, Distance: 4.828724085724908\n"
          ]
        },
        {
          "name": "stderr",
          "output_type": "stream",
          "text": [
            "Val Epoch 1: 100%|██████████| 2290/2290 [02:07<00:00, 18.00it/s, val_loss=0.0139, val_distance=5.05]\n"
          ]
        },
        {
          "name": "stdout",
          "output_type": "stream",
          "text": [
            "Val Epoch 1, Loss: 0.013851133413515238, Distance: 5.054863485290494\n"
          ]
        },
        {
          "name": "stderr",
          "output_type": "stream",
          "text": [
            "Epoch 2: 100%|██████████| 9158/9158 [14:43<00:00, 10.36it/s, loss=0.00295, distance=5.23]\n"
          ]
        },
        {
          "name": "stdout",
          "output_type": "stream",
          "text": [
            "Epoch 2, Loss: 0.0029520515086453513, Distance: 5.228052231077806\n"
          ]
        },
        {
          "name": "stderr",
          "output_type": "stream",
          "text": [
            "Val Epoch 2: 100%|██████████| 2290/2290 [02:10<00:00, 17.58it/s, val_loss=0.0127, val_distance=5.42]\n"
          ]
        },
        {
          "name": "stdout",
          "output_type": "stream",
          "text": [
            "Val Epoch 2, Loss: 0.01274729447528785, Distance: 5.41941104018532\n"
          ]
        },
        {
          "name": "stderr",
          "output_type": "stream",
          "text": [
            "Epoch 3: 100%|██████████| 9158/9158 [14:42<00:00, 10.38it/s, loss=0.00213, distance=5.44]\n"
          ]
        },
        {
          "name": "stdout",
          "output_type": "stream",
          "text": [
            "Epoch 3, Loss: 0.002127966222189144, Distance: 5.437938974736221\n"
          ]
        },
        {
          "name": "stderr",
          "output_type": "stream",
          "text": [
            "Val Epoch 3: 100%|██████████| 2290/2290 [02:10<00:00, 17.55it/s, val_loss=0.0129, val_distance=5.59]\n"
          ]
        },
        {
          "name": "stdout",
          "output_type": "stream",
          "text": [
            "Val Epoch 3, Loss: 0.012914897431517792, Distance: 5.592799243968647\n"
          ]
        },
        {
          "name": "stderr",
          "output_type": "stream",
          "text": [
            "Epoch 4: 100%|██████████| 9158/9158 [14:43<00:00, 10.37it/s, loss=0.00166, distance=5.75]\n"
          ]
        },
        {
          "name": "stdout",
          "output_type": "stream",
          "text": [
            "Epoch 4, Loss: 0.0016561932320787699, Distance: 5.749488822079351\n"
          ]
        },
        {
          "name": "stderr",
          "output_type": "stream",
          "text": [
            "Val Epoch 4: 100%|██████████| 2290/2290 [02:09<00:00, 17.66it/s, val_loss=0.0139, val_distance=6.06]\n"
          ]
        },
        {
          "name": "stdout",
          "output_type": "stream",
          "text": [
            "Val Epoch 4, Loss: 0.013905358000548646, Distance: 6.058741615328726\n"
          ]
        },
        {
          "name": "stderr",
          "output_type": "stream",
          "text": [
            "Epoch 5: 100%|██████████| 9158/9158 [14:43<00:00, 10.37it/s, loss=0.00161, distance=6.11] \n"
          ]
        },
        {
          "name": "stdout",
          "output_type": "stream",
          "text": [
            "Epoch 5, Loss: 0.0016144504597755103, Distance: 6.11093638041676\n"
          ]
        },
        {
          "name": "stderr",
          "output_type": "stream",
          "text": [
            "Val Epoch 5: 100%|██████████| 2290/2290 [02:10<00:00, 17.50it/s, val_loss=0.0135, val_distance=6.19]"
          ]
        },
        {
          "name": "stdout",
          "output_type": "stream",
          "text": [
            "Val Epoch 5, Loss: 0.013460605474408537, Distance: 6.1870257163151905\n"
          ]
        },
        {
          "name": "stderr",
          "output_type": "stream",
          "text": [
            "\n"
          ]
        }
      ],
      "source": [
        "# Train the Triplet network\n",
        "if TRAIN_TRIPLET:\n",
        "    train_triplet_network(triplet_network, train_loader, val_loader, num_epochs=5, learning_rate=0.0001)\n",
        "    # Save the trained Siamese network\n",
        "    torch.save(triplet_network.state_dict(), main_dir + 'triplet_network_2.pth')"
      ]
    },
    {
      "cell_type": "code",
      "execution_count": 120,
      "id": "84094787",
      "metadata": {
        "id": "84094787"
      },
      "outputs": [
        {
          "data": {
            "text/plain": [
              "<All keys matched successfully>"
            ]
          },
          "execution_count": 120,
          "metadata": {},
          "output_type": "execute_result"
        }
      ],
      "source": [
        "# Load the trained Triplet Network\n",
        "triplet_network = TripletNet(EmbeddingNet()).to(DEVICE)\n",
        "triplet_network.load_state_dict(torch.load(main_dir + 'triplet_network_2.pth'))"
      ]
    },
    {
      "cell_type": "code",
      "execution_count": 121,
      "id": "fcb60914",
      "metadata": {
        "id": "fcb60914"
      },
      "outputs": [
        {
          "data": {
            "image/png": "[encoded data removed]",
            "text/plain": [
              "<Figure size 640x480 with 3 Axes>"
            ]
          },
          "metadata": {},
          "output_type": "display_data"
        },
        {
          "data": {
            "image/png": "[encoded data removed]",
            "text/plain": [
              "<Figure size 640x480 with 3 Axes>"
            ]
          },
          "metadata": {},
          "output_type": "display_data"
        },
        {
          "data": {
            "image/png": "[encoded data removed]",
            "text/plain": [
              "<Figure size 640x480 with 3 Axes>"
            ]
          },
          "metadata": {},
          "output_type": "display_data"
        },
        {
          "data": {
            "image/png": "[encoded data removed]",
            "text/plain": [
              "<Figure size 640x480 with 3 Axes>"
            ]
          },
          "metadata": {},
          "output_type": "display_data"
        },
        {
          "data": {
            "image/png": "[encoded data removed]",
            "text/plain": [
              "<Figure size 640x480 with 3 Axes>"
            ]
          },
          "metadata": {},
          "output_type": "display_data"
        }
      ],
      "source": [
        "# Visualize predictions\n",
        "import matplotlib.pyplot as plt\n",
        "import random\n",
        "import itertools\n",
        "\n",
        "# Test the trained Siamese network on some random pairs of images\n",
        "def visualize_predictions_triplet_network(triplet_network, val_loader, num_pairs=5, device=DEVICE):\n",
        "    triplet_network.eval()\n",
        "    for _ in range(num_pairs):\n",
        "        # Create a new iterator for the validation loader\n",
        "        dataiter = iter(val_loader)\n",
        "        # Select a random batch\n",
        "        batch_idx = random.randint(0, len(val_loader)-1)\n",
        "        # Reset the iterator and advance to the random batch\n",
        "        dataiter = itertools.islice(dataiter, batch_idx, None)\n",
        "        img1, img2, img3 = next(dataiter)\n",
        "\n",
        "        img1, img2, img3 = img1.to(device), img2.to(device), img3.to(device)\n",
        "        output1, output2, output3 = triplet_network(img1, img2, img3)\n",
        "\n",
        "        distance_positive = F.pairwise_distance(output1, output2)\n",
        "        distance_negative = F.pairwise_distance(output1, output3)\n",
        "\n",
        "        fig, (ax1, ax2, ax3) = plt.subplots(1, 3)\n",
        "        ax1.imshow(img1[0].cpu().numpy().transpose((1, 2, 0)))\n",
        "        ax2.imshow(img2[0].cpu().numpy().transpose((1, 2, 0)))\n",
        "        ax3.imshow(img3[0].cpu().numpy().transpose((1, 2, 0)))\n",
        "        fig.suptitle(f\"Positive distance: {torch.mean(distance_positive).item()}, Negative distance: {torch.mean(distance_negative).item()}\")\n",
        "        plt.show()\n",
        "\n",
        "visualize_predictions_triplet_network(triplet_network, val_loader)"
      ]
    },
    {
      "cell_type": "code",
      "execution_count": 123,
      "id": "2390ca0d",
      "metadata": {
        "id": "2390ca0d"
      },
      "outputs": [],
      "source": [
        "# Function to preprocess an image\n",
        "def preprocess_image(image, preprocess, toPILImage):\n",
        "    \"\"\"\n",
        "    Preprocesses the image for the network.\n",
        "    \n",
        "    :param image: Input image.\n",
        "    :param preprocess: Preprocessing transformations.\n",
        "    :param toPILImage: Transform to convert tensor to PIL image.\n",
        "    :return: Preprocessed image tensor.\n",
        "    \"\"\"\n",
        "    image = toPILImage(image)\n",
        "    return preprocess(image).unsqueeze(0)\n",
        "\n",
        "# Function to compute embeddings for a list of images\n",
        "def compute_embeddings(images, triplet_network, preprocess, toPILImage, device):\n",
        "    \"\"\"\n",
        "    Computes embeddings for a list of images.\n",
        "    \n",
        "    :param images: List of images.\n",
        "    :param triplet_network: The network to compute embeddings.\n",
        "    :param preprocess: Preprocessing transformations.\n",
        "    :param toPILImage: Transform to convert tensor to PIL image.\n",
        "    :param device: Device to run the network on.\n",
        "    :return: Tensor of embeddings.\n",
        "    \"\"\"\n",
        "    embeddings = []\n",
        "    for image in images:\n",
        "        image = preprocess_image(image, preprocess, toPILImage).to(device)\n",
        "        embedding = triplet_network.get_embedding(image)\n",
        "        embeddings.append(embedding)\n",
        "    return torch.cat(embeddings)\n",
        "\n",
        "# Evaluation method\n",
        "def evaluate_triplet_network(triplet_network, data_dict_test, preprocess, K=1, print_alphabet_accuracy=True, device=DEVICE):\n",
        "    \"\"\"\n",
        "    Evaluates the Triplet network on the test data.\n",
        "\n",
        "    :param triplet_network: The trained Triplet network.\n",
        "    :param data_dict_test: Dictionary with test data. Contains keys 'annotated_images', \n",
        "                           'annotated_images_labels', 'unseen_images', 'unseen_images_labels'.\n",
        "    :param K: Number of most similar images to consider.\n",
        "    :param print_alphabet_accuracy: Flag to print accuracy for each alphabet.\n",
        "    :param device: Device to perform computations on ('cuda' or 'cpu').\n",
        "    :return: Overall accuracy of the network on the test data.\n",
        "    \"\"\"\n",
        "    triplet_network.eval()\n",
        "    correct_predictions = 0\n",
        "    num_images = 0\n",
        "\n",
        "    toPILImage = transforms.ToPILImage()\n",
        "\n",
        "    with torch.no_grad():\n",
        "        for alphabet in tqdm(data_dict_test['annotated_images'].keys()):\n",
        "            correct_predictions_alphabet = 0\n",
        "\n",
        "            # Preprocess and compute embeddings for annotated images\n",
        "            annotated_images = data_dict_test['annotated_images'][alphabet]\n",
        "            annotated_labels = data_dict_test['annotated_images_labels'][alphabet]\n",
        "            annotated_embeddings = compute_embeddings(annotated_images, triplet_network, preprocess, toPILImage, device)\n",
        "\n",
        "            unseen_images = data_dict_test['unseen_images'][alphabet]\n",
        "            unseen_labels = data_dict_test['unseen_images_labels'][alphabet]\n",
        "\n",
        "            for i, unseen_image in enumerate(unseen_images):\n",
        "                # Preprocess and compute embedding for unseen image\n",
        "                embedding_unseen = compute_embeddings([unseen_image], triplet_network, preprocess, toPILImage, device)\n",
        "\n",
        "                # Compute distances\n",
        "                distances = F.pairwise_distance(embedding_unseen, annotated_embeddings)\n",
        "                distances = distances.cpu().numpy()\n",
        "\n",
        "                # Get the indices of the K smallest distances\n",
        "                most_similar_indices = np.argsort(distances)[:K]\n",
        "                # Get the corresponding labels\n",
        "                most_similar_labels = [annotated_labels[idx] for idx in most_similar_indices]\n",
        "\n",
        "                # Get the actual label of the unseen image\n",
        "                actual_label = unseen_labels[i]\n",
        "\n",
        "                if actual_label in most_similar_labels:\n",
        "                    correct_predictions += 1\n",
        "                    correct_predictions_alphabet += 1\n",
        "                num_images += 1\n",
        "\n",
        "            accuracy_alphabet = correct_predictions_alphabet / len(unseen_images)\n",
        "            if print_alphabet_accuracy:\n",
        "                print(f\"Accuracy for alphabet {alphabet}: {accuracy_alphabet:.4f}\")\n",
        "\n",
        "    accuracy = correct_predictions / num_images\n",
        "    return accuracy\n"
      ]
    },
    {
      "cell_type": "markdown",
      "id": "9c25093f",
      "metadata": {
        "id": "9c25093f"
      },
      "source": [
        "## Testing"
      ]
    },
    {
      "cell_type": "code",
      "execution_count": 124,
      "id": "f82021775a0a6fbf",
      "metadata": {
        "id": "f82021775a0a6fbf"
      },
      "outputs": [
        {
          "name": "stdout",
          "output_type": "stream",
          "text": [
            "dict_keys(['annotated_images', 'annotated_images_labels', 'unseen_images', 'unseen_images_labels'])\n"
          ]
        }
      ],
      "source": [
        "# load the test data:\n",
        "\n",
        "data_dict_test = load_data(main_dir + 'data/test_data_task1.pkl')\n",
        "# keys are 'annotated_images', 'annotated_images_labels', 'unseen_images', 'unseen_images_labels'.\n",
        "# These keys correspond to the annotated images with known labels for each test alphabet (the sets A);\n",
        "# labels of the images with known labels for each test alphabet;\n",
        "# to-be-labeled unseen images for each test alphabet (sets U);\n",
        "# and labels of the to-be-labeled unseen images for each alphabet, respectively.\n",
        "# For each alphabet, the labels of the unseen images should be predicted by the model.\n",
        "# The true labels of the unseen images can only be used to calculate evaluation metrics.\n",
        "print(data_dict_test.keys())\n"
      ]
    },
    {
      "cell_type": "code",
      "execution_count": 125,
      "id": "eedf16c955d94af7",
      "metadata": {
        "id": "eedf16c955d94af7"
      },
      "outputs": [
        {
          "name": "stdout",
          "output_type": "stream",
          "text": [
            "Shape of Manipuri annotated images: torch.Size([40, 1, 105, 105])\n",
            "Number of Manipuri annotated labels: 40\n",
            "Shape of Manipuri unseen images: torch.Size([760, 1, 105, 105])\n",
            "Number of Manipuri unseen labels: 760. Use the unseen labels only for evaluating your model!\n"
          ]
        }
      ],
      "source": [
        "# example: let's get some annotated images and their labels for an alphabet in the test data:\n",
        "\n",
        "alphabets_test = list(data_dict_test['annotated_images'].keys())\n",
        "alphabet_id = np.random.randint(0, len(alphabets_test))\n",
        "alphabet = alphabets_test[alphabet_id]\n",
        "\n",
        "alphabet_annotated = data_dict_test['annotated_images'][alphabet]  # a tensor of shape (num_images, 1, height, width)\n",
        "print(f'Shape of {alphabet} annotated images:', alphabet_annotated.shape)\n",
        "\n",
        "alphabet_annotated_labels = data_dict_test['annotated_images_labels'][alphabet]  # a list of length num_images\n",
        "print(f'Number of {alphabet} annotated labels:', len(alphabet_annotated_labels))  # equals num_images\n",
        "\n",
        "alphabet_unseen = data_dict_test['unseen_images'][alphabet]  # a tensor of shape (num_images, 1, height, width)\n",
        "print(f'Shape of {alphabet} unseen images:', alphabet_unseen.shape)\n",
        "\n",
        "alphabet_unseen_labels = data_dict_test['unseen_images_labels'][alphabet]  # a list of length num_images\n",
        "print(f'Number of {alphabet} unseen labels: {len(alphabet_unseen_labels)}. Use the unseen labels only for evaluating your model!')  # equals num_images"
      ]
    },
    {
      "cell_type": "code",
      "execution_count": 25,
      "id": "301b15cf",
      "metadata": {
        "id": "301b15cf"
      },
      "outputs": [
        {
          "data": {
            "text/plain": [
              "30"
            ]
          },
          "execution_count": 25,
          "metadata": {},
          "output_type": "execute_result"
        }
      ],
      "source": [
        "num_classes_test = len(set(alphabet_annotated_labels))\n",
        "num_classes_test"
      ]
    },
    {
      "cell_type": "code",
      "execution_count": 28,
      "id": "6428979f",
      "metadata": {
        "id": "6428979f"
      },
      "outputs": [
        {
          "data": {
            "text/plain": [
              "torch.Size([30, 1, 105, 105])"
            ]
          },
          "execution_count": 28,
          "metadata": {},
          "output_type": "execute_result"
        }
      ],
      "source": [
        "alphabet_annotated.shape"
      ]
    },
    {
      "cell_type": "markdown",
      "id": "a57134c8",
      "metadata": {
        "id": "a57134c8"
      },
      "source": [
        "### Evaluate Triplet Network"
      ]
    },
    {
      "cell_type": "code",
      "execution_count": 126,
      "id": "9f507698",
      "metadata": {},
      "outputs": [],
      "source": [
        "print_alphabet_accuracy = True"
      ]
    },
    {
      "cell_type": "code",
      "execution_count": 127,
      "id": "e9967348",
      "metadata": {
        "id": "e9967348"
      },
      "outputs": [
        {
          "name": "stderr",
          "output_type": "stream",
          "text": [
            "  5%|▌         | 1/20 [00:01<00:29,  1.53s/it]"
          ]
        },
        {
          "name": "stdout",
          "output_type": "stream",
          "text": [
            "Accuracy for alphabet Angelic: 0.7895\n"
          ]
        },
        {
          "name": "stderr",
          "output_type": "stream",
          "text": [
            " 10%|█         | 2/20 [00:03<00:30,  1.70s/it]"
          ]
        },
        {
          "name": "stdout",
          "output_type": "stream",
          "text": [
            "Accuracy for alphabet Atemayar_Qelisayer: 0.6478\n"
          ]
        },
        {
          "name": "stderr",
          "output_type": "stream",
          "text": [
            " 15%|█▌        | 3/20 [00:04<00:27,  1.63s/it]"
          ]
        },
        {
          "name": "stdout",
          "output_type": "stream",
          "text": [
            "Accuracy for alphabet Atlantean: 0.6984\n"
          ]
        },
        {
          "name": "stderr",
          "output_type": "stream",
          "text": [
            " 20%|██        | 4/20 [00:06<00:25,  1.57s/it]"
          ]
        },
        {
          "name": "stdout",
          "output_type": "stream",
          "text": [
            "Accuracy for alphabet Aurek-Besh: 0.8320\n"
          ]
        },
        {
          "name": "stderr",
          "output_type": "stream",
          "text": [
            " 25%|██▌       | 5/20 [00:07<00:23,  1.56s/it]"
          ]
        },
        {
          "name": "stdout",
          "output_type": "stream",
          "text": [
            "Accuracy for alphabet Avesta: 0.7591\n"
          ]
        },
        {
          "name": "stderr",
          "output_type": "stream",
          "text": [
            " 30%|███       | 6/20 [00:09<00:21,  1.53s/it]"
          ]
        },
        {
          "name": "stdout",
          "output_type": "stream",
          "text": [
            "Accuracy for alphabet Ge_ez: 0.7085\n"
          ]
        },
        {
          "name": "stderr",
          "output_type": "stream",
          "text": [
            " 35%|███▌      | 7/20 [00:12<00:25,  1.93s/it]"
          ]
        },
        {
          "name": "stdout",
          "output_type": "stream",
          "text": [
            "Accuracy for alphabet Glagolitic: 0.6725\n"
          ]
        },
        {
          "name": "stderr",
          "output_type": "stream",
          "text": [
            " 40%|████      | 8/20 [00:14<00:26,  2.21s/it]"
          ]
        },
        {
          "name": "stdout",
          "output_type": "stream",
          "text": [
            "Accuracy for alphabet Gurmukhi: 0.6058\n"
          ]
        },
        {
          "name": "stderr",
          "output_type": "stream",
          "text": [
            " 45%|████▌     | 9/20 [00:17<00:24,  2.26s/it]"
          ]
        },
        {
          "name": "stdout",
          "output_type": "stream",
          "text": [
            "Accuracy for alphabet Kannada: 0.5725\n"
          ]
        },
        {
          "name": "stderr",
          "output_type": "stream",
          "text": [
            " 50%|█████     | 10/20 [00:19<00:21,  2.13s/it]"
          ]
        },
        {
          "name": "stdout",
          "output_type": "stream",
          "text": [
            "Accuracy for alphabet Keble: 0.7814\n"
          ]
        },
        {
          "name": "stderr",
          "output_type": "stream",
          "text": [
            " 55%|█████▌    | 11/20 [00:22<00:21,  2.38s/it]"
          ]
        },
        {
          "name": "stdout",
          "output_type": "stream",
          "text": [
            "Accuracy for alphabet Malayalam: 0.6047\n"
          ]
        },
        {
          "name": "stderr",
          "output_type": "stream",
          "text": [
            " 60%|██████    | 12/20 [00:24<00:18,  2.34s/it]"
          ]
        },
        {
          "name": "stdout",
          "output_type": "stream",
          "text": [
            "Accuracy for alphabet Manipuri: 0.5645\n"
          ]
        },
        {
          "name": "stderr",
          "output_type": "stream",
          "text": [
            " 65%|██████▌   | 13/20 [00:26<00:15,  2.17s/it]"
          ]
        },
        {
          "name": "stdout",
          "output_type": "stream",
          "text": [
            "Accuracy for alphabet Mongolian: 0.7421\n"
          ]
        },
        {
          "name": "stderr",
          "output_type": "stream",
          "text": [
            " 70%|███████   | 14/20 [00:28<00:14,  2.36s/it]"
          ]
        },
        {
          "name": "stdout",
          "output_type": "stream",
          "text": [
            "Accuracy for alphabet Old_Church_Slavonic_(Cyrillic): 0.8117\n"
          ]
        },
        {
          "name": "stderr",
          "output_type": "stream",
          "text": [
            " 75%|███████▌  | 15/20 [00:31<00:12,  2.42s/it]"
          ]
        },
        {
          "name": "stdout",
          "output_type": "stream",
          "text": [
            "Accuracy for alphabet Oriya: 0.4817\n"
          ]
        },
        {
          "name": "stderr",
          "output_type": "stream",
          "text": [
            " 80%|████████  | 16/20 [00:33<00:08,  2.15s/it]"
          ]
        },
        {
          "name": "stdout",
          "output_type": "stream",
          "text": [
            "Accuracy for alphabet Sylheti: 0.4793\n"
          ]
        },
        {
          "name": "stderr",
          "output_type": "stream",
          "text": [
            " 85%|████████▌ | 17/20 [00:34<00:05,  1.87s/it]"
          ]
        },
        {
          "name": "stdout",
          "output_type": "stream",
          "text": [
            "Accuracy for alphabet Syriac_(Serto): 0.6339\n"
          ]
        },
        {
          "name": "stderr",
          "output_type": "stream",
          "text": [
            " 90%|█████████ | 18/20 [00:35<00:03,  1.73s/it]"
          ]
        },
        {
          "name": "stdout",
          "output_type": "stream",
          "text": [
            "Accuracy for alphabet Tengwar: 0.6863\n"
          ]
        },
        {
          "name": "stderr",
          "output_type": "stream",
          "text": [
            " 95%|█████████▌| 19/20 [00:38<00:01,  1.96s/it]"
          ]
        },
        {
          "name": "stdout",
          "output_type": "stream",
          "text": [
            "Accuracy for alphabet Tibetan: 0.7080\n"
          ]
        },
        {
          "name": "stderr",
          "output_type": "stream",
          "text": [
            "100%|██████████| 20/20 [00:39<00:00,  1.98s/it]\n"
          ]
        },
        {
          "name": "stdout",
          "output_type": "stream",
          "text": [
            "Accuracy for alphabet ULOG: 0.3543\n"
          ]
        },
        {
          "name": "stderr",
          "output_type": "stream",
          "text": [
            "  5%|▌         | 1/20 [00:01<00:20,  1.11s/it]"
          ]
        },
        {
          "name": "stdout",
          "output_type": "stream",
          "text": [
            "Accuracy for alphabet Angelic: 0.9211\n"
          ]
        },
        {
          "name": "stderr",
          "output_type": "stream",
          "text": [
            " 10%|█         | 2/20 [00:02<00:24,  1.38s/it]"
          ]
        },
        {
          "name": "stdout",
          "output_type": "stream",
          "text": [
            "Accuracy for alphabet Atemayar_Qelisayer: 0.8057\n"
          ]
        },
        {
          "name": "stderr",
          "output_type": "stream",
          "text": [
            " 15%|█▌        | 3/20 [00:04<00:23,  1.40s/it]"
          ]
        },
        {
          "name": "stdout",
          "output_type": "stream",
          "text": [
            "Accuracy for alphabet Atlantean: 0.8583\n"
          ]
        },
        {
          "name": "stderr",
          "output_type": "stream",
          "text": [
            " 20%|██        | 4/20 [00:05<00:22,  1.41s/it]"
          ]
        },
        {
          "name": "stdout",
          "output_type": "stream",
          "text": [
            "Accuracy for alphabet Aurek-Besh: 0.9190\n"
          ]
        },
        {
          "name": "stderr",
          "output_type": "stream",
          "text": [
            " 25%|██▌       | 5/20 [00:07<00:21,  1.45s/it]"
          ]
        },
        {
          "name": "stdout",
          "output_type": "stream",
          "text": [
            "Accuracy for alphabet Avesta: 0.9332\n"
          ]
        },
        {
          "name": "stderr",
          "output_type": "stream",
          "text": [
            " 30%|███       | 6/20 [00:08<00:20,  1.45s/it]"
          ]
        },
        {
          "name": "stdout",
          "output_type": "stream",
          "text": [
            "Accuracy for alphabet Ge_ez: 0.8644\n"
          ]
        },
        {
          "name": "stderr",
          "output_type": "stream",
          "text": [
            " 35%|███▌      | 7/20 [00:11<00:23,  1.80s/it]"
          ]
        },
        {
          "name": "stdout",
          "output_type": "stream",
          "text": [
            "Accuracy for alphabet Glagolitic: 0.7895\n"
          ]
        },
        {
          "name": "stderr",
          "output_type": "stream",
          "text": [
            " 40%|████      | 8/20 [00:13<00:24,  2.06s/it]"
          ]
        },
        {
          "name": "stdout",
          "output_type": "stream",
          "text": [
            "Accuracy for alphabet Gurmukhi: 0.7556\n"
          ]
        },
        {
          "name": "stderr",
          "output_type": "stream",
          "text": [
            " 45%|████▌     | 9/20 [00:15<00:23,  2.12s/it]"
          ]
        },
        {
          "name": "stdout",
          "output_type": "stream",
          "text": [
            "Accuracy for alphabet Kannada: 0.7445\n"
          ]
        },
        {
          "name": "stderr",
          "output_type": "stream",
          "text": [
            " 50%|█████     | 10/20 [00:17<00:19,  1.92s/it]"
          ]
        },
        {
          "name": "stdout",
          "output_type": "stream",
          "text": [
            "Accuracy for alphabet Keble: 0.8988\n"
          ]
        },
        {
          "name": "stderr",
          "output_type": "stream",
          "text": [
            " 55%|█████▌    | 11/20 [00:20<00:19,  2.17s/it]"
          ]
        },
        {
          "name": "stdout",
          "output_type": "stream",
          "text": [
            "Accuracy for alphabet Malayalam: 0.7604\n"
          ]
        },
        {
          "name": "stderr",
          "output_type": "stream",
          "text": [
            " 60%|██████    | 12/20 [00:22<00:17,  2.22s/it]"
          ]
        },
        {
          "name": "stdout",
          "output_type": "stream",
          "text": [
            "Accuracy for alphabet Manipuri: 0.7276\n"
          ]
        },
        {
          "name": "stderr",
          "output_type": "stream",
          "text": [
            " 65%|██████▌   | 13/20 [00:24<00:14,  2.03s/it]"
          ]
        },
        {
          "name": "stdout",
          "output_type": "stream",
          "text": [
            "Accuracy for alphabet Mongolian: 0.8860\n"
          ]
        },
        {
          "name": "stderr",
          "output_type": "stream",
          "text": [
            " 70%|███████   | 14/20 [00:26<00:13,  2.28s/it]"
          ]
        },
        {
          "name": "stdout",
          "output_type": "stream",
          "text": [
            "Accuracy for alphabet Old_Church_Slavonic_(Cyrillic): 0.9158\n"
          ]
        },
        {
          "name": "stderr",
          "output_type": "stream",
          "text": [
            " 75%|███████▌  | 15/20 [00:29<00:11,  2.35s/it]"
          ]
        },
        {
          "name": "stdout",
          "output_type": "stream",
          "text": [
            "Accuracy for alphabet Oriya: 0.6121\n"
          ]
        },
        {
          "name": "stderr",
          "output_type": "stream",
          "text": [
            " 80%|████████  | 16/20 [00:30<00:08,  2.11s/it]"
          ]
        },
        {
          "name": "stdout",
          "output_type": "stream",
          "text": [
            "Accuracy for alphabet Sylheti: 0.6842\n"
          ]
        },
        {
          "name": "stderr",
          "output_type": "stream",
          "text": [
            " 85%|████████▌ | 17/20 [00:32<00:05,  1.86s/it]"
          ]
        },
        {
          "name": "stdout",
          "output_type": "stream",
          "text": [
            "Accuracy for alphabet Syriac_(Serto): 0.7918\n"
          ]
        },
        {
          "name": "stderr",
          "output_type": "stream",
          "text": [
            " 90%|█████████ | 18/20 [00:33<00:03,  1.75s/it]"
          ]
        },
        {
          "name": "stdout",
          "output_type": "stream",
          "text": [
            "Accuracy for alphabet Tengwar: 0.8737\n"
          ]
        },
        {
          "name": "stderr",
          "output_type": "stream",
          "text": [
            " 95%|█████████▌| 19/20 [00:36<00:01,  1.94s/it]"
          ]
        },
        {
          "name": "stdout",
          "output_type": "stream",
          "text": [
            "Accuracy for alphabet Tibetan: 0.8659\n"
          ]
        },
        {
          "name": "stderr",
          "output_type": "stream",
          "text": [
            "100%|██████████| 20/20 [00:37<00:00,  1.88s/it]\n"
          ]
        },
        {
          "name": "stdout",
          "output_type": "stream",
          "text": [
            "Accuracy for alphabet ULOG: 0.5243\n"
          ]
        },
        {
          "name": "stderr",
          "output_type": "stream",
          "text": [
            "  5%|▌         | 1/20 [00:01<00:24,  1.30s/it]"
          ]
        },
        {
          "name": "stdout",
          "output_type": "stream",
          "text": [
            "Accuracy for alphabet Angelic: 0.9711\n"
          ]
        },
        {
          "name": "stderr",
          "output_type": "stream",
          "text": [
            " 10%|█         | 2/20 [00:02<00:25,  1.41s/it]"
          ]
        },
        {
          "name": "stdout",
          "output_type": "stream",
          "text": [
            "Accuracy for alphabet Atemayar_Qelisayer: 0.9089\n"
          ]
        },
        {
          "name": "stderr",
          "output_type": "stream",
          "text": [
            " 15%|█▌        | 3/20 [00:04<00:24,  1.44s/it]"
          ]
        },
        {
          "name": "stdout",
          "output_type": "stream",
          "text": [
            "Accuracy for alphabet Atlantean: 0.9636\n"
          ]
        },
        {
          "name": "stderr",
          "output_type": "stream",
          "text": [
            " 20%|██        | 4/20 [00:05<00:22,  1.44s/it]"
          ]
        },
        {
          "name": "stdout",
          "output_type": "stream",
          "text": [
            "Accuracy for alphabet Aurek-Besh: 0.9494\n"
          ]
        },
        {
          "name": "stderr",
          "output_type": "stream",
          "text": [
            " 25%|██▌       | 5/20 [00:07<00:21,  1.46s/it]"
          ]
        },
        {
          "name": "stdout",
          "output_type": "stream",
          "text": [
            "Accuracy for alphabet Avesta: 0.9737\n"
          ]
        },
        {
          "name": "stderr",
          "output_type": "stream",
          "text": [
            " 30%|███       | 6/20 [00:08<00:20,  1.46s/it]"
          ]
        },
        {
          "name": "stdout",
          "output_type": "stream",
          "text": [
            "Accuracy for alphabet Ge_ez: 0.9696\n"
          ]
        },
        {
          "name": "stderr",
          "output_type": "stream",
          "text": [
            " 35%|███▌      | 7/20 [00:11<00:23,  1.82s/it]"
          ]
        },
        {
          "name": "stdout",
          "output_type": "stream",
          "text": [
            "Accuracy for alphabet Glagolitic: 0.8865\n"
          ]
        },
        {
          "name": "stderr",
          "output_type": "stream",
          "text": [
            " 40%|████      | 8/20 [00:13<00:24,  2.07s/it]"
          ]
        },
        {
          "name": "stdout",
          "output_type": "stream",
          "text": [
            "Accuracy for alphabet Gurmukhi: 0.9076\n"
          ]
        },
        {
          "name": "stderr",
          "output_type": "stream",
          "text": [
            " 45%|████▌     | 9/20 [00:16<00:23,  2.13s/it]"
          ]
        },
        {
          "name": "stdout",
          "output_type": "stream",
          "text": [
            "Accuracy for alphabet Kannada: 0.8511\n"
          ]
        },
        {
          "name": "stderr",
          "output_type": "stream",
          "text": [
            " 50%|█████     | 10/20 [00:17<00:19,  1.94s/it]"
          ]
        },
        {
          "name": "stdout",
          "output_type": "stream",
          "text": [
            "Accuracy for alphabet Keble: 0.9696\n"
          ]
        },
        {
          "name": "stderr",
          "output_type": "stream",
          "text": [
            " 55%|█████▌    | 11/20 [00:20<00:19,  2.16s/it]"
          ]
        },
        {
          "name": "stdout",
          "output_type": "stream",
          "text": [
            "Accuracy for alphabet Malayalam: 0.8891\n"
          ]
        },
        {
          "name": "stderr",
          "output_type": "stream",
          "text": [
            " 60%|██████    | 12/20 [00:22<00:17,  2.19s/it]"
          ]
        },
        {
          "name": "stdout",
          "output_type": "stream",
          "text": [
            "Accuracy for alphabet Manipuri: 0.8605\n"
          ]
        },
        {
          "name": "stderr",
          "output_type": "stream",
          "text": [
            " 65%|██████▌   | 13/20 [00:24<00:14,  2.08s/it]"
          ]
        },
        {
          "name": "stdout",
          "output_type": "stream",
          "text": [
            "Accuracy for alphabet Mongolian: 0.9561\n"
          ]
        },
        {
          "name": "stderr",
          "output_type": "stream",
          "text": [
            " 70%|███████   | 14/20 [00:26<00:13,  2.18s/it]"
          ]
        },
        {
          "name": "stdout",
          "output_type": "stream",
          "text": [
            "Accuracy for alphabet Old_Church_Slavonic_(Cyrillic): 0.9614\n"
          ]
        },
        {
          "name": "stderr",
          "output_type": "stream",
          "text": [
            " 75%|███████▌  | 15/20 [00:29<00:11,  2.26s/it]"
          ]
        },
        {
          "name": "stdout",
          "output_type": "stream",
          "text": [
            "Accuracy for alphabet Oriya: 0.7483\n"
          ]
        },
        {
          "name": "stderr",
          "output_type": "stream",
          "text": [
            " 80%|████████  | 16/20 [00:30<00:08,  2.07s/it]"
          ]
        },
        {
          "name": "stdout",
          "output_type": "stream",
          "text": [
            "Accuracy for alphabet Sylheti: 0.8383\n"
          ]
        },
        {
          "name": "stderr",
          "output_type": "stream",
          "text": [
            " 85%|████████▌ | 17/20 [00:32<00:05,  1.83s/it]"
          ]
        },
        {
          "name": "stdout",
          "output_type": "stream",
          "text": [
            "Accuracy for alphabet Syriac_(Serto): 0.9405\n"
          ]
        },
        {
          "name": "stderr",
          "output_type": "stream",
          "text": [
            " 90%|█████████ | 18/20 [00:33<00:03,  1.71s/it]"
          ]
        },
        {
          "name": "stdout",
          "output_type": "stream",
          "text": [
            "Accuracy for alphabet Tengwar: 0.9368\n"
          ]
        },
        {
          "name": "stderr",
          "output_type": "stream",
          "text": [
            " 95%|█████████▌| 19/20 [00:36<00:02,  2.11s/it]"
          ]
        },
        {
          "name": "stdout",
          "output_type": "stream",
          "text": [
            "Accuracy for alphabet Tibetan: 0.9536\n"
          ]
        },
        {
          "name": "stderr",
          "output_type": "stream",
          "text": [
            "100%|██████████| 20/20 [00:38<00:00,  1.92s/it]\n"
          ]
        },
        {
          "name": "stdout",
          "output_type": "stream",
          "text": [
            "Accuracy for alphabet ULOG: 0.6761\n"
          ]
        },
        {
          "name": "stderr",
          "output_type": "stream",
          "text": [
            "  5%|▌         | 1/20 [00:01<00:22,  1.18s/it]"
          ]
        },
        {
          "name": "stdout",
          "output_type": "stream",
          "text": [
            "Accuracy for alphabet Angelic: 0.9921\n"
          ]
        },
        {
          "name": "stderr",
          "output_type": "stream",
          "text": [
            " 10%|█         | 2/20 [00:02<00:25,  1.41s/it]"
          ]
        },
        {
          "name": "stdout",
          "output_type": "stream",
          "text": [
            "Accuracy for alphabet Atemayar_Qelisayer: 0.9595\n"
          ]
        },
        {
          "name": "stderr",
          "output_type": "stream",
          "text": [
            " 15%|█▌        | 3/20 [00:04<00:26,  1.54s/it]"
          ]
        },
        {
          "name": "stdout",
          "output_type": "stream",
          "text": [
            "Accuracy for alphabet Atlantean: 0.9899\n"
          ]
        },
        {
          "name": "stderr",
          "output_type": "stream",
          "text": [
            " 20%|██        | 4/20 [00:06<00:25,  1.57s/it]"
          ]
        },
        {
          "name": "stdout",
          "output_type": "stream",
          "text": [
            "Accuracy for alphabet Aurek-Besh: 0.9575\n"
          ]
        },
        {
          "name": "stderr",
          "output_type": "stream",
          "text": [
            " 25%|██▌       | 5/20 [00:07<00:23,  1.59s/it]"
          ]
        },
        {
          "name": "stdout",
          "output_type": "stream",
          "text": [
            "Accuracy for alphabet Avesta: 0.9919\n"
          ]
        },
        {
          "name": "stderr",
          "output_type": "stream",
          "text": [
            " 30%|███       | 6/20 [00:09<00:22,  1.61s/it]"
          ]
        },
        {
          "name": "stdout",
          "output_type": "stream",
          "text": [
            "Accuracy for alphabet Ge_ez: 0.9838\n"
          ]
        },
        {
          "name": "stderr",
          "output_type": "stream",
          "text": [
            " 35%|███▌      | 7/20 [00:12<00:25,  1.97s/it]"
          ]
        },
        {
          "name": "stdout",
          "output_type": "stream",
          "text": [
            "Accuracy for alphabet Glagolitic: 0.9462\n"
          ]
        },
        {
          "name": "stderr",
          "output_type": "stream",
          "text": [
            " 40%|████      | 8/20 [00:14<00:26,  2.23s/it]"
          ]
        },
        {
          "name": "stdout",
          "output_type": "stream",
          "text": [
            "Accuracy for alphabet Gurmukhi: 0.9719\n"
          ]
        },
        {
          "name": "stderr",
          "output_type": "stream",
          "text": [
            " 45%|████▌     | 9/20 [00:17<00:24,  2.26s/it]"
          ]
        },
        {
          "name": "stdout",
          "output_type": "stream",
          "text": [
            "Accuracy for alphabet Kannada: 0.9371\n"
          ]
        },
        {
          "name": "stderr",
          "output_type": "stream",
          "text": [
            " 50%|█████     | 10/20 [00:18<00:20,  2.06s/it]"
          ]
        },
        {
          "name": "stdout",
          "output_type": "stream",
          "text": [
            "Accuracy for alphabet Keble: 0.9939\n"
          ]
        },
        {
          "name": "stderr",
          "output_type": "stream",
          "text": [
            " 55%|█████▌    | 11/20 [00:21<00:21,  2.34s/it]"
          ]
        },
        {
          "name": "stdout",
          "output_type": "stream",
          "text": [
            "Accuracy for alphabet Malayalam: 0.9608\n"
          ]
        },
        {
          "name": "stderr",
          "output_type": "stream",
          "text": [
            " 60%|██████    | 12/20 [00:24<00:19,  2.46s/it]"
          ]
        },
        {
          "name": "stdout",
          "output_type": "stream",
          "text": [
            "Accuracy for alphabet Manipuri: 0.9500\n"
          ]
        },
        {
          "name": "stderr",
          "output_type": "stream",
          "text": [
            " 65%|██████▌   | 13/20 [00:26<00:15,  2.26s/it]"
          ]
        },
        {
          "name": "stdout",
          "output_type": "stream",
          "text": [
            "Accuracy for alphabet Mongolian: 0.9930\n"
          ]
        },
        {
          "name": "stderr",
          "output_type": "stream",
          "text": [
            " 70%|███████   | 14/20 [00:29<00:15,  2.51s/it]"
          ]
        },
        {
          "name": "stdout",
          "output_type": "stream",
          "text": [
            "Accuracy for alphabet Old_Church_Slavonic_(Cyrillic): 0.9801\n"
          ]
        },
        {
          "name": "stderr",
          "output_type": "stream",
          "text": [
            " 75%|███████▌  | 15/20 [00:32<00:13,  2.65s/it]"
          ]
        },
        {
          "name": "stdout",
          "output_type": "stream",
          "text": [
            "Accuracy for alphabet Oriya: 0.8867\n"
          ]
        },
        {
          "name": "stderr",
          "output_type": "stream",
          "text": [
            " 80%|████████  | 16/20 [00:34<00:09,  2.39s/it]"
          ]
        },
        {
          "name": "stdout",
          "output_type": "stream",
          "text": [
            "Accuracy for alphabet Sylheti: 0.9361\n"
          ]
        },
        {
          "name": "stderr",
          "output_type": "stream",
          "text": [
            " 85%|████████▌ | 17/20 [00:35<00:06,  2.17s/it]"
          ]
        },
        {
          "name": "stdout",
          "output_type": "stream",
          "text": [
            "Accuracy for alphabet Syriac_(Serto): 0.9863\n"
          ]
        },
        {
          "name": "stderr",
          "output_type": "stream",
          "text": [
            " 90%|█████████ | 18/20 [00:37<00:04,  2.10s/it]"
          ]
        },
        {
          "name": "stdout",
          "output_type": "stream",
          "text": [
            "Accuracy for alphabet Tengwar: 0.9874\n"
          ]
        },
        {
          "name": "stderr",
          "output_type": "stream",
          "text": [
            " 95%|█████████▌| 19/20 [00:40<00:02,  2.33s/it]"
          ]
        },
        {
          "name": "stdout",
          "output_type": "stream",
          "text": [
            "Accuracy for alphabet Tibetan: 0.9774\n"
          ]
        },
        {
          "name": "stderr",
          "output_type": "stream",
          "text": [
            "100%|██████████| 20/20 [00:42<00:00,  2.12s/it]"
          ]
        },
        {
          "name": "stdout",
          "output_type": "stream",
          "text": [
            "Accuracy for alphabet ULOG: 0.8421\n"
          ]
        },
        {
          "name": "stderr",
          "output_type": "stream",
          "text": [
            "\n"
          ]
        }
      ],
      "source": [
        "accuracy_1 = evaluate_triplet_network(triplet_network, data_dict_test, preprocess, K=1, print_alphabet_accuracy=print_alphabet_accuracy)\n",
        "accuracy_2 = evaluate_triplet_network(triplet_network, data_dict_test, preprocess, K=2, print_alphabet_accuracy=print_alphabet_accuracy)\n",
        "accuracy_4 = evaluate_triplet_network(triplet_network, data_dict_test, preprocess, K=4, print_alphabet_accuracy=print_alphabet_accuracy)\n",
        "accuracy_8 = evaluate_triplet_network(triplet_network, data_dict_test, preprocess, K=8, print_alphabet_accuracy=print_alphabet_accuracy)"
      ]
    },
    {
      "cell_type": "code",
      "execution_count": 128,
      "id": "3a0fb478",
      "metadata": {
        "id": "3a0fb478"
      },
      "outputs": [
        {
          "name": "stdout",
          "output_type": "stream",
          "text": [
            "Accuracy 1: 0.6493890264355882\n",
            "Accuracy 2: 0.7977797300535101\n",
            "Accuracy 4: 0.8996885232808881\n",
            "Accuracy 8: 0.9586295024359077\n"
          ]
        }
      ],
      "source": [
        "print(f\"Accuracy 1: {accuracy_1}\")\n",
        "print(f\"Accuracy 2: {accuracy_2}\")\n",
        "print(f\"Accuracy 4: {accuracy_4}\")\n",
        "print(f\"Accuracy 8: {accuracy_8}\")"
      ]
    },
    {
      "cell_type": "code",
      "execution_count": null,
      "id": "3d2413fe",
      "metadata": {
        "id": "3d2413fe"
      },
      "outputs": [],
      "source": [
        "# Plot all the labelled images from a random alphabet in the test data\n",
        "alphabets_test = list(data_dict_test['annotated_images'].keys())\n",
        "alphabet_id = np.random.randint(0, len(alphabets_test))\n",
        "alphabet = alphabets_test[alphabet_id]\n",
        "\n",
        "alphabet_annotated = data_dict_test['annotated_images'][alphabet]\n",
        "alphabet_annotated_labels = data_dict_test['annotated_images_labels'][alphabet]\n",
        "\n",
        "num_images = len(alphabet_annotated)\n",
        "print(f\"Number of images in alphabet {alphabet}: {num_images}\")\n",
        "\n",
        "num_rows = num_images // 5 + (num_images % 5 > 0)  # This will round up to the nearest multiple of 5\n",
        "num_cols = 5\n",
        "\n",
        "plt.figure(figsize=(20, 8))\n",
        "for i in range(num_images):\n",
        "    plt.subplot(num_rows, num_cols, i+1)\n",
        "    plt.imshow(alphabet_annotated[i].squeeze(0), cmap='gray')\n",
        "    plt.title(alphabet_annotated_labels[i])\n",
        "    plt.axis('off')\n",
        "\n",
        "\n",
        "# Random indexes from the unseen images\n",
        "random_idx = np.random.choice(len(data_dict_test['unseen_images'][alphabet]), 10)\n",
        "K = 2\n",
        "# Plot 10 unseen images from the same alphabet with their predicted labels\n",
        "for i, unseen_image in enumerate(data_dict_test['unseen_images'][alphabet][random_idx]):\n",
        "\n",
        "    # compute embedding for unseen image\n",
        "    toPILImage = transforms.ToPILImage()\n",
        "    unseen_image = toPILImage(unseen_image)\n",
        "    unseen_image = preprocess(unseen_image)\n",
        "    embedding_unseen = triplet_network.get_embedding(unseen_image.unsqueeze(0).to(DEVICE))\n",
        "\n",
        "    # list of cosine similarities\n",
        "    distances = []\n",
        "\n",
        "    for j, annotated_image in enumerate(data_dict_test['annotated_images'][alphabet]):\n",
        "\n",
        "        # Convert the images to PIL images\n",
        "        annotated_image = toPILImage(annotated_image)\n",
        "        annotated_image = preprocess(annotated_image)\n",
        "        embedding_unnnotated = triplet_network.get_embedding(annotated_image.unsqueeze(0).to(DEVICE))\n",
        "\n",
        "        distance = F.pairwise_distance(embedding_unseen, embedding_unnnotated)\n",
        "        distances.append(torch.mean(distance).item())\n",
        "\n",
        "    # Get the indices of the K smallest distances\n",
        "    #print(f\"distances: {distances}\")\n",
        "    most_similar_indices = np.argsort(distances)[:K]\n",
        "    #print(f\"most similar indices: {most_similar_indices}\")\n",
        "    # Get the corresponding labels\n",
        "    most_similar_labels = [data_dict_test['annotated_images_labels'][alphabet][idx] for idx in most_similar_indices]\n",
        "    #print(f\"most similar labels: {most_similar_labels}\")\n",
        "\n",
        "    # Get the actual label of the unseen image\n",
        "    actual_label = data_dict_test['unseen_images_labels'][alphabet][random_idx[i]]\n",
        "    #print(f\"actual label: {actual_label}\")\n",
        "\n",
        "    plt.figure(figsize=(15, 6))\n",
        "    plt.subplot(1, 2, 1)\n",
        "    plt.imshow(unseen_image.squeeze(0), cmap='gray')\n",
        "    plt.title(f\"Predicted: {most_similar_labels}, Actual: {actual_label}\")"
      ]
    },
    {
      "cell_type": "markdown",
      "id": "f49a6fcc9bcd5994",
      "metadata": {
        "collapsed": false,
        "id": "f49a6fcc9bcd5994"
      },
      "source": [
        "# Task 2: rotation problem"
      ]
    },
    {
      "cell_type": "code",
      "execution_count": 30,
      "id": "800d9fa43d711ae0",
      "metadata": {
        "id": "800d9fa43d711ae0"
      },
      "outputs": [],
      "source": [
        "# load the test data for task 2:\n",
        "# the structure of the test data of task 2 is exactly the same as for task 1,\n",
        "# but now the images are rotated by an unknown angle between 0 and 360 degrees.\n",
        "data_dict_test_task2 = load_data('data/test_data_task2.pkl')"
      ]
    },
    {
      "cell_type": "code",
      "execution_count": 31,
      "id": "cfd690817a188882",
      "metadata": {
        "id": "cfd690817a188882"
      },
      "outputs": [
        {
          "data": {
            "text/plain": [
              "dict_keys(['annotated_images', 'annotated_images_labels', 'unseen_images', 'unseen_images_labels'])"
            ]
          },
          "execution_count": 31,
          "metadata": {},
          "output_type": "execute_result"
        }
      ],
      "source": [
        "data_dict_test_task2.keys()"
      ]
    },
    {
      "cell_type": "code",
      "execution_count": 32,
      "id": "a03e90b9",
      "metadata": {},
      "outputs": [],
      "source": [
        "# Define preprocessing steps\n",
        "preprocess_rotation = transforms.Compose([\n",
        "    transforms.Resize([32, 32]),\n",
        "    transforms.RandomRotation(degrees=360),\n",
        "    transforms.ToTensor(),\n",
        "    transforms.Normalize(mean=[0], std=[1]),\n",
        "    transforms.Grayscale(num_output_channels=1)\n",
        "])"
      ]
    },
    {
      "cell_type": "code",
      "execution_count": 33,
      "id": "afc51f3d",
      "metadata": {},
      "outputs": [
        {
          "name": "stderr",
          "output_type": "stream",
          "text": [
            "  0%|          | 0/19280 [00:00<?, ?it/s]"
          ]
        },
        {
          "name": "stderr",
          "output_type": "stream",
          "text": [
            "100%|██████████| 19280/19280 [00:56<00:00, 338.52it/s] "
          ]
        },
        {
          "name": "stdout",
          "output_type": "stream",
          "text": [
            "Num of training triplets: 293056\n",
            "Num of validation triplets: 73264\n"
          ]
        },
        {
          "name": "stderr",
          "output_type": "stream",
          "text": [
            "\n"
          ]
        }
      ],
      "source": [
        "#  Create Triplet dataset\n",
        "triplet_dataset_rotation = create_triplet_dataset(train_data, transform=preprocess_rotation)\n",
        "\n",
        "# Define the size of the validation set\n",
        "val_size = int(0.2 * len(triplet_dataset_rotation))  # 20% of the dataset\n",
        "train_size = len(triplet_dataset_rotation) - val_size\n",
        "\n",
        "# Create train and validation sets\n",
        "generator = torch.Generator().manual_seed(42)\n",
        "triplet_train_dataset, triplet_val_dataset = random_split(triplet_dataset_rotation, [train_size, val_size], generator=generator)\n",
        "\n",
        "# Create data loaders\n",
        "train_loader = DataLoader(triplet_train_dataset, batch_size=32, shuffle=True)\n",
        "val_loader = DataLoader(triplet_val_dataset, batch_size=32, shuffle=False)\n",
        "\n",
        "print(f\"Num of training triplets: {len(triplet_train_dataset)}\")\n",
        "print(f\"Num of validation triplets: {len(triplet_val_dataset)}\")"
      ]
    },
    {
      "cell_type": "code",
      "execution_count": 34,
      "id": "727563ed",
      "metadata": {},
      "outputs": [],
      "source": [
        "import torch\n",
        "import torch.nn as nn\n",
        "import torch.nn.functional as F\n",
        "from e2cnn import gspaces\n",
        "from e2cnn import nn as enn\n",
        "\n",
        "class Lambda(nn.Module):\n",
        "    def __init__(self, func):\n",
        "        super().__init__()\n",
        "        self.func = func\n",
        "\n",
        "    def forward(self, x):\n",
        "        return self.func(x)\n",
        "\n",
        "class EquivariantEmbeddingNet(nn.Module):\n",
        "    def __init__(self):\n",
        "        super(EquivariantEmbeddingNet, self).__init__()\n",
        "        \n",
        "        # Definire uno spazio di simmetria con rotazioni discrete di 8 gradi\n",
        "        self.r2_act = gspaces.Rot2dOnR2(N=8)\n",
        "\n",
        "        # Definire il campo di input: 1 canale con rappresentazione regolare\n",
        "        in_type = enn.FieldType(self.r2_act, [self.r2_act.trivial_repr])\n",
        "\n",
        "        # Definire i campi di output per i vari strati convolutivi\n",
        "        out_type1 = enn.FieldType(self.r2_act, 8*[self.r2_act.regular_repr])\n",
        "        out_type2 = enn.FieldType(self.r2_act, 16*[self.r2_act.regular_repr])\n",
        "        out_type3 = enn.FieldType(self.r2_act, 32*[self.r2_act.regular_repr])\n",
        "\n",
        "        # Layer iniziale per adattare il numero di canali\n",
        "        self.initial_conv = enn.R2Conv(in_type, out_type1, kernel_size=3, padding=1)\n",
        "\n",
        "        # Costruire la rete convolutiva sequenziale\n",
        "        self.conv_layers = enn.SequentialModule(\n",
        "            # Primo blocco convolutivo\n",
        "            enn.R2Conv(in_type, out_type1, kernel_size=3, padding=1),\n",
        "            enn.InnerBatchNorm(out_type1),\n",
        "            enn.ReLU(out_type1, inplace=True),\n",
        "            enn.R2Conv(out_type1, out_type1, kernel_size=3, padding=1),\n",
        "            enn.ReLU(out_type1, inplace=True),\n",
        "            enn.PointwiseMaxPool(out_type1, kernel_size=2, stride=2),\n",
        "\n",
        "            # Secondo blocco convolutivo\n",
        "            enn.R2Conv(out_type1, out_type2, kernel_size=3, padding=1),\n",
        "            enn.InnerBatchNorm(out_type2),\n",
        "            enn.ReLU(out_type2, inplace=True),\n",
        "            enn.R2Conv(out_type2, out_type2, kernel_size=3, padding=1),\n",
        "            enn.ReLU(out_type2, inplace=True),\n",
        "            enn.PointwiseMaxPool(out_type2, kernel_size=2, stride=2),\n",
        "\n",
        "            # Terzo blocco convolutivo\n",
        "            enn.R2Conv(out_type2, out_type3, kernel_size=3, padding=1),\n",
        "            enn.InnerBatchNorm(out_type3),\n",
        "            enn.ReLU(out_type3, inplace=True),\n",
        "            enn.R2Conv(out_type3, out_type3, kernel_size=3, padding=1),\n",
        "            enn.ReLU(out_type3, inplace=True),\n",
        "            enn.PointwiseMaxPool(out_type3, kernel_size=2, stride=2),\n",
        "        )\n",
        "\n",
        "        self.input_type = in_type\n",
        "        \n",
        "        # Fully connected layers\n",
        "        self.fc1 = nn.Linear(4096, 1024)\n",
        "        self.fc2 = nn.Linear(1024, 256)\n",
        "        self.fc3 = nn.Linear(256, 10)\n",
        "\n",
        "    def forward(self, x):\n",
        "        # Ingresso: crea un GeometricTensor dal tensore di input\n",
        "        x = enn.GeometricTensor(x, self.input_type)\n",
        "        \n",
        "        # Passa attraverso i blocchi convolutivi sequenziali\n",
        "        x = self.conv_layers(x)\n",
        "        \n",
        "        x = x.tensor\n",
        "\n",
        "        # Appiattisci e passa attraverso gli strati fully connected\n",
        "        x = x.view(x.size(0), -1)\n",
        "        x = F.relu(self.fc1(x))\n",
        "        x = F.relu(self.fc2(x))\n",
        "        x = self.fc3(x)\n",
        "        return x\n",
        "\n",
        "    def get_embedding(self, x):\n",
        "        return self.forward(x)\n"
      ]
    },
    {
      "cell_type": "code",
      "execution_count": 35,
      "id": "9dcb1471",
      "metadata": {},
      "outputs": [],
      "source": [
        "import torch\n",
        "import torch.nn.functional as F\n",
        "\n",
        "def rotational_consistency_loss(triplet_network, image, rotated_image):\n",
        "    \"\"\"\n",
        "    Compute the rotational consistency loss between the embeddings of the original and rotated images.\n",
        "\n",
        "    :param embedding_net: The embedding network.\n",
        "    :param image: The original image.\n",
        "    :param rotated_image: The rotated image.\n",
        "    :return: The rotational consistency loss.\n",
        "    \"\"\"\n",
        "    embedding = triplet_network.get_embedding(image)\n",
        "    rotated_embedding = triplet_network.get_embedding(rotated_image)\n",
        "    loss = F.mse_loss(embedding, rotated_embedding)\n",
        "    return loss"
      ]
    },
    {
      "cell_type": "code",
      "execution_count": 36,
      "id": "7313eb3a",
      "metadata": {},
      "outputs": [],
      "source": [
        "def rotate_image(image):\n",
        "    \"\"\"\n",
        "    Rotate the image by a random angle.\n",
        "\n",
        "    :param image: The input image.\n",
        "    :return: The rotated image.\n",
        "    \"\"\"\n",
        "    random_rotation = transforms.RandomRotation(degrees=(0, 360))\n",
        "    rotated_image = random_rotation(image)\n",
        "    return rotated_image\n"
      ]
    },
    {
      "cell_type": "code",
      "execution_count": 37,
      "id": "82b050c7",
      "metadata": {},
      "outputs": [],
      "source": [
        "# Function to train Triplet network\n",
        "def train_triplet_network_rotation(triplet_network, train_loader, val_loader, num_epochs=10, learning_rate=0.001, device=DEVICE):\n",
        "    \"\"\"\n",
        "    Trains a triplet network for a specified number of epochs.\n",
        "\n",
        "    The function takes as input a triplet network, training and validation data loaders, number of epochs, and learning rate.\n",
        "    It uses the Adam optimizer and a custom TripletLoss criterion.\n",
        "    For each epoch, it iterates over the training data, computes the loss and backpropagates the gradients.\n",
        "    It also computes the AUC-ROC for each batch and keeps a running total.\n",
        "    After each epoch, it evaluates the network on the validation data and computes the average loss and AUC-ROC.\n",
        "\n",
        "    Parameters:\n",
        "    triplet_network (nn.Module): The triplet network to train.\n",
        "    train_loader (DataLoader): The DataLoader for the training data.\n",
        "    val_loader (DataLoader): The DataLoader for the validation data.\n",
        "    num_epochs (int, optional): The number of epochs to train for. Default is 10.\n",
        "    learning_rate (float, optional): The learning rate for the Adam optimizer. Default is 0.001.\n",
        "\n",
        "    Returns:\n",
        "    None\n",
        "    \"\"\"\n",
        "    criterion = TripletLoss().to(device)\n",
        "    optimizer = optim.Adam(triplet_network.parameters(), lr=learning_rate)\n",
        "\n",
        "    for epoch in range(num_epochs):\n",
        "        # Training\n",
        "        progress_bar = tqdm(train_loader, desc=f\"Epoch {epoch+1}\")\n",
        "\n",
        "        triplet_network.train()\n",
        "\n",
        "        running_loss = 0.0\n",
        "        running_distance = 0.0\n",
        "        batch_count = 0\n",
        "\n",
        "        for img1, img2, img3 in progress_bar:\n",
        "            optimizer.zero_grad()\n",
        "            img1, img2, img3 = img1.to(device), img2.to(device), img3.to(device)\n",
        "            output1, output2, output3 = triplet_network(img1, img2, img3)\n",
        "            loss = criterion(output1, output2, output3)\n",
        "            # Compute rotational consistency loss\n",
        "            rotated_anchor = rotate_image(img1)\n",
        "            rotated_anchor = rotated_anchor.to(device)\n",
        "            rot_loss = rotational_consistency_loss(triplet_network, img1, rotated_anchor)\n",
        "            loss += rot_loss\n",
        "            loss.backward()\n",
        "            optimizer.step()\n",
        "            running_loss += loss.item()\n",
        "            distance = compute_distance_triplet(output1.detach(), output2.detach(), output3.detach())\n",
        "            running_distance += distance\n",
        "            batch_count += 1\n",
        "\n",
        "            # Update the progress bar with the current loss and distance\n",
        "            progress_bar.set_postfix({\"loss\": running_loss / batch_count, \"distance\": running_distance / batch_count})\n",
        "\n",
        "        print(f\"Epoch {epoch+1}, Loss: {running_loss/len(train_loader)}, Distance: {running_distance/len(train_loader)}\")\n",
        "\n",
        "        # Validation\n",
        "        progress_bar = tqdm(val_loader, desc=f\"Val Epoch {epoch + 1}\")\n",
        "        triplet_network.eval()\n",
        "        running_val_loss = 0.0\n",
        "        running_val_distance = 0.0\n",
        "        batch_count = 0\n",
        "\n",
        "        with torch.no_grad():\n",
        "            for img1, img2, img3 in progress_bar:\n",
        "                img1, img2, img3 = img1.to(device), img2.to(device), img3.to(device)\n",
        "                output1, output2, output3 = triplet_network(img1, img2, img3)\n",
        "                val_loss = criterion(output1, output2, output3)\n",
        "                running_val_loss += val_loss.item()\n",
        "                val_distance = compute_distance_triplet(output1.detach(), output2.detach(), output3.detach())\n",
        "                running_val_distance += val_distance\n",
        "                batch_count += 1\n",
        "\n",
        "                # Update the progress bar with the current loss and distance\n",
        "                progress_bar.set_postfix({\"val_loss\": running_val_loss / batch_count, \"val_distance\": running_val_distance / batch_count})\n",
        "\n",
        "        print(f\"Val Epoch {epoch+1}, Loss: {running_val_loss/len(val_loader)}, Distance: {running_val_distance/len(val_loader)}\")"
      ]
    },
    {
      "cell_type": "code",
      "execution_count": 38,
      "id": "72078baf",
      "metadata": {},
      "outputs": [
        {
          "name": "stderr",
          "output_type": "stream",
          "text": [
            "d:\\Projects\\Deep Learning\\Deep-Learning-Assignment-1\\.venv\\lib\\site-packages\\e2cnn\\nn\\modules\\r2_conv\\basisexpansion_singleblock.py:80: UserWarning: indexing with dtype torch.uint8 is now deprecated, please use a dtype torch.bool instead. (Triggered internally at C:\\actions-runner\\_work\\pytorch\\pytorch\\builder\\windows\\pytorch\\aten\\src\\ATen/native/IndexingUtils.h:28.)\n",
            "  full_mask[mask] = norms.to(torch.uint8)\n"
          ]
        }
      ],
      "source": [
        "equivariant_triplet_net = TripletNet(EquivariantEmbeddingNet()).to(DEVICE)"
      ]
    },
    {
      "cell_type": "code",
      "execution_count": 41,
      "id": "0fdd27c8",
      "metadata": {},
      "outputs": [
        {
          "name": "stderr",
          "output_type": "stream",
          "text": [
            "Epoch 1: 100%|██████████| 9158/9158 [31:00<00:00,  4.92it/s, loss=0.274, distance=2.11]\n"
          ]
        },
        {
          "name": "stdout",
          "output_type": "stream",
          "text": [
            "Epoch 1, Loss: 0.27421913857255237, Distance: 2.10556940536305\n"
          ]
        },
        {
          "name": "stderr",
          "output_type": "stream",
          "text": [
            "Val Epoch 1: 100%|██████████| 2290/2290 [03:15<00:00, 11.70it/s, val_loss=0.141, val_distance=2.4] "
          ]
        },
        {
          "name": "stdout",
          "output_type": "stream",
          "text": [
            "Val Epoch 1, Loss: 0.1405198429625758, Distance: 2.3959805257455753\n"
          ]
        },
        {
          "name": "stderr",
          "output_type": "stream",
          "text": [
            "\n"
          ]
        }
      ],
      "source": [
        "# train the rotation invariant triplet network\n",
        "if TRAIN_TRIPLET_ROTATION:\n",
        "    train_triplet_network_rotation(equivariant_triplet_net, train_loader, val_loader, num_epochs=1, learning_rate=0.0001)\n",
        "    # Save the trained Siamese network\n",
        "    torch.save(equivariant_triplet_net.state_dict(), 'rotation_invariant_triplet_network.pth')"
      ]
    },
    {
      "cell_type": "code",
      "execution_count": 122,
      "id": "ab7aa34500088f66",
      "metadata": {
        "id": "ab7aa34500088f66"
      },
      "outputs": [],
      "source": [
        "import torch.nn.functional as F\n",
        "import torchvision.transforms.functional as TF\n",
        "\n",
        "class RotationEquivariantPooling2d(nn.Module):\n",
        "    def __init__(self, kernel_size, stride=None, padding=0, angle_step_size=90):\n",
        "        super(RotationEquivariantPooling2d, self).__init__()\n",
        "        self.kernel_size = kernel_size\n",
        "        self.stride = stride if stride is not None else kernel_size\n",
        "        self.padding = padding\n",
        "        self.angle_step_size = angle_step_size\n",
        "\n",
        "    def forward(self, x):\n",
        "        # Get the dimensions of the input feature map\n",
        "        batch_size, channels, height, width = x.size()\n",
        "\n",
        "        # Pad the input feature map to ensure even dimensions\n",
        "        padded_height = height + 2 * self.padding\n",
        "        padded_width = width + 2 * self.padding\n",
        "        x = F.pad(x, (self.padding, self.padding, self.padding, self.padding))\n",
        "\n",
        "        # Initialize an empty tensor to store pooled values\n",
        "        pooled = torch.zeros(batch_size, channels, padded_height // self.stride, padded_width // self.stride, device=x.device)\n",
        "\n",
        "        # Iterate over rotation angles\n",
        "        angles = [i*self.angle_step_size for i in range(360 // self.angle_step_size)]\n",
        "        for angle in angles:\n",
        "            # Rotate the input feature map\n",
        "            rotated_x = TF.rotate(x, angle)\n",
        "\n",
        "            # Perform max pooling on the rotated feature map\n",
        "            pooled_rotated = F.max_pool2d(rotated_x, kernel_size=self.kernel_size, stride=self.stride)\n",
        "\n",
        "            # Rotate the pooled values back to the original orientation\n",
        "            pooled_rotated = TF.rotate(pooled_rotated, -angle)\n",
        "\n",
        "            # Accumulate the pooled values\n",
        "            pooled += pooled_rotated\n",
        "\n",
        "        # Average pooled values across rotations\n",
        "        pooled /= float(len(angles))\n",
        "\n",
        "        return pooled\n",
        "\n",
        "class RotationEquivariantConv2d(nn.Module):\n",
        "    def __init__(self, in_channels, out_channels, kernel_size, stride=1, padding=0, angle_step_size=90):\n",
        "        super(RotationEquivariantConv2d, self).__init__()\n",
        "        self.conv = nn.Conv2d(in_channels, out_channels, kernel_size, stride=stride, padding=padding)\n",
        "        self.angle_step_size = angle_step_size\n",
        "\n",
        "    def forward(self, x):\n",
        "        # Initialize an empty tensor to store the results of each rotation\n",
        "        batch_size, channels, height, width = x.size()\n",
        "        out = torch.zeros(batch_size, self.conv.out_channels, height, width, device=x.device)\n",
        "\n",
        "        # Iterate over rotation angles\n",
        "        angles = [i*self.angle_step_size for i in range(360 // self.angle_step_size)]\n",
        "        for angle in angles:\n",
        "            # Rotate the input\n",
        "            rotated_x = TF.rotate(x, angle)\n",
        "\n",
        "            # Apply convolution\n",
        "            conv_rotated = self.conv(rotated_x)\n",
        "\n",
        "            # Rotate the result back to the original orientation\n",
        "            conv_rotated = TF.rotate(conv_rotated, -angle)\n",
        "\n",
        "            # Accumulate the results\n",
        "            out += conv_rotated\n",
        "\n",
        "        # Average the results across rotations\n",
        "        out /= float(len(angles))\n",
        "\n",
        "        return out\n",
        "\n",
        "class RotationInvariantEmbeddingNet(nn.Module):\n",
        "    \"\"\"\n",
        "    A PyTorch implementation of a Convolutional Neural Network (CNN) for feature extraction or embedding.\n",
        "\n",
        "    The network consists of three convolutional blocks each followed by a batch normalization, ReLU activation, and max pooling.\n",
        "    After the convolutional blocks, the tensor is flattened and passed through two fully connected (linear) layers.\n",
        "\n",
        "    The final output is a 10-dimensional vector which can be used as an embedding of the input.\n",
        "    \"\"\"\n",
        "    def __init__(self):\n",
        "        super(RotationInvariantEmbeddingNet, self).__init__()\n",
        "\n",
        "        self.front_layer = nn.Sequential(\n",
        "            # Conv Layer block 1\n",
        "            RotationEquivariantConv2d(in_channels=1, out_channels=32, kernel_size=3, padding=1),\n",
        "            nn.BatchNorm2d(32),\n",
        "            nn.ReLU(inplace=True),\n",
        "            RotationEquivariantConv2d(in_channels=32, out_channels=64, kernel_size=3, padding=1),\n",
        "            nn.ReLU(inplace=True),\n",
        "            RotationEquivariantPooling2d(kernel_size=2, stride=2),\n",
        "\n",
        "            # Conv Layer block 2\n",
        "            RotationEquivariantConv2d(in_channels=64, out_channels=128, kernel_size=3, padding=1),\n",
        "            nn.BatchNorm2d(128),\n",
        "            nn.ReLU(inplace=True),\n",
        "            RotationEquivariantConv2d(in_channels=128, out_channels=128, kernel_size=3, padding=1),\n",
        "            nn.ReLU(inplace=True),\n",
        "            RotationEquivariantPooling2d(kernel_size=2, stride=2),\n",
        "\n",
        "            # Conv Layer block 3\n",
        "            RotationEquivariantConv2d(in_channels=128, out_channels=256, kernel_size=3, padding=1),\n",
        "            nn.BatchNorm2d(256),\n",
        "            nn.ReLU(inplace=True),\n",
        "            RotationEquivariantConv2d(in_channels=256, out_channels=256, kernel_size=3, padding=1),\n",
        "            nn.ReLU(inplace=True),\n",
        "            RotationEquivariantPooling2d(kernel_size=2, stride=2),\n",
        "\n",
        "            Lambda(lambda x: x.view(x.size(0), -1)),\n",
        "\n",
        "            nn.Linear(4096, 1024),\n",
        "            nn.ReLU(inplace=True),\n",
        "            nn.Linear(1024, 512),\n",
        "            nn.ReLU(inplace=True),\n",
        "        )\n",
        "\n",
        "        self.last_layer = nn.Linear(512, 10)\n",
        "\n",
        "    def forward(self, x):\n",
        "        \"\"\"Perform forward.\"\"\"\n",
        "        # conv layers\n",
        "        x = self.front_layer(x)\n",
        "        x = self.last_layer(x)\n",
        "        return x\n",
        "\n",
        "    def get_embedding(self, x):\n",
        "        return self.forward(x)"
      ]
    },
    {
      "cell_type": "code",
      "execution_count": 123,
      "id": "71298802fa5d6fb8",
      "metadata": {
        "id": "71298802fa5d6fb8"
      },
      "outputs": [],
      "source": [
        "rotation_invariant_triplet_net = TripletNet(RotationInvariantEmbeddingNet()).to(DEVICE)"
      ]
    },
    {
      "cell_type": "code",
      "execution_count": null,
      "id": "4e6e3e82ce917c0f",
      "metadata": {
        "id": "4e6e3e82ce917c0f"
      },
      "outputs": [],
      "source": [
        "# train the rotation invariant triplet network\n",
        "if TRAIN_TRIPLET_ROTATION:\n",
        "    train_triplet_network(rotation_invariant_triplet_net, train_loader, val_loader, num_epochs=5, learning_rate=0.001)\n",
        "    # Save the trained Siamese network\n",
        "    torch.save(rotation_invariant_triplet_net.state_dict(), 'rotation_invariant_triplet_network.pth')"
      ]
    },
    {
      "cell_type": "code",
      "execution_count": 130,
      "id": "e701b2a68bd4d32a",
      "metadata": {
        "id": "e701b2a68bd4d32a"
      },
      "outputs": [
        {
          "data": {
            "text/plain": [
              "<All keys matched successfully>"
            ]
          },
          "execution_count": 130,
          "metadata": {},
          "output_type": "execute_result"
        }
      ],
      "source": [
        "# Load the trained rotation invariant triplet network\n",
        "basic_triplet_network = TripletNet(EmbeddingNet()).to(DEVICE)\n",
        "basic_triplet_network.load_state_dict(torch.load(main_dir + 'triplet_network_2.pth'))"
      ]
    },
    {
      "cell_type": "code",
      "execution_count": 131,
      "id": "c04f2218",
      "metadata": {},
      "outputs": [
        {
          "name": "stderr",
          "output_type": "stream",
          "text": [
            "  5%|▌         | 1/20 [00:01<00:26,  1.40s/it]"
          ]
        },
        {
          "name": "stdout",
          "output_type": "stream",
          "text": [
            "Accuracy for alphabet Angelic: 0.4632\n"
          ]
        },
        {
          "name": "stderr",
          "output_type": "stream",
          "text": [
            " 10%|█         | 2/20 [00:03<00:27,  1.53s/it]"
          ]
        },
        {
          "name": "stdout",
          "output_type": "stream",
          "text": [
            "Accuracy for alphabet Atemayar_Qelisayer: 0.3806\n"
          ]
        },
        {
          "name": "stderr",
          "output_type": "stream",
          "text": [
            " 15%|█▌        | 3/20 [00:04<00:27,  1.61s/it]"
          ]
        },
        {
          "name": "stdout",
          "output_type": "stream",
          "text": [
            "Accuracy for alphabet Atlantean: 0.3664\n"
          ]
        },
        {
          "name": "stderr",
          "output_type": "stream",
          "text": [
            " 20%|██        | 4/20 [00:06<00:25,  1.60s/it]"
          ]
        },
        {
          "name": "stdout",
          "output_type": "stream",
          "text": [
            "Accuracy for alphabet Aurek-Besh: 0.3866\n"
          ]
        },
        {
          "name": "stderr",
          "output_type": "stream",
          "text": [
            " 25%|██▌       | 5/20 [00:08<00:25,  1.71s/it]"
          ]
        },
        {
          "name": "stdout",
          "output_type": "stream",
          "text": [
            "Accuracy for alphabet Avesta: 0.4069\n"
          ]
        },
        {
          "name": "stderr",
          "output_type": "stream",
          "text": [
            " 30%|███       | 6/20 [00:09<00:23,  1.67s/it]"
          ]
        },
        {
          "name": "stdout",
          "output_type": "stream",
          "text": [
            "Accuracy for alphabet Ge_ez: 0.4352\n"
          ]
        },
        {
          "name": "stderr",
          "output_type": "stream",
          "text": [
            " 35%|███▌      | 7/20 [00:12<00:25,  2.00s/it]"
          ]
        },
        {
          "name": "stdout",
          "output_type": "stream",
          "text": [
            "Accuracy for alphabet Glagolitic: 0.3193\n"
          ]
        },
        {
          "name": "stderr",
          "output_type": "stream",
          "text": [
            " 40%|████      | 8/20 [00:15<00:27,  2.33s/it]"
          ]
        },
        {
          "name": "stdout",
          "output_type": "stream",
          "text": [
            "Accuracy for alphabet Gurmukhi: 0.2363\n"
          ]
        },
        {
          "name": "stderr",
          "output_type": "stream",
          "text": [
            " 45%|████▌     | 9/20 [00:18<00:27,  2.51s/it]"
          ]
        },
        {
          "name": "stdout",
          "output_type": "stream",
          "text": [
            "Accuracy for alphabet Kannada: 0.2927\n"
          ]
        },
        {
          "name": "stderr",
          "output_type": "stream",
          "text": [
            " 50%|█████     | 10/20 [00:20<00:23,  2.33s/it]"
          ]
        },
        {
          "name": "stdout",
          "output_type": "stream",
          "text": [
            "Accuracy for alphabet Keble: 0.3057\n"
          ]
        },
        {
          "name": "stderr",
          "output_type": "stream",
          "text": [
            " 55%|█████▌    | 11/20 [00:23<00:22,  2.51s/it]"
          ]
        },
        {
          "name": "stdout",
          "output_type": "stream",
          "text": [
            "Accuracy for alphabet Malayalam: 0.3147\n"
          ]
        },
        {
          "name": "stderr",
          "output_type": "stream",
          "text": [
            " 60%|██████    | 12/20 [00:25<00:19,  2.49s/it]"
          ]
        },
        {
          "name": "stdout",
          "output_type": "stream",
          "text": [
            "Accuracy for alphabet Manipuri: 0.3289\n"
          ]
        },
        {
          "name": "stderr",
          "output_type": "stream",
          "text": [
            " 65%|██████▌   | 13/20 [00:27<00:16,  2.38s/it]"
          ]
        },
        {
          "name": "stdout",
          "output_type": "stream",
          "text": [
            "Accuracy for alphabet Mongolian: 0.4175\n"
          ]
        },
        {
          "name": "stderr",
          "output_type": "stream",
          "text": [
            " 70%|███████   | 14/20 [00:30<00:14,  2.47s/it]"
          ]
        },
        {
          "name": "stdout",
          "output_type": "stream",
          "text": [
            "Accuracy for alphabet Old_Church_Slavonic_(Cyrillic): 0.3637\n"
          ]
        },
        {
          "name": "stderr",
          "output_type": "stream",
          "text": [
            " 75%|███████▌  | 15/20 [00:33<00:12,  2.59s/it]"
          ]
        },
        {
          "name": "stdout",
          "output_type": "stream",
          "text": [
            "Accuracy for alphabet Oriya: 0.2757\n"
          ]
        },
        {
          "name": "stderr",
          "output_type": "stream",
          "text": [
            " 80%|████████  | 16/20 [00:35<00:09,  2.43s/it]"
          ]
        },
        {
          "name": "stdout",
          "output_type": "stream",
          "text": [
            "Accuracy for alphabet Sylheti: 0.3120\n"
          ]
        },
        {
          "name": "stderr",
          "output_type": "stream",
          "text": [
            " 85%|████████▌ | 17/20 [00:36<00:06,  2.14s/it]"
          ]
        },
        {
          "name": "stdout",
          "output_type": "stream",
          "text": [
            "Accuracy for alphabet Syriac_(Serto): 0.4416\n"
          ]
        },
        {
          "name": "stderr",
          "output_type": "stream",
          "text": [
            " 90%|█████████ | 18/20 [00:38<00:03,  1.96s/it]"
          ]
        },
        {
          "name": "stdout",
          "output_type": "stream",
          "text": [
            "Accuracy for alphabet Tengwar: 0.3179\n"
          ]
        },
        {
          "name": "stderr",
          "output_type": "stream",
          "text": [
            " 95%|█████████▌| 19/20 [00:41<00:02,  2.20s/it]"
          ]
        },
        {
          "name": "stdout",
          "output_type": "stream",
          "text": [
            "Accuracy for alphabet Tibetan: 0.2794\n"
          ]
        },
        {
          "name": "stderr",
          "output_type": "stream",
          "text": [
            "100%|██████████| 20/20 [00:42<00:00,  2.14s/it]"
          ]
        },
        {
          "name": "stdout",
          "output_type": "stream",
          "text": [
            "Accuracy for alphabet ULOG: 0.4089\n"
          ]
        },
        {
          "name": "stderr",
          "output_type": "stream",
          "text": [
            "\n"
          ]
        },
        {
          "data": {
            "text/plain": [
              "0.3403881479115087"
            ]
          },
          "execution_count": 131,
          "metadata": {},
          "output_type": "execute_result"
        }
      ],
      "source": [
        "# Evaluate the rotation invariant triplet network\n",
        "accuracy_1_basic = evaluate_triplet_network(basic_triplet_network, data_dict_test_task2, preprocess, K=4, print_alphabet_accuracy=print_alphabet_accuracy)\n",
        "accuracy_1_basic"
      ]
    },
    {
      "cell_type": "code",
      "execution_count": 132,
      "id": "ad184496",
      "metadata": {},
      "outputs": [
        {
          "data": {
            "text/plain": [
              "<All keys matched successfully>"
            ]
          },
          "execution_count": 132,
          "metadata": {},
          "output_type": "execute_result"
        }
      ],
      "source": [
        "rotation_invariant_triplet_net = TripletNet(EquivariantEmbeddingNet()).to(DEVICE)\n",
        "rotation_invariant_triplet_net.load_state_dict(torch.load(main_dir + 'rotation_invariant_triplet_network.pth'))"
      ]
    },
    {
      "cell_type": "code",
      "execution_count": 133,
      "id": "fyGW7_9a0hg6",
      "metadata": {
        "id": "fyGW7_9a0hg6"
      },
      "outputs": [
        {
          "name": "stderr",
          "output_type": "stream",
          "text": [
            "  0%|          | 0/20 [00:00<?, ?it/s]"
          ]
        },
        {
          "name": "stderr",
          "output_type": "stream",
          "text": [
            "  5%|▌         | 1/20 [00:01<00:37,  1.95s/it]"
          ]
        },
        {
          "name": "stdout",
          "output_type": "stream",
          "text": [
            "Accuracy for alphabet Angelic: 0.7711\n"
          ]
        },
        {
          "name": "stderr",
          "output_type": "stream",
          "text": [
            " 10%|█         | 2/20 [00:04<00:38,  2.14s/it]"
          ]
        },
        {
          "name": "stdout",
          "output_type": "stream",
          "text": [
            "Accuracy for alphabet Atemayar_Qelisayer: 0.7368\n"
          ]
        },
        {
          "name": "stderr",
          "output_type": "stream",
          "text": [
            " 15%|█▌        | 3/20 [00:06<00:36,  2.17s/it]"
          ]
        },
        {
          "name": "stdout",
          "output_type": "stream",
          "text": [
            "Accuracy for alphabet Atlantean: 0.7672\n"
          ]
        },
        {
          "name": "stderr",
          "output_type": "stream",
          "text": [
            " 20%|██        | 4/20 [00:08<00:34,  2.16s/it]"
          ]
        },
        {
          "name": "stdout",
          "output_type": "stream",
          "text": [
            "Accuracy for alphabet Aurek-Besh: 0.8866\n"
          ]
        },
        {
          "name": "stderr",
          "output_type": "stream",
          "text": [
            " 25%|██▌       | 5/20 [00:10<00:33,  2.21s/it]"
          ]
        },
        {
          "name": "stdout",
          "output_type": "stream",
          "text": [
            "Accuracy for alphabet Avesta: 0.9231\n"
          ]
        },
        {
          "name": "stderr",
          "output_type": "stream",
          "text": [
            " 30%|███       | 6/20 [00:13<00:30,  2.19s/it]"
          ]
        },
        {
          "name": "stdout",
          "output_type": "stream",
          "text": [
            "Accuracy for alphabet Ge_ez: 0.7935\n"
          ]
        },
        {
          "name": "stderr",
          "output_type": "stream",
          "text": [
            " 35%|███▌      | 7/20 [00:16<00:34,  2.68s/it]"
          ]
        },
        {
          "name": "stdout",
          "output_type": "stream",
          "text": [
            "Accuracy for alphabet Glagolitic: 0.6199\n"
          ]
        },
        {
          "name": "stderr",
          "output_type": "stream",
          "text": [
            " 40%|████      | 8/20 [00:20<00:36,  3.04s/it]"
          ]
        },
        {
          "name": "stdout",
          "output_type": "stream",
          "text": [
            "Accuracy for alphabet Gurmukhi: 0.7111\n"
          ]
        },
        {
          "name": "stderr",
          "output_type": "stream",
          "text": [
            " 45%|████▌     | 9/20 [00:24<00:35,  3.19s/it]"
          ]
        },
        {
          "name": "stdout",
          "output_type": "stream",
          "text": [
            "Accuracy for alphabet Kannada: 0.6277\n"
          ]
        },
        {
          "name": "stderr",
          "output_type": "stream",
          "text": [
            " 50%|█████     | 10/20 [00:26<00:28,  2.88s/it]"
          ]
        },
        {
          "name": "stdout",
          "output_type": "stream",
          "text": [
            "Accuracy for alphabet Keble: 0.9291\n"
          ]
        },
        {
          "name": "stderr",
          "output_type": "stream",
          "text": [
            " 55%|█████▌    | 11/20 [00:30<00:29,  3.23s/it]"
          ]
        },
        {
          "name": "stdout",
          "output_type": "stream",
          "text": [
            "Accuracy for alphabet Malayalam: 0.6842\n"
          ]
        },
        {
          "name": "stderr",
          "output_type": "stream",
          "text": [
            " 60%|██████    | 12/20 [00:33<00:26,  3.37s/it]"
          ]
        },
        {
          "name": "stdout",
          "output_type": "stream",
          "text": [
            "Accuracy for alphabet Manipuri: 0.6026\n"
          ]
        },
        {
          "name": "stderr",
          "output_type": "stream",
          "text": [
            " 65%|██████▌   | 13/20 [00:36<00:22,  3.15s/it]"
          ]
        },
        {
          "name": "stdout",
          "output_type": "stream",
          "text": [
            "Accuracy for alphabet Mongolian: 0.8246\n"
          ]
        },
        {
          "name": "stderr",
          "output_type": "stream",
          "text": [
            " 70%|███████   | 14/20 [00:40<00:19,  3.32s/it]"
          ]
        },
        {
          "name": "stdout",
          "output_type": "stream",
          "text": [
            "Accuracy for alphabet Old_Church_Slavonic_(Cyrillic): 0.8585\n"
          ]
        },
        {
          "name": "stderr",
          "output_type": "stream",
          "text": [
            " 75%|███████▌  | 15/20 [00:44<00:17,  3.55s/it]"
          ]
        },
        {
          "name": "stdout",
          "output_type": "stream",
          "text": [
            "Accuracy for alphabet Oriya: 0.6007\n"
          ]
        },
        {
          "name": "stderr",
          "output_type": "stream",
          "text": [
            " 80%|████████  | 16/20 [00:46<00:12,  3.21s/it]"
          ]
        },
        {
          "name": "stdout",
          "output_type": "stream",
          "text": [
            "Accuracy for alphabet Sylheti: 0.6598\n"
          ]
        },
        {
          "name": "stderr",
          "output_type": "stream",
          "text": [
            " 85%|████████▌ | 17/20 [00:48<00:08,  2.84s/it]"
          ]
        },
        {
          "name": "stdout",
          "output_type": "stream",
          "text": [
            "Accuracy for alphabet Syriac_(Serto): 0.8330\n"
          ]
        },
        {
          "name": "stderr",
          "output_type": "stream",
          "text": [
            " 90%|█████████ | 18/20 [00:51<00:05,  2.67s/it]"
          ]
        },
        {
          "name": "stdout",
          "output_type": "stream",
          "text": [
            "Accuracy for alphabet Tengwar: 0.8316\n"
          ]
        },
        {
          "name": "stderr",
          "output_type": "stream",
          "text": [
            " 95%|█████████▌| 19/20 [00:54<00:03,  3.03s/it]"
          ]
        },
        {
          "name": "stdout",
          "output_type": "stream",
          "text": [
            "Accuracy for alphabet Tibetan: 0.7331\n"
          ]
        },
        {
          "name": "stderr",
          "output_type": "stream",
          "text": [
            "100%|██████████| 20/20 [00:57<00:00,  2.86s/it]"
          ]
        },
        {
          "name": "stdout",
          "output_type": "stream",
          "text": [
            "Accuracy for alphabet ULOG: 0.8381\n"
          ]
        },
        {
          "name": "stderr",
          "output_type": "stream",
          "text": [
            "\n"
          ]
        },
        {
          "data": {
            "text/plain": [
              "0.743950163724942"
            ]
          },
          "execution_count": 133,
          "metadata": {},
          "output_type": "execute_result"
        }
      ],
      "source": [
        "# Evaluate the rotation invariant triplet network\n",
        "accuracy_1_rotation = evaluate_triplet_network(rotation_invariant_triplet_net, data_dict_test_task2, preprocess, K=4, print_alphabet_accuracy=print_alphabet_accuracy)\n",
        "accuracy_1_rotation"
      ]
    },
    {
      "cell_type": "markdown",
      "id": "bfdbe34799376c36",
      "metadata": {
        "collapsed": false,
        "id": "bfdbe34799376c36"
      },
      "source": [
        "# Task 3: Domain knowledge injection"
      ]
    },
    {
      "cell_type": "code",
      "execution_count": 134,
      "id": "aa248dbece85da5c",
      "metadata": {
        "id": "aa248dbece85da5c"
      },
      "outputs": [
        {
          "name": "stdout",
          "output_type": "stream",
          "text": [
            "dict_keys(['unseen_images_labels', 'annotated_images_labels', 'unseen_images', 'annotated_images', 'unseen_images_preceding_types', 'character_to_type_mapping', 'type_following_probs'])\n"
          ]
        }
      ],
      "source": [
        "# load the test data for task 3:\n",
        "# the structure of the data of task 3 is exactly the same as for task 1, but now our the loaded dictionary contains some additional keys.\n",
        "# These additional keys will be explained in the cells below:\n",
        "\n",
        "data_dict_test_task3 = load_data(main_dir + 'data/test_data_task3.pkl')\n",
        "print(data_dict_test_task3.keys())"
      ]
    },
    {
      "cell_type": "code",
      "execution_count": 135,
      "id": "7fb6a6237a187493",
      "metadata": {
        "id": "7fb6a6237a187493"
      },
      "outputs": [],
      "source": [
        "# The keys 'annotated_images', 'annotated_images_labels', 'unseen_images', 'unseen_images_labels' are the same as for task 1, and the structure of the data is exactly the same.\n",
        "\n",
        "# The key 'unseen_images_preceding_types' maps to the type of the preceding character in the sequence where the unseen image was observed, for each alphabet.\n",
        "# The key 'character_to_type_mapping' maps to the mapping of each character to its type, for each alphabet.\n",
        "# The key 'type_following_probs' maps to the probabilities of each character type being followed by another character type, for each alphabet."
      ]
    },
    {
      "cell_type": "code",
      "execution_count": 70,
      "id": "7f707a7f",
      "metadata": {},
      "outputs": [
        {
          "data": {
            "text/plain": [
              "7"
            ]
          },
          "execution_count": 70,
          "metadata": {},
          "output_type": "execute_result"
        }
      ],
      "source": [
        "len(data_dict_test_task3)"
      ]
    },
    {
      "cell_type": "code",
      "execution_count": 71,
      "id": "ef9bcef5572f0a78",
      "metadata": {
        "id": "ef9bcef5572f0a78"
      },
      "outputs": [
        {
          "name": "stdout",
          "output_type": "stream",
          "text": [
            "Alphabet: Ge_ez\n",
            "Some character types that preceded unseen images from the Ge_ez alphabet: ['II' 'II' 'II' 'II' 'I']\n",
            "There are 494 preceding character types in the Ge_ez alphabet, and 494 unseen images.\n",
            "Type of character16 from the Ge_ez alphabet: I\n",
            "Probability of a character of type I following a character of type I in the Ge_ez alphabet: 0.5808383233532934\n"
          ]
        }
      ],
      "source": [
        "# examples:\n",
        "\n",
        "alphabet = np.random.choice(list(data_dict_test_task3['unseen_images_preceding_types'].keys()))\n",
        "print(f'Alphabet: {alphabet}')\n",
        "\n",
        "\n",
        "preceding_character_types_alphabet = data_dict_test_task3[\"unseen_images_preceding_types\"][alphabet]  # a list\n",
        "print(f'Some character types that preceded unseen images from the {alphabet} alphabet: {np.random.choice(preceding_character_types_alphabet, size=5)}')\n",
        "print(f'There are {len(preceding_character_types_alphabet)} preceding character types in the {alphabet} alphabet, and {len(data_dict_test_task3[\"unseen_images\"][alphabet])} unseen images.')\n",
        "\n",
        "\n",
        "character_to_type_mapping_alphabet = data_dict_test_task3[\"character_to_type_mapping\"][alphabet]\n",
        "# this is a dict, with as keys the characters and as values the types\n",
        "random_character = np.random.choice(list(character_to_type_mapping_alphabet.keys()))\n",
        "print(f'Type of {random_character} from the {alphabet} alphabet: {character_to_type_mapping_alphabet[random_character]}')\n",
        "\n",
        "\n",
        "\n",
        "type_following_probs_alphabet = data_dict_test_task3[\"type_following_probs\"][alphabet]  # a dict of dicts\n",
        "preceding_type = np.random.choice(list(type_following_probs_alphabet.keys()))\n",
        "following_type = np.random.choice(list(type_following_probs_alphabet[preceding_type].keys()))\n",
        "print(f'Probability of a character of type {following_type} following a character of type {preceding_type} in the {alphabet} alphabet: {type_following_probs_alphabet[preceding_type][following_type]}')\n"
      ]
    },
    {
      "cell_type": "code",
      "execution_count": 245,
      "id": "93ed574b",
      "metadata": {},
      "outputs": [
        {
          "data": {
            "text/plain": [
              "<All keys matched successfully>"
            ]
          },
          "execution_count": 245,
          "metadata": {},
          "output_type": "execute_result"
        }
      ],
      "source": [
        "probabilistic_triplet_network = TripletNet(EmbeddingNet()).to(DEVICE)\n",
        "probabilistic_triplet_network.load_state_dict(torch.load(main_dir + 'triplet_network_2.pth'))"
      ]
    },
    {
      "cell_type": "code",
      "execution_count": 278,
      "id": "da065d54",
      "metadata": {},
      "outputs": [],
      "source": [
        "# Function to adjust distances using sequence probabilities\n",
        "def adjust_distances_with_probabilities(distances, character_to_type, type_following_probs, preceding_type):\n",
        "    \"\"\"\n",
        "    Adjusts the distances using the sequence probabilities and adds the character class.\n",
        "\n",
        "    :param distances: List of distances between embeddings.\n",
        "    :param character_to_type: Mapping from character to type.\n",
        "    :param type_following_probs: Probabilities of character type following another type.\n",
        "    :param preceding_type: Type of the preceding character.\n",
        "    :return: List of adjusted distances, corresponding labels, and character types.\n",
        "    \"\"\"\n",
        "    min_distance = min(distances, key=lambda x: x[0])[0]\n",
        "    max_distance = max(distances, key=lambda x: x[0])[0]\n",
        "\n",
        "    adjusted_distances = []\n",
        "    for distance, label_annotated in distances:\n",
        "        # Normalize the distance between 0 and 1\n",
        "        normalized_distance = (distance - min_distance) / (max_distance - min_distance)\n",
        "        type_annotated = character_to_type[label_annotated]  # Get the type of the annotated character\n",
        "        following_probability = type_following_probs[preceding_type][type_annotated]\n",
        "        adjusted_score = normalized_distance * (1 / following_probability)  # Use inverse of probability for adjustment\n",
        "        adjusted_distances.append((adjusted_score, label_annotated, following_probability))\n",
        "\n",
        "    # Sort the list by the first element of the tuple (adjusted score)\n",
        "    adjusted_distances.sort(key=lambda x: x[0])\n",
        "\n",
        "    return adjusted_distances"
      ]
    },
    {
      "cell_type": "code",
      "execution_count": 279,
      "id": "18d39c8e",
      "metadata": {},
      "outputs": [],
      "source": [
        "# Evaluation method\n",
        "def evaluate_probabilistic_triplet_network(triplet_network, data_dict_test, preprocess, K=1, print_alphabet_accuracy=True, device=DEVICE):\n",
        "    \"\"\"\n",
        "    Evaluates the Triplet network on the test data.\n",
        "\n",
        "    :param triplet_network: The trained Triplet network.\n",
        "    :param data_dict_test: Dictionary with test data. Contains keys 'annotated_images', \n",
        "                           'annotated_images_labels', 'unseen_images', 'unseen_images_labels', \n",
        "                           'unseen_images_preceding_types', 'character_to_type_mapping', \n",
        "                           'type_following_probs'.\n",
        "    :param K: Number of most similar images to consider.\n",
        "    :param print_alphabet_accuracy: Flag to print accuracy for each alphabet.\n",
        "    :param device: Device to perform computations on ('cuda' or 'cpu').\n",
        "    :return: Overall accuracy of the network on the test data.\n",
        "    \"\"\"\n",
        "    triplet_network.eval()\n",
        "    correct_predictions = 0\n",
        "    num_images = 0\n",
        "    toPILImage = transforms.ToPILImage()\n",
        "\n",
        "    with torch.no_grad():\n",
        "        for alphabet in tqdm(data_dict_test['annotated_images'].keys()):\n",
        "            correct_predictions_alphabet = 0\n",
        "\n",
        "            annotated_images = data_dict_test['annotated_images'][alphabet]\n",
        "            annotated_labels = data_dict_test['annotated_images_labels'][alphabet]\n",
        "            annotated_embeddings = compute_embeddings(annotated_images, triplet_network, preprocess, toPILImage, device)\n",
        "\n",
        "            unseen_images = data_dict_test['unseen_images'][alphabet]\n",
        "            unseen_labels = data_dict_test['unseen_images_labels'][alphabet]\n",
        "            preceding_types = data_dict_test['unseen_images_preceding_types'][alphabet]\n",
        "            character_to_type = data_dict_test['character_to_type_mapping'][alphabet]\n",
        "            type_following_probs = data_dict_test['type_following_probs'][alphabet]\n",
        "\n",
        "            for i, unseen_image in enumerate(unseen_images):\n",
        "                preceding_type = preceding_types[i]\n",
        "\n",
        "                embedding_unseen = compute_embeddings([unseen_image], triplet_network, preprocess, toPILImage, device)\n",
        "\n",
        "                distances = F.pairwise_distance(embedding_unseen, annotated_embeddings)\n",
        "                distances = list(zip(distances.cpu().numpy(), annotated_labels))\n",
        "\n",
        "                adjusted_distances = adjust_distances_with_probabilities(distances, character_to_type, type_following_probs, preceding_type)\n",
        "\n",
        "                top_k_labels = [label for _, label, _ in adjusted_distances[:K]]\n",
        "\n",
        "                actual_label = unseen_labels[i]\n",
        "                if actual_label in top_k_labels:\n",
        "                    correct_predictions += 1\n",
        "                    correct_predictions_alphabet += 1\n",
        "                num_images += 1\n",
        "\n",
        "            accuracy_alphabet = correct_predictions_alphabet / len(unseen_images)\n",
        "            if print_alphabet_accuracy:\n",
        "                print(f\"Accuracy for alphabet {alphabet}: {accuracy_alphabet:.4f}\")\n",
        "\n",
        "    accuracy = correct_predictions / num_images\n",
        "    return accuracy\n"
      ]
    },
    {
      "cell_type": "code",
      "execution_count": 280,
      "id": "42d46e71207afe47",
      "metadata": {
        "id": "42d46e71207afe47"
      },
      "outputs": [
        {
          "name": "stderr",
          "output_type": "stream",
          "text": [
            "  5%|▌         | 1/20 [00:01<00:29,  1.54s/it]"
          ]
        },
        {
          "name": "stdout",
          "output_type": "stream",
          "text": [
            "Accuracy for alphabet Angelic: 0.9737\n"
          ]
        },
        {
          "name": "stderr",
          "output_type": "stream",
          "text": [
            "C:\\Users\\Utente\\AppData\\Local\\Temp\\ipykernel_11252\\1712646981.py:21: RuntimeWarning: divide by zero encountered in scalar divide\n",
            "  adjusted_score = normalized_distance * (1 / following_probability)  # Use inverse of probability for adjustment\n",
            "C:\\Users\\Utente\\AppData\\Local\\Temp\\ipykernel_11252\\1712646981.py:21: RuntimeWarning: invalid value encountered in scalar multiply\n",
            "  adjusted_score = normalized_distance * (1 / following_probability)  # Use inverse of probability for adjustment\n",
            " 10%|█         | 2/20 [00:03<00:27,  1.54s/it]"
          ]
        },
        {
          "name": "stdout",
          "output_type": "stream",
          "text": [
            "Accuracy for alphabet Atemayar_Qelisayer: 0.9352\n"
          ]
        },
        {
          "name": "stderr",
          "output_type": "stream",
          "text": [
            " 15%|█▌        | 3/20 [00:04<00:28,  1.67s/it]"
          ]
        },
        {
          "name": "stdout",
          "output_type": "stream",
          "text": [
            "Accuracy for alphabet Atlantean: 0.9636\n"
          ]
        },
        {
          "name": "stderr",
          "output_type": "stream",
          "text": [
            " 20%|██        | 4/20 [00:06<00:26,  1.63s/it]"
          ]
        },
        {
          "name": "stdout",
          "output_type": "stream",
          "text": [
            "Accuracy for alphabet Aurek-Besh: 0.9453\n"
          ]
        },
        {
          "name": "stderr",
          "output_type": "stream",
          "text": [
            " 25%|██▌       | 5/20 [00:07<00:23,  1.59s/it]"
          ]
        },
        {
          "name": "stdout",
          "output_type": "stream",
          "text": [
            "Accuracy for alphabet Avesta: 0.9676\n"
          ]
        },
        {
          "name": "stderr",
          "output_type": "stream",
          "text": [
            " 30%|███       | 6/20 [00:09<00:22,  1.58s/it]"
          ]
        },
        {
          "name": "stdout",
          "output_type": "stream",
          "text": [
            "Accuracy for alphabet Ge_ez: 0.9696\n"
          ]
        },
        {
          "name": "stderr",
          "output_type": "stream",
          "text": [
            " 35%|███▌      | 7/20 [00:12<00:25,  1.94s/it]"
          ]
        },
        {
          "name": "stdout",
          "output_type": "stream",
          "text": [
            "Accuracy for alphabet Glagolitic: 0.9029\n"
          ]
        },
        {
          "name": "stderr",
          "output_type": "stream",
          "text": [
            " 40%|████      | 8/20 [00:14<00:25,  2.16s/it]"
          ]
        },
        {
          "name": "stdout",
          "output_type": "stream",
          "text": [
            "Accuracy for alphabet Gurmukhi: 0.9111\n"
          ]
        },
        {
          "name": "stderr",
          "output_type": "stream",
          "text": [
            " 45%|████▌     | 9/20 [00:17<00:24,  2.24s/it]"
          ]
        },
        {
          "name": "stdout",
          "output_type": "stream",
          "text": [
            "Accuracy for alphabet Kannada: 0.8665\n"
          ]
        },
        {
          "name": "stderr",
          "output_type": "stream",
          "text": [
            " 50%|█████     | 10/20 [00:18<00:20,  2.02s/it]"
          ]
        },
        {
          "name": "stdout",
          "output_type": "stream",
          "text": [
            "Accuracy for alphabet Keble: 0.9818\n"
          ]
        },
        {
          "name": "stderr",
          "output_type": "stream",
          "text": [
            " 55%|█████▌    | 11/20 [00:21<00:21,  2.34s/it]"
          ]
        },
        {
          "name": "stdout",
          "output_type": "stream",
          "text": [
            "Accuracy for alphabet Malayalam: 0.8891\n"
          ]
        },
        {
          "name": "stderr",
          "output_type": "stream",
          "text": [
            " 60%|██████    | 12/20 [00:24<00:18,  2.35s/it]"
          ]
        },
        {
          "name": "stdout",
          "output_type": "stream",
          "text": [
            "Accuracy for alphabet Manipuri: 0.8500\n"
          ]
        },
        {
          "name": "stderr",
          "output_type": "stream",
          "text": [
            " 65%|██████▌   | 13/20 [00:25<00:15,  2.15s/it]"
          ]
        },
        {
          "name": "stdout",
          "output_type": "stream",
          "text": [
            "Accuracy for alphabet Mongolian: 0.9667\n"
          ]
        },
        {
          "name": "stderr",
          "output_type": "stream",
          "text": [
            " 70%|███████   | 14/20 [00:28<00:13,  2.31s/it]"
          ]
        },
        {
          "name": "stdout",
          "output_type": "stream",
          "text": [
            "Accuracy for alphabet Old_Church_Slavonic_(Cyrillic): 0.9602\n"
          ]
        },
        {
          "name": "stderr",
          "output_type": "stream",
          "text": [
            " 75%|███████▌  | 15/20 [00:31<00:12,  2.50s/it]"
          ]
        },
        {
          "name": "stdout",
          "output_type": "stream",
          "text": [
            "Accuracy for alphabet Oriya: 0.7277\n"
          ]
        },
        {
          "name": "stderr",
          "output_type": "stream",
          "text": [
            " 80%|████████  | 16/20 [00:33<00:08,  2.24s/it]"
          ]
        },
        {
          "name": "stdout",
          "output_type": "stream",
          "text": [
            "Accuracy for alphabet Sylheti: 0.8515\n"
          ]
        },
        {
          "name": "stderr",
          "output_type": "stream",
          "text": [
            " 85%|████████▌ | 17/20 [00:34<00:05,  1.98s/it]"
          ]
        },
        {
          "name": "stdout",
          "output_type": "stream",
          "text": [
            "Accuracy for alphabet Syriac_(Serto): 0.9039\n"
          ]
        },
        {
          "name": "stderr",
          "output_type": "stream",
          "text": [
            " 90%|█████████ | 18/20 [00:36<00:03,  1.83s/it]"
          ]
        },
        {
          "name": "stdout",
          "output_type": "stream",
          "text": [
            "Accuracy for alphabet Tengwar: 0.9368\n"
          ]
        },
        {
          "name": "stderr",
          "output_type": "stream",
          "text": [
            " 95%|█████████▌| 19/20 [00:38<00:02,  2.11s/it]"
          ]
        },
        {
          "name": "stdout",
          "output_type": "stream",
          "text": [
            "Accuracy for alphabet Tibetan: 0.9674\n"
          ]
        },
        {
          "name": "stderr",
          "output_type": "stream",
          "text": [
            "100%|██████████| 20/20 [00:40<00:00,  2.02s/it]"
          ]
        },
        {
          "name": "stdout",
          "output_type": "stream",
          "text": [
            "Accuracy for alphabet ULOG: 0.6822\n"
          ]
        },
        {
          "name": "stderr",
          "output_type": "stream",
          "text": [
            "\n"
          ]
        },
        {
          "data": {
            "text/plain": [
              "0.9019247663924607"
            ]
          },
          "execution_count": 280,
          "metadata": {},
          "output_type": "execute_result"
        }
      ],
      "source": [
        "evaluate_probabilistic_triplet_network(probabilistic_triplet_network, data_dict_test_task3, preprocess, K=4, print_alphabet_accuracy=print_alphabet_accuracy)"
      ]
    }
  ],
  "metadata": {
    "accelerator": "GPU",
    "colab": {
      "gpuType": "T4",
      "provenance": []
    },
    "kernelspec": {
      "display_name": "Python 3",
      "name": "python3"
    },
    "language_info": {
      "codemirror_mode": {
        "name": "ipython",
        "version": 3
      },
      "file_extension": ".py",
      "mimetype": "text/x-python",
      "name": "python",
      "nbconvert_exporter": "python",
      "pygments_lexer": "ipython3",
      "version": "3.9.8"
    }
  },
  "nbformat": 4,
  "nbformat_minor": 5
}
